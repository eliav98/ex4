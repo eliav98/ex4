{
 "cells": [
  {
   "cell_type": "code",
   "execution_count": 85,
   "metadata": {
    "collapsed": true
   },
   "outputs": [],
   "source": [
    "import nltk\n",
    "from nltk.corpus import dependency_treebank\n",
    "import graphviz\n",
    "import os\n",
    "import random\n",
    "random.seed(10)\n",
    "os.environ[\"PATH\"] += os.pathsep + r'C:\\Program Files\\Graphviz\\bin'"
   ]
  },
  {
   "cell_type": "code",
   "execution_count": 86,
   "outputs": [],
   "source": [
    "import numpy as np"
   ],
   "metadata": {
    "collapsed": false,
    "pycharm": {
     "name": "#%%\n"
    }
   }
  },
  {
   "cell_type": "code",
   "execution_count": 87,
   "outputs": [
    {
     "name": "stderr",
     "output_type": "stream",
     "text": [
      "[nltk_data] Downloading package dependency_treebank to\n",
      "[nltk_data]     C:\\Users\\eliav\\AppData\\Roaming\\nltk_data...\n",
      "[nltk_data]   Package dependency_treebank is already up-to-date!\n"
     ]
    },
    {
     "data": {
      "text/plain": "True"
     },
     "execution_count": 87,
     "metadata": {},
     "output_type": "execute_result"
    }
   ],
   "source": [
    "nltk.download('dependency_treebank')"
   ],
   "metadata": {
    "collapsed": false,
    "pycharm": {
     "name": "#%%\n"
    }
   }
  },
  {
   "cell_type": "code",
   "execution_count": 88,
   "outputs": [],
   "source": [
    "from collections import Counter, defaultdict, namedtuple\n",
    "from networkx import DiGraph"
   ],
   "metadata": {
    "collapsed": false,
    "pycharm": {
     "name": "#%%\n"
    }
   }
  },
  {
   "cell_type": "code",
   "execution_count": 89,
   "outputs": [
    {
     "name": "stdout",
     "output_type": "stream",
     "text": [
      "train size = 3523, test size = 391, total = 3914\n"
     ]
    }
   ],
   "source": [
    "sentences = dependency_treebank.parsed_sents()\n",
    "k = len(sentences)//10\n",
    "train, test = sentences[:-k], sentences[-k:]\n",
    "random.shuffle(train)\n",
    "print(f\"train size = {len(train)}, test size = {len(test)}, total = {len(train) + len(test)}\")"
   ],
   "metadata": {
    "collapsed": false,
    "pycharm": {
     "name": "#%%\n"
    }
   }
  },
  {
   "cell_type": "code",
   "execution_count": 90,
   "outputs": [
    {
     "data": {
      "text/plain": "(3523, 391, 3914, 3914)"
     },
     "execution_count": 90,
     "metadata": {},
     "output_type": "execute_result"
    }
   ],
   "source": [
    "len(train), len(test), len(test) + len(train), len(sentences)"
   ],
   "metadata": {
    "collapsed": false,
    "pycharm": {
     "name": "#%%\n"
    }
   }
  },
  {
   "cell_type": "code",
   "execution_count": 91,
   "outputs": [
    {
     "name": "stdout",
     "output_type": "stream",
     "text": [
      "11968 46\n"
     ]
    }
   ],
   "source": [
    "vocab = Counter()\n",
    "pos_tags = Counter()\n",
    "for dg in sentences:\n",
    "    for i, node in dg.nodes.items():\n",
    "        w = str(node['word'])\n",
    "        pos = node['tag']\n",
    "        # print(w, pos)\n",
    "        # for f in dic:\n",
    "        #     if f(w):\n",
    "        #         print(node['tag'])\n",
    "        #         w = dic[f]\n",
    "        # vocab.add(str(w).lower())\n",
    "        vocab[w] += 1\n",
    "        # if not w.isalpha() and '_' not in w:\n",
    "        #     print(w)\n",
    "        pos_tags[pos] += 1\n",
    "print(len(vocab), len(pos_tags))"
   ],
   "metadata": {
    "collapsed": false,
    "pycharm": {
     "name": "#%%\n"
    }
   }
  },
  {
   "cell_type": "code",
   "execution_count": 92,
   "outputs": [
    {
     "data": {
      "text/plain": "Counter({('will', 'Vinken'): 1,\n         ('MD', 'NNP'): 1,\n         ('Vinken', 'Pierre'): 1,\n         ('NNP', 'NNP'): 1,\n         ('Vinken', ','): 2,\n         ('NNP', ','): 2,\n         ('Vinken', 'old'): 1,\n         ('NNP', 'JJ'): 1,\n         ('old', 'years'): 1,\n         ('JJ', 'NNS'): 1,\n         ('years', '61'): 1,\n         ('NNS', 'CD'): 1,\n         ('will', 'join'): 1,\n         ('MD', 'VB'): 1,\n         ('join', 'board'): 1,\n         ('VB', 'NN'): 1,\n         ('board', 'the'): 1,\n         ('NN', 'DT'): 2,\n         ('join', 'as'): 1,\n         ('VB', 'IN'): 1,\n         ('as', 'director'): 1,\n         ('IN', 'NN'): 1,\n         ('director', 'a'): 1,\n         ('director', 'nonexecutive'): 1,\n         ('NN', 'JJ'): 1,\n         ('join', 'Nov.'): 1,\n         ('VB', 'NNP'): 1,\n         ('Nov.', '29'): 1,\n         ('NNP', 'CD'): 1,\n         ('will', '.'): 1,\n         ('MD', '.'): 1})"
     },
     "execution_count": 92,
     "metadata": {},
     "output_type": "execute_result"
    }
   ],
   "source": [
    "from collections import Counter\n",
    "\n",
    "def tree_to_counter(triples, lr=1):\n",
    "    c = Counter()\n",
    "    for x in triples:\n",
    "        z = zip(x[0], x[-1])\n",
    "        for i in range(lr):\n",
    "            c.update(z)\n",
    "    return c\n",
    "tree_to_counter(sentences[0].triples())"
   ],
   "metadata": {
    "collapsed": false,
    "pycharm": {
     "name": "#%%\n"
    }
   }
  },
  {
   "cell_type": "code",
   "execution_count": 93,
   "outputs": [],
   "source": [
    "def score(features, weights):\n",
    "    score = 0\n",
    "    for f in features:\n",
    "        score += weights[f]\n",
    "    return score"
   ],
   "metadata": {
    "collapsed": false,
    "pycharm": {
     "name": "#%%\n"
    }
   }
  },
  {
   "cell_type": "code",
   "execution_count": 94,
   "outputs": [],
   "source": [
    "from networkx.drawing.nx_agraph import write_dot, read_dot\n",
    "\n",
    "def nx_graph_to_dot(G):\n",
    "    write_dot(G, r'C:\\Users\\eliav\\PycharmProjects\\NLP\\ex4\\blah.gv')\n",
    "    return read_dot(r'C:\\Users\\eliav\\PycharmProjects\\NLP\\ex4\\blah.gv')"
   ],
   "metadata": {
    "collapsed": false,
    "pycharm": {
     "name": "#%%\n"
    }
   }
  },
  {
   "cell_type": "code",
   "execution_count": 95,
   "outputs": [],
   "source": [
    "from Chu_Liu_Edmonds_algorithm import min_spanning_arborescence_nx\n",
    "from networkx import minimum_spanning_arborescence\n",
    "from nltk.parse import DependencyGraph\n",
    "import pygraphviz\n",
    "from networkx.drawing.nx_agraph import to_agraph\n",
    "import time\n",
    "\n",
    "def MST_helper(lr=1, max_iter=2):\n",
    "    c = Counter()\n",
    "    sum_c = Counter()\n",
    "    num_empty_G, st = 0, time.time()\n",
    "    for r in range(max_iter):\n",
    "        for i, dg in enumerate(train):\n",
    "            Arc = namedtuple(\"Arc\", \"head tail weight\")\n",
    "            arcs = [Arc(u,v,score(zip(u, v), c)) for u, _, v in dg.triples()]\n",
    "            G = DiGraph()\n",
    "            for arc in arcs:\n",
    "                G.add_edge(arc.head, arc.tail, weight=arc.weight)\n",
    "            if not len(G):\n",
    "                num_empty_G += 1\n",
    "                continue\n",
    "            T_prime = minimum_spanning_arborescence(G)\n",
    "            c += tree_to_counter(dg.triples(), lr) - tree_to_counter(T_prime.edges, lr)\n",
    "            sum_c += c\n",
    "    et = time.time()\n",
    "    print(f\"runtime: {et - st} seconds\\n\"\n",
    "          f\"encountered {num_empty_G} empty graphs out of {max_iter*len(train)}\")\n",
    "    return sum_c"
   ],
   "metadata": {
    "collapsed": false,
    "pycharm": {
     "name": "#%%\n"
    }
   }
  },
  {
   "cell_type": "code",
   "execution_count": 96,
   "outputs": [],
   "source": [
    "# mst_counter = MST_helper()\n",
    "# mst_counter"
   ],
   "metadata": {
    "collapsed": false,
    "pycharm": {
     "name": "#%%\n"
    }
   }
  },
  {
   "cell_type": "code",
   "execution_count": 97,
   "outputs": [
    {
     "name": "stdout",
     "output_type": "stream",
     "text": [
      "runtime: 28.21900177001953 seconds\n",
      "encountered 2 empty graphs out of 7046\n"
     ]
    }
   ],
   "source": [
    "def MST(lr=1, max_iter=2):\n",
    "    mst = MST_helper(lr, max_iter)\n",
    "    for key in mst:\n",
    "        mst[key] /= max_iter*len(train)\n",
    "    return mst\n",
    "mst_counter = MST()"
   ],
   "metadata": {
    "collapsed": false,
    "pycharm": {
     "name": "#%%\n"
    }
   }
  },
  {
   "cell_type": "code",
   "execution_count": 98,
   "outputs": [
    {
     "data": {
      "text/plain": "[3, 1, 2]"
     },
     "execution_count": 98,
     "metadata": {},
     "output_type": "execute_result"
    }
   ],
   "source": [
    "lst = [1,2,3]\n",
    "random.shuffle(lst)\n",
    "lst"
   ],
   "metadata": {
    "collapsed": false,
    "pycharm": {
     "name": "#%%\n"
    }
   }
  },
  {
   "cell_type": "code",
   "execution_count": 99,
   "outputs": [
    {
     "data": {
      "text/plain": "5292"
     },
     "execution_count": 99,
     "metadata": {},
     "output_type": "execute_result"
    }
   ],
   "source": [
    "len(mst_counter)"
   ],
   "metadata": {
    "collapsed": false,
    "pycharm": {
     "name": "#%%\n"
    }
   }
  },
  {
   "cell_type": "code",
   "execution_count": 100,
   "outputs": [
    {
     "name": "stdout",
     "output_type": "stream",
     "text": [
      "digraph G{\n",
      "edge [dir=forward]\n",
      "node [shape=plaintext]\n",
      "\n",
      "0 [label=\"0 (None)\"]\n",
      "0 -> 8 [label=\"ROOT\"]\n",
      "1 [label=\"1 (Pierre)\"]\n",
      "2 [label=\"2 (Vinken)\"]\n",
      "2 -> 1 [label=\"\"]\n",
      "2 -> 3 [label=\"\"]\n",
      "2 -> 6 [label=\"\"]\n",
      "2 -> 7 [label=\"\"]\n",
      "3 [label=\"3 (,)\"]\n",
      "4 [label=\"4 (61)\"]\n",
      "5 [label=\"5 (years)\"]\n",
      "5 -> 4 [label=\"\"]\n",
      "6 [label=\"6 (old)\"]\n",
      "6 -> 5 [label=\"\"]\n",
      "7 [label=\"7 (,)\"]\n",
      "8 [label=\"8 (will)\"]\n",
      "8 -> 2 [label=\"\"]\n",
      "8 -> 9 [label=\"\"]\n",
      "8 -> 18 [label=\"\"]\n",
      "9 [label=\"9 (join)\"]\n",
      "9 -> 11 [label=\"\"]\n",
      "9 -> 12 [label=\"\"]\n",
      "9 -> 16 [label=\"\"]\n",
      "10 [label=\"10 (the)\"]\n",
      "11 [label=\"11 (board)\"]\n",
      "11 -> 10 [label=\"\"]\n",
      "12 [label=\"12 (as)\"]\n",
      "12 -> 15 [label=\"\"]\n",
      "13 [label=\"13 (a)\"]\n",
      "14 [label=\"14 (nonexecutive)\"]\n",
      "15 [label=\"15 (director)\"]\n",
      "15 -> 13 [label=\"\"]\n",
      "15 -> 14 [label=\"\"]\n",
      "16 [label=\"16 (Nov.)\"]\n",
      "16 -> 17 [label=\"\"]\n",
      "17 [label=\"17 (29)\"]\n",
      "18 [label=\"18 (.)\"]\n",
      "}\n"
     ]
    }
   ],
   "source": [
    "dg = sentences[0]\n",
    "dot = dg.to_dot()\n",
    "print(dot)\n",
    "src = graphviz.Source(dot)\n",
    "# dot.render('sent0-dep-treebank.gv', view=True)\n",
    "# doctest_mark_exe()\n",
    "# src.render('sent0-dep-treebank.gv', view=True).replace('\\\\', '/')"
   ],
   "metadata": {
    "collapsed": false,
    "pycharm": {
     "name": "#%%\n"
    }
   }
  },
  {
   "cell_type": "code",
   "execution_count": 101,
   "outputs": [
    {
     "name": "stdout",
     "output_type": "stream",
     "text": [
      "(will, MD), , (Vinken, NNP)\n",
      "(Vinken, NNP), , (Pierre, NNP)\n",
      "(Vinken, NNP), , (,, ,)\n",
      "(Vinken, NNP), , (old, JJ)\n",
      "(old, JJ), , (years, NNS)\n",
      "(years, NNS), , (61, CD)\n",
      "(Vinken, NNP), , (,, ,)\n",
      "(will, MD), , (join, VB)\n",
      "(join, VB), , (board, NN)\n",
      "(board, NN), , (the, DT)\n",
      "(join, VB), , (as, IN)\n",
      "(as, IN), , (director, NN)\n",
      "(director, NN), , (a, DT)\n",
      "(director, NN), , (nonexecutive, JJ)\n",
      "(join, VB), , (Nov., NNP)\n",
      "(Nov., NNP), , (29, CD)\n",
      "(will, MD), , (., .)\n",
      "(is, VBZ), , (Vinken, NNP)\n",
      "(Vinken, NNP), , (Mr., NNP)\n",
      "(is, VBZ), , (chairman, NN)\n",
      "(chairman, NN), , (of, IN)\n",
      "(of, IN), , (group, NN)\n",
      "(group, NN), , (N.V., NNP)\n",
      "(N.V., NNP), , (Elsevier, NNP)\n",
      "(group, NN), , (,, ,)\n",
      "(group, NN), , (the, DT)\n",
      "(group, NN), , (Dutch, NNP)\n",
      "(group, NN), , (publishing, VBG)\n",
      "(is, VBZ), , (., .)\n",
      "(was, VBD), , (Agnew, NNP)\n",
      "(Agnew, NNP), , (Rudolph, NNP)\n",
      "(Agnew, NNP), , (,, ,)\n",
      "(Agnew, NNP), , (old, JJ)\n",
      "(old, JJ), , (years, NNS)\n",
      "(years, NNS), , (55, CD)\n",
      "(old, JJ), , (and, CC)\n",
      "(old, JJ), , (chairman, NN)\n",
      "(chairman, NN), , (former, JJ)\n",
      "(chairman, NN), , (of, IN)\n",
      "(of, IN), , (PLC, NNP)\n",
      "(PLC, NNP), , (Consolidated, NNP)\n",
      "(PLC, NNP), , (Gold, NNP)\n",
      "(PLC, NNP), , (Fields, NNP)\n",
      "(Agnew, NNP), , (,, ,)\n",
      "(was, VBD), , (named, VBN)\n",
      "(named, VBN), , (director, NN)\n",
      "(director, NN), , (a, DT)\n",
      "(director, NN), , (nonexecutive, JJ)\n",
      "(director, NN), , (of, IN)\n",
      "(of, IN), , (conglomerate, NN)\n",
      "(conglomerate, NN), , (this, DT)\n",
      "(conglomerate, NN), , (British, JJ)\n",
      "(conglomerate, NN), , (industrial, JJ)\n",
      "(was, VBD), , (., .)\n",
      "(reported, VBD), , (has, VBZ)\n",
      "(has, VBZ), , (form, NN)\n",
      "(form, NN), , (A, DT)\n",
      "(form, NN), , (of, IN)\n",
      "(of, IN), , (asbestos, NN)\n",
      "(form, NN), , (used, VBN)\n",
      "(used, VBN), , (once, RB)\n",
      "(used, VBN), , (make, VB)\n",
      "(make, VB), , (to, TO)\n",
      "(make, VB), , (filters, NNS)\n",
      "(filters, NNS), , (Kent, NNP)\n",
      "(filters, NNS), , (cigarette, NN)\n",
      "(has, VBZ), , (caused, VBN)\n",
      "(caused, VBN), , (percentage, NN)\n",
      "(percentage, NN), , (a, DT)\n",
      "(percentage, NN), , (high, JJ)\n",
      "(percentage, NN), , (of, IN)\n",
      "(of, IN), , (deaths, NNS)\n",
      "(deaths, NNS), , (cancer, NN)\n",
      "(percentage, NN), , (among, IN)\n",
      "(among, IN), , (group, NN)\n",
      "(group, NN), , (a, DT)\n",
      "(group, NN), , (of, IN)\n",
      "(of, IN), , (workers, NNS)\n",
      "(workers, NNS), , (exposed, VBN)\n",
      "(exposed, VBN), , (to, TO)\n",
      "(to, TO), , (it, PRP)\n",
      "(exposed, VBN), , (ago, IN)\n",
      "(ago, IN), , (years, NNS)\n",
      "(years, NNS), , (than, IN)\n",
      "(than, IN), , (more, RBR)\n",
      "(than, IN), , (30, CD)\n",
      "(reported, VBD), , (,, ,)\n",
      "(reported, VBD), , (researchers, NNS)\n",
      "(reported, VBD), , (., .)\n",
      "(said, VBD), , (is, VBZ)\n",
      "(is, VBZ), , (crocidolite, NN)\n",
      "(crocidolite, NN), , (fiber, NN)\n",
      "(fiber, NN), , (The, DT)\n",
      "(fiber, NN), , (asbestos, NN)\n",
      "(crocidolite, NN), , (,, ,)\n",
      "(crocidolite, NN), , (,, ,)\n",
      "(is, VBZ), , (resilient, JJ)\n",
      "(resilient, JJ), , (unusually, RB)\n",
      "(is, VBZ), , (once, IN)\n",
      "(once, IN), , (enters, VBZ)\n",
      "(enters, VBZ), , (it, PRP)\n",
      "(enters, VBZ), , (lungs, NNS)\n",
      "(lungs, NNS), , (the, DT)\n",
      "(is, VBZ), , (,, ,)\n",
      "(is, VBZ), , (with, IN)\n",
      "(with, IN), , (causing, VBG)\n",
      "(causing, VBG), , (exposures, NNS)\n",
      "(exposures, NNS), , (even, RB)\n",
      "(exposures, NNS), , (brief, JJ)\n",
      "(exposures, NNS), , (to, TO)\n",
      "(to, TO), , (it, PRP)\n",
      "(causing, VBG), , (symptoms, NNS)\n",
      "(symptoms, NNS), , (that, WDT)\n",
      "(that, WDT), , (show, VBP)\n",
      "(show, VBP), , (up, RP)\n",
      "(show, VBP), , (later, JJ)\n",
      "(later, JJ), , (decades, NNS)\n",
      "(said, VBD), , (,, ,)\n",
      "(said, VBD), , (researchers, NNS)\n",
      "(said, VBD), , (., .)\n",
      "(stopped, VBD), , (unit, NN)\n",
      "(unit, NN), , (Inc., NNP)\n",
      "(Inc., NNP), , (Lorillard, NNP)\n",
      "(unit, NN), , (,, ,)\n",
      "(unit, NN), , (the, DT)\n",
      "(unit, NN), , (of, IN)\n",
      "(of, IN), , (Corp., NNP)\n",
      "(Corp., NNP), , (York-based, JJ)\n",
      "(York-based, JJ), , (New, JJ)\n",
      "(Corp., NNP), , (Loews, NNP)\n",
      "(unit, NN), , (that, WDT)\n",
      "(that, WDT), , (makes, VBZ)\n",
      "(makes, VBZ), , (cigarettes, NNS)\n",
      "(cigarettes, NNS), , (Kent, NNP)\n",
      "(unit, NN), , (,, ,)\n",
      "(stopped, VBD), , (using, VBG)\n",
      "(using, VBG), , (crocidolite, NN)\n",
      "(using, VBG), , (in, IN)\n",
      "(in, IN), , (filters, NNS)\n",
      "(filters, NNS), , (its, PRP$)\n",
      "(filters, NNS), , (Micronite, NN)\n",
      "(filters, NNS), , (cigarette, NN)\n",
      "(using, VBG), , (in, IN)\n",
      "(in, IN), , (1956, CD)\n",
      "(stopped, VBD), , (., .)\n",
      "(appear, VBP), , (Although, IN)\n",
      "(Although, IN), , (were, VBD)\n",
      "(were, VBD), , (findings, NNS)\n",
      "(findings, NNS), , (preliminary, JJ)\n",
      "(were, VBD), , (reported, VBN)\n",
      "(reported, VBN), , (ago, IN)\n",
      "(ago, IN), , (year, NN)\n",
      "(year, NN), , (than, IN)\n",
      "(than, IN), , (more, RBR)\n",
      "(than, IN), , (a, DT)\n",
      "(appear, VBP), , (,, ,)\n",
      "(appear, VBP), , (results, NNS)\n",
      "(results, NNS), , (the, DT)\n",
      "(results, NNS), , (latest, JJS)\n",
      "(appear, VBP), , (in, IN)\n",
      "(in, IN), , (forum, NN)\n",
      "(forum, NN), , (Journal, NNP)\n",
      "(Journal, NNP), , ('s, POS)\n",
      "('s, POS), , (today, NN)\n",
      "(Journal, NNP), , (New, NNP)\n",
      "(Journal, NNP), , (England, NNP)\n",
      "(Journal, NNP), , (of, IN)\n",
      "(of, IN), , (Medicine, NNP)\n",
      "(forum, NN), , (,, ,)\n",
      "(forum, NN), , (a, DT)\n",
      "(forum, NN), , (likely, JJ)\n",
      "(likely, JJ), , (bring, VB)\n",
      "(bring, VB), , (to, TO)\n",
      "(bring, VB), , (attention, NN)\n",
      "(attention, NN), , (new, JJ)\n",
      "(bring, VB), , (to, TO)\n",
      "(to, TO), , (problem, NN)\n",
      "(problem, NN), , (the, DT)\n",
      "(appear, VBP), , (., .)\n",
      "(said, VBD), , (spokewoman, NN)\n",
      "(spokewoman, NN), , (A, DT)\n",
      "(spokewoman, NN), , (Lorillard, NNP)\n",
      "(said, VBD), , (,, ,)\n",
      "(said, VBD), , (``, ``)\n",
      "(said, VBD), , (is, VBZ)\n",
      "(is, VBZ), , (This, DT)\n",
      "(is, VBZ), , (story, NN)\n",
      "(story, NN), , (an, DT)\n",
      "(story, NN), , (old, JJ)\n",
      "(said, VBD), , (., .)\n",
      "('re, VBP), , (We, PRP)\n",
      "('re, VBP), , (talking, VBG)\n",
      "(talking, VBG), , (about, IN)\n",
      "(about, IN), , (ago, IN)\n",
      "(ago, IN), , (years, NNS)\n",
      "(ago, IN), , (before, IN)\n",
      "(before, IN), , (heard, VBD)\n",
      "(heard, VBD), , (anyone, NN)\n",
      "(heard, VBD), , (of, IN)\n",
      "(of, IN), , (having, VBG)\n",
      "(having, VBG), , (asbestos, NN)\n",
      "(having, VBG), , (properties, NNS)\n",
      "(properties, NNS), , (any, DT)\n",
      "(properties, NNS), , (questionable, JJ)\n",
      "('re, VBP), , (., .)\n",
      "(is, VBZ), , (There, EX)\n",
      "(is, VBZ), , (asbestos, NN)\n",
      "(asbestos, NN), , (no, DT)\n",
      "(is, VBZ), , (in, IN)\n",
      "(in, IN), , (products, NNS)\n",
      "(products, NNS), , (our, PRP$)\n",
      "(is, VBZ), , (now, RB)\n",
      "(is, VBZ), , (., .)\n",
      "(is, VBZ), , ('', '')\n"
     ]
    }
   ],
   "source": [
    "for dg in sentences[:10]:\n",
    "    for head, rel, dep in dg.triples():\n",
    "        print('({h[0]}, {h[1]}), {r}, ({d[0]}, {d[1]})'\n",
    "              .format(h=head, r=rel, d=dep))"
   ],
   "metadata": {
    "collapsed": false,
    "pycharm": {
     "name": "#%%\n"
    }
   }
  },
  {
   "cell_type": "code",
   "execution_count": 102,
   "outputs": [],
   "source": [
    "def view_tree(dg):\n",
    "    src = graphviz.Source(dg.to_dot)\n",
    "    src.render('sent-dep-treebank.gv', view=True).replace('\\\\', '/')"
   ],
   "metadata": {
    "collapsed": false,
    "pycharm": {
     "name": "#%%\n"
    }
   }
  },
  {
   "cell_type": "code",
   "execution_count": 103,
   "outputs": [
    {
     "data": {
      "text/plain": "[(('is', 'VBZ'), '', ('There', 'EX')),\n (('is', 'VBZ'), '', ('asbestos', 'NN')),\n (('asbestos', 'NN'), '', ('no', 'DT')),\n (('is', 'VBZ'), '', ('in', 'IN')),\n (('in', 'IN'), '', ('products', 'NNS')),\n (('products', 'NNS'), '', ('our', 'PRP$')),\n (('is', 'VBZ'), '', ('now', 'RB')),\n (('is', 'VBZ'), '', ('.', '.')),\n (('is', 'VBZ'), '', (\"''\", \"''\"))]"
     },
     "execution_count": 103,
     "metadata": {},
     "output_type": "execute_result"
    }
   ],
   "source": [
    "list(dg.triples())"
   ],
   "metadata": {
    "collapsed": false,
    "pycharm": {
     "name": "#%%\n"
    }
   }
  },
  {
   "cell_type": "code",
   "execution_count": 104,
   "outputs": [
    {
     "data": {
      "text/plain": "5292"
     },
     "execution_count": 104,
     "metadata": {},
     "output_type": "execute_result"
    }
   ],
   "source": [
    "len(mst_counter)"
   ],
   "metadata": {
    "collapsed": false,
    "pycharm": {
     "name": "#%%\n"
    }
   }
  },
  {
   "cell_type": "code",
   "execution_count": 105,
   "outputs": [
    {
     "name": "stdout",
     "output_type": "stream",
     "text": [
      "(will\n",
      "  (Vinken Pierre , (old (years 61)) ,)\n",
      "  (join (board the) (as (director a nonexecutive)) (Nov. 29))\n",
      "  .)\n",
      "None\n"
     ]
    }
   ],
   "source": [
    "print(sentences[0].tree().pprint())"
   ],
   "metadata": {
    "collapsed": false,
    "pycharm": {
     "name": "#%%\n"
    }
   }
  },
  {
   "cell_type": "code",
   "execution_count": 106,
   "outputs": [
    {
     "data": {
      "text/plain": "<generator object DependencyGraph.triples at 0x000001EB8AD9A270>"
     },
     "execution_count": 106,
     "metadata": {},
     "output_type": "execute_result"
    }
   ],
   "source": [
    "dg.triples()"
   ],
   "metadata": {
    "collapsed": false,
    "pycharm": {
     "name": "#%%\n"
    }
   }
  },
  {
   "cell_type": "code",
   "execution_count": 107,
   "outputs": [
    {
     "name": "stdout",
     "output_type": "stream",
     "text": [
      "(will, MD), , (Vinken, NNP)\n",
      "(Vinken, NNP), , (Pierre, NNP)\n",
      "(Vinken, NNP), , (,, ,)\n",
      "(Vinken, NNP), , (old, JJ)\n",
      "(old, JJ), , (years, NNS)\n",
      "(years, NNS), , (61, CD)\n",
      "(Vinken, NNP), , (,, ,)\n",
      "(will, MD), , (join, VB)\n",
      "(join, VB), , (board, NN)\n",
      "(board, NN), , (the, DT)\n",
      "(join, VB), , (as, IN)\n",
      "(as, IN), , (director, NN)\n",
      "(director, NN), , (a, DT)\n",
      "(director, NN), , (nonexecutive, JJ)\n",
      "(join, VB), , (Nov., NNP)\n",
      "(Nov., NNP), , (29, CD)\n",
      "(will, MD), , (., .)\n",
      "(is, VBZ), , (Vinken, NNP)\n",
      "(Vinken, NNP), , (Mr., NNP)\n",
      "(is, VBZ), , (chairman, NN)\n",
      "(chairman, NN), , (of, IN)\n",
      "(of, IN), , (group, NN)\n",
      "(group, NN), , (N.V., NNP)\n",
      "(N.V., NNP), , (Elsevier, NNP)\n",
      "(group, NN), , (,, ,)\n",
      "(group, NN), , (the, DT)\n",
      "(group, NN), , (Dutch, NNP)\n",
      "(group, NN), , (publishing, VBG)\n",
      "(is, VBZ), , (., .)\n",
      "(was, VBD), , (Agnew, NNP)\n",
      "(Agnew, NNP), , (Rudolph, NNP)\n",
      "(Agnew, NNP), , (,, ,)\n",
      "(Agnew, NNP), , (old, JJ)\n",
      "(old, JJ), , (years, NNS)\n",
      "(years, NNS), , (55, CD)\n",
      "(old, JJ), , (and, CC)\n",
      "(old, JJ), , (chairman, NN)\n",
      "(chairman, NN), , (former, JJ)\n",
      "(chairman, NN), , (of, IN)\n",
      "(of, IN), , (PLC, NNP)\n",
      "(PLC, NNP), , (Consolidated, NNP)\n",
      "(PLC, NNP), , (Gold, NNP)\n",
      "(PLC, NNP), , (Fields, NNP)\n",
      "(Agnew, NNP), , (,, ,)\n",
      "(was, VBD), , (named, VBN)\n",
      "(named, VBN), , (director, NN)\n",
      "(director, NN), , (a, DT)\n",
      "(director, NN), , (nonexecutive, JJ)\n",
      "(director, NN), , (of, IN)\n",
      "(of, IN), , (conglomerate, NN)\n",
      "(conglomerate, NN), , (this, DT)\n",
      "(conglomerate, NN), , (British, JJ)\n",
      "(conglomerate, NN), , (industrial, JJ)\n",
      "(was, VBD), , (., .)\n",
      "(reported, VBD), , (has, VBZ)\n",
      "(has, VBZ), , (form, NN)\n",
      "(form, NN), , (A, DT)\n",
      "(form, NN), , (of, IN)\n",
      "(of, IN), , (asbestos, NN)\n",
      "(form, NN), , (used, VBN)\n",
      "(used, VBN), , (once, RB)\n",
      "(used, VBN), , (make, VB)\n",
      "(make, VB), , (to, TO)\n",
      "(make, VB), , (filters, NNS)\n",
      "(filters, NNS), , (Kent, NNP)\n",
      "(filters, NNS), , (cigarette, NN)\n",
      "(has, VBZ), , (caused, VBN)\n",
      "(caused, VBN), , (percentage, NN)\n",
      "(percentage, NN), , (a, DT)\n",
      "(percentage, NN), , (high, JJ)\n",
      "(percentage, NN), , (of, IN)\n",
      "(of, IN), , (deaths, NNS)\n",
      "(deaths, NNS), , (cancer, NN)\n",
      "(percentage, NN), , (among, IN)\n",
      "(among, IN), , (group, NN)\n",
      "(group, NN), , (a, DT)\n",
      "(group, NN), , (of, IN)\n",
      "(of, IN), , (workers, NNS)\n",
      "(workers, NNS), , (exposed, VBN)\n",
      "(exposed, VBN), , (to, TO)\n",
      "(to, TO), , (it, PRP)\n",
      "(exposed, VBN), , (ago, IN)\n",
      "(ago, IN), , (years, NNS)\n",
      "(years, NNS), , (than, IN)\n",
      "(than, IN), , (more, RBR)\n",
      "(than, IN), , (30, CD)\n",
      "(reported, VBD), , (,, ,)\n",
      "(reported, VBD), , (researchers, NNS)\n",
      "(reported, VBD), , (., .)\n",
      "(said, VBD), , (is, VBZ)\n",
      "(is, VBZ), , (crocidolite, NN)\n",
      "(crocidolite, NN), , (fiber, NN)\n",
      "(fiber, NN), , (The, DT)\n",
      "(fiber, NN), , (asbestos, NN)\n",
      "(crocidolite, NN), , (,, ,)\n",
      "(crocidolite, NN), , (,, ,)\n",
      "(is, VBZ), , (resilient, JJ)\n",
      "(resilient, JJ), , (unusually, RB)\n",
      "(is, VBZ), , (once, IN)\n",
      "(once, IN), , (enters, VBZ)\n",
      "(enters, VBZ), , (it, PRP)\n",
      "(enters, VBZ), , (lungs, NNS)\n",
      "(lungs, NNS), , (the, DT)\n",
      "(is, VBZ), , (,, ,)\n",
      "(is, VBZ), , (with, IN)\n",
      "(with, IN), , (causing, VBG)\n",
      "(causing, VBG), , (exposures, NNS)\n",
      "(exposures, NNS), , (even, RB)\n",
      "(exposures, NNS), , (brief, JJ)\n",
      "(exposures, NNS), , (to, TO)\n",
      "(to, TO), , (it, PRP)\n",
      "(causing, VBG), , (symptoms, NNS)\n",
      "(symptoms, NNS), , (that, WDT)\n",
      "(that, WDT), , (show, VBP)\n",
      "(show, VBP), , (up, RP)\n",
      "(show, VBP), , (later, JJ)\n",
      "(later, JJ), , (decades, NNS)\n",
      "(said, VBD), , (,, ,)\n",
      "(said, VBD), , (researchers, NNS)\n",
      "(said, VBD), , (., .)\n",
      "(stopped, VBD), , (unit, NN)\n",
      "(unit, NN), , (Inc., NNP)\n",
      "(Inc., NNP), , (Lorillard, NNP)\n",
      "(unit, NN), , (,, ,)\n",
      "(unit, NN), , (the, DT)\n",
      "(unit, NN), , (of, IN)\n",
      "(of, IN), , (Corp., NNP)\n",
      "(Corp., NNP), , (York-based, JJ)\n",
      "(York-based, JJ), , (New, JJ)\n",
      "(Corp., NNP), , (Loews, NNP)\n",
      "(unit, NN), , (that, WDT)\n",
      "(that, WDT), , (makes, VBZ)\n",
      "(makes, VBZ), , (cigarettes, NNS)\n",
      "(cigarettes, NNS), , (Kent, NNP)\n",
      "(unit, NN), , (,, ,)\n",
      "(stopped, VBD), , (using, VBG)\n",
      "(using, VBG), , (crocidolite, NN)\n",
      "(using, VBG), , (in, IN)\n",
      "(in, IN), , (filters, NNS)\n",
      "(filters, NNS), , (its, PRP$)\n",
      "(filters, NNS), , (Micronite, NN)\n",
      "(filters, NNS), , (cigarette, NN)\n",
      "(using, VBG), , (in, IN)\n",
      "(in, IN), , (1956, CD)\n",
      "(stopped, VBD), , (., .)\n",
      "(appear, VBP), , (Although, IN)\n",
      "(Although, IN), , (were, VBD)\n",
      "(were, VBD), , (findings, NNS)\n",
      "(findings, NNS), , (preliminary, JJ)\n",
      "(were, VBD), , (reported, VBN)\n",
      "(reported, VBN), , (ago, IN)\n",
      "(ago, IN), , (year, NN)\n",
      "(year, NN), , (than, IN)\n",
      "(than, IN), , (more, RBR)\n",
      "(than, IN), , (a, DT)\n",
      "(appear, VBP), , (,, ,)\n",
      "(appear, VBP), , (results, NNS)\n",
      "(results, NNS), , (the, DT)\n",
      "(results, NNS), , (latest, JJS)\n",
      "(appear, VBP), , (in, IN)\n",
      "(in, IN), , (forum, NN)\n",
      "(forum, NN), , (Journal, NNP)\n",
      "(Journal, NNP), , ('s, POS)\n",
      "('s, POS), , (today, NN)\n",
      "(Journal, NNP), , (New, NNP)\n",
      "(Journal, NNP), , (England, NNP)\n",
      "(Journal, NNP), , (of, IN)\n",
      "(of, IN), , (Medicine, NNP)\n",
      "(forum, NN), , (,, ,)\n",
      "(forum, NN), , (a, DT)\n",
      "(forum, NN), , (likely, JJ)\n",
      "(likely, JJ), , (bring, VB)\n",
      "(bring, VB), , (to, TO)\n",
      "(bring, VB), , (attention, NN)\n",
      "(attention, NN), , (new, JJ)\n",
      "(bring, VB), , (to, TO)\n",
      "(to, TO), , (problem, NN)\n",
      "(problem, NN), , (the, DT)\n",
      "(appear, VBP), , (., .)\n",
      "(said, VBD), , (spokewoman, NN)\n",
      "(spokewoman, NN), , (A, DT)\n",
      "(spokewoman, NN), , (Lorillard, NNP)\n",
      "(said, VBD), , (,, ,)\n",
      "(said, VBD), , (``, ``)\n",
      "(said, VBD), , (is, VBZ)\n",
      "(is, VBZ), , (This, DT)\n",
      "(is, VBZ), , (story, NN)\n",
      "(story, NN), , (an, DT)\n",
      "(story, NN), , (old, JJ)\n",
      "(said, VBD), , (., .)\n",
      "('re, VBP), , (We, PRP)\n",
      "('re, VBP), , (talking, VBG)\n",
      "(talking, VBG), , (about, IN)\n",
      "(about, IN), , (ago, IN)\n",
      "(ago, IN), , (years, NNS)\n",
      "(ago, IN), , (before, IN)\n",
      "(before, IN), , (heard, VBD)\n",
      "(heard, VBD), , (anyone, NN)\n",
      "(heard, VBD), , (of, IN)\n",
      "(of, IN), , (having, VBG)\n",
      "(having, VBG), , (asbestos, NN)\n",
      "(having, VBG), , (properties, NNS)\n",
      "(properties, NNS), , (any, DT)\n",
      "(properties, NNS), , (questionable, JJ)\n",
      "('re, VBP), , (., .)\n",
      "(is, VBZ), , (There, EX)\n",
      "(is, VBZ), , (asbestos, NN)\n",
      "(asbestos, NN), , (no, DT)\n",
      "(is, VBZ), , (in, IN)\n",
      "(in, IN), , (products, NNS)\n",
      "(products, NNS), , (our, PRP$)\n",
      "(is, VBZ), , (now, RB)\n",
      "(is, VBZ), , (., .)\n",
      "(is, VBZ), , ('', '')\n"
     ]
    }
   ],
   "source": [
    "for dg in sentences[:10]:\n",
    "    for head, rel, dep in dg.triples():\n",
    "        print('({h[0]}, {h[1]}), {r}, ({d[0]}, {d[1]})'\n",
    "              .format(h=head, r=rel, d=dep))"
   ],
   "metadata": {
    "collapsed": false,
    "pycharm": {
     "name": "#%%\n"
    }
   }
  },
  {
   "cell_type": "code",
   "execution_count": 108,
   "outputs": [],
   "source": [
    "two_digit_num = lambda w: w.isnumeric() and len(w) == 2\n",
    "\n",
    "four_digit_num = lambda w: w.isnumeric() and len(w) == 4\n",
    "\n",
    "def decorated_contains(char):\n",
    "  def contains_digit_and_char(w):\n",
    "    ret = char in w\n",
    "    for c in w:\n",
    "      if c.isnumeric():\n",
    "        return ret\n",
    "    return False\n",
    "  return contains_digit_and_char\n",
    "\n",
    "contains_digit_and_dash = decorated_contains('-')\n",
    "contains_digit_and_comma = decorated_contains(',')\n",
    "contains_digit_and_period = decorated_contains('.')\n",
    "contains_digit_and_slash = decorated_contains('/')\n",
    "\n",
    "all_caps = lambda w: 'all_caps' if w.isupper() else False\n",
    "othernum = lambda w: 'othernum' if w.isnumeric() else False\n",
    "not_anum = lambda w: 'not_anum' if not w.isalnum() else False\n",
    "cap_period = lambda w:\"cap_period\" if  len(w) == 2 and w.isupper() and w[1] == '.' else False\n",
    "init_cap = lambda w: 'init_cap' if w[0].isupper() and all(a.isalpha() and a.islower() for a in w[1:]) else False\n",
    "lowercase = lambda w: 'lowercase' if w.isalpha() and w.islower() else False\n",
    "other = lambda w: True"
   ],
   "metadata": {
    "collapsed": false,
    "pycharm": {
     "name": "#%%\n"
    }
   }
  },
  {
   "cell_type": "code",
   "execution_count": 109,
   "outputs": [],
   "source": [
    "dic = {two_digit_num: 'two_digit_num',\n",
    "     four_digit_num:'four_digit_num',\n",
    "     contains_digit_and_dash:'contains_digit_and_dash',\n",
    "     contains_digit_and_comma:'contains_digit_and_comma',\n",
    "     contains_digit_and_period:'contains_digit_and_period',\n",
    "     contains_digit_and_slash:'contains_digit_and_slash',\n",
    "     all_caps:'all_caps',\n",
    "     othernum:'othernum',\n",
    "     not_anum:\"not_anum\",\n",
    "     cap_period:\"cap_period\",\n",
    "     init_cap:\"init_cap\"}\n",
    "\n"
   ],
   "metadata": {
    "collapsed": false,
    "pycharm": {
     "name": "#%%\n"
    }
   }
  },
  {
   "cell_type": "code",
   "execution_count": 110,
   "outputs": [],
   "source": [
    "vocab = set()\n",
    "pos_tags = set()\n",
    "for dg in sentences:\n",
    "    for i, node in dg.nodes.items():\n",
    "        w = str(node['word'])\n",
    "        pos = node['tag']\n",
    "        # print(w, pos)\n",
    "        # for f in dic:\n",
    "        #     if f(w):\n",
    "        #         print(node['tag'])\n",
    "        #         w = dic[f]\n",
    "        # vocab.add(str(w).lower())\n",
    "        vocab.add(str(w))\n",
    "        # if not w.isalpha() and '_' not in w:\n",
    "        #     print(w)\n",
    "        pos_tags.add(pos)\n",
    "# vocab\n",
    "# pos_tags\n",
    "# vocab"
   ],
   "metadata": {
    "collapsed": false,
    "pycharm": {
     "name": "#%%\n"
    }
   }
  },
  {
   "cell_type": "code",
   "execution_count": 111,
   "outputs": [
    {
     "data": {
      "text/plain": "11968"
     },
     "execution_count": 111,
     "metadata": {},
     "output_type": "execute_result"
    }
   ],
   "source": [
    "len(vocab)"
   ],
   "metadata": {
    "collapsed": false,
    "pycharm": {
     "name": "#%%\n"
    }
   }
  },
  {
   "cell_type": "code",
   "execution_count": 112,
   "outputs": [],
   "source": [
    "d = len(vocab)*len(vocab) + len(pos_tags)**2"
   ],
   "metadata": {
    "collapsed": false,
    "pycharm": {
     "name": "#%%\n"
    }
   }
  },
  {
   "cell_type": "code",
   "execution_count": 113,
   "outputs": [
    {
     "data": {
      "text/plain": "array([0., 0., 0., ..., 0., 0., 0.])"
     },
     "execution_count": 113,
     "metadata": {},
     "output_type": "execute_result"
    }
   ],
   "source": [
    "vec = np.zeros(d)\n",
    "vec"
   ],
   "metadata": {
    "collapsed": false,
    "pycharm": {
     "name": "#%%\n"
    }
   }
  },
  {
   "cell_type": "code",
   "execution_count": 114,
   "outputs": [
    {
     "data": {
      "text/plain": "{('gallium', 'gallium'): 1,\n ('gallium', 'Mac'): 2,\n ('gallium', 'complicate'): 3,\n ('gallium', 'driver'): 4,\n ('gallium', 'Mehta'): 5,\n ('gallium', 'Deane'): 6,\n ('gallium', 'citizen'): 7,\n ('gallium', '2.65'): 8,\n ('gallium', 'varied'): 9,\n ('gallium', 'dean'): 10,\n ('gallium', 'Nissho-Iwai'): 11,\n ('gallium', 'Del'): 12,\n ('gallium', 'authorized'): 13,\n ('gallium', 'Grgich'): 14,\n ('gallium', '8.04'): 15,\n ('gallium', '234.4'): 16,\n ('gallium', 'diversify'): 17,\n ('gallium', 'celebrate'): 18,\n ('gallium', 'Sierra'): 19,\n ('gallium', 'Pencil'): 20,\n ('gallium', 'Though'): 21,\n ('gallium', 'Frankfurt'): 22,\n ('gallium', 'ratified'): 23,\n ('gallium', 'inverted'): 24,\n ('gallium', 'Improvement'): 25,\n ('gallium', 'casts'): 26,\n ('gallium', 'hair'): 27,\n ('gallium', 'frozen'): 28,\n ('gallium', '6.4'): 29,\n ('gallium', '139'): 30,\n ('gallium', 'offense'): 31,\n ('gallium', 'Filter'): 32,\n ('gallium', '90'): 33,\n ('gallium', 'P.'): 34,\n ('gallium', '1,880'): 35,\n ('gallium', 'old'): 36,\n ('gallium', 'straight'): 37,\n ('gallium', 'Shell'): 38,\n ('gallium', 'DeFazio'): 39,\n ('gallium', 'protracted'): 40,\n ('gallium', 'category'): 41,\n ('gallium', 'Sloan'): 42,\n ('gallium', '57.50'): 43,\n ('gallium', 'inflationary'): 44,\n ('gallium', 'LANDOR'): 45,\n ('gallium', 'generators'): 46,\n ('gallium', 'tete-a-tete'): 47,\n ('gallium', 'Herbert'): 48,\n ('gallium', 'asserts'): 49,\n ('gallium', 'Personal'): 50,\n ('gallium', 'seasonally'): 51,\n ('gallium', 'persuade'): 52,\n ('gallium', 'Management'): 53,\n ('gallium', 'place'): 54,\n ('gallium', 'phrase'): 55,\n ('gallium', 'official'): 56,\n ('gallium', 'Population'): 57,\n ('gallium', 'indeed'): 58,\n ('gallium', 'hormone'): 59,\n ('gallium', 'equally'): 60,\n ('gallium', 'Achievement'): 61,\n ('gallium', 'pretty'): 62,\n ('gallium', 'gloss'): 63,\n ('gallium', 'charge'): 64,\n ('gallium', 'headrests'): 65,\n ('gallium', 'modification'): 66,\n ('gallium', 'elusive'): 67,\n ('gallium', 'inches'): 68,\n ('gallium', 'Issues'): 69,\n ('gallium', 'Mike'): 70,\n ('gallium', 'designation'): 71,\n ('gallium', 'speculation'): 72,\n ('gallium', 'Handelsbanken'): 73,\n ('gallium', 'Clive'): 74,\n ('gallium', 'renovated'): 75,\n ('gallium', 'experts'): 76,\n ('gallium', 'stands'): 77,\n ('gallium', 'card'): 78,\n ('gallium', 'retirement'): 79,\n ('gallium', 'constitutional'): 80,\n ('gallium', 'injury'): 81,\n ('gallium', 'ENDED'): 82,\n ('gallium', 'participation'): 83,\n ('gallium', 'Tony'): 84,\n ('gallium', 'shareholder'): 85,\n ('gallium', 'prosecutor'): 86,\n ('gallium', 'aiming'): 87,\n ('gallium', 'Billings'): 88,\n ('gallium', 'violations'): 89,\n ('gallium', 'minority'): 90,\n ('gallium', 'blocked'): 91,\n ('gallium', '8.47'): 92,\n ('gallium', 'sophisticated'): 93,\n ('gallium', 'Labor'): 94,\n ('gallium', 'unraveling'): 95,\n ('gallium', 'Heidelberg'): 96,\n ('gallium', 'compelling'): 97,\n ('gallium', 'judgment'): 98,\n ('gallium', 'vagabond'): 99,\n ('gallium', 'export-oriented'): 100,\n ('gallium', 'Harris'): 101,\n ('gallium', 'concentrate'): 102,\n ('gallium', 'consecutive'): 103,\n ('gallium', 'sweater'): 104,\n ('gallium', 'LSI'): 105,\n ('gallium', 'Laurence'): 106,\n ('gallium', 'soul'): 107,\n ('gallium', 'Susan'): 108,\n ('gallium', 'study'): 109,\n ('gallium', 'Sauternes'): 110,\n ('gallium', 'sensational'): 111,\n ('gallium', 'condemned'): 112,\n ('gallium', 'releases'): 113,\n ('gallium', 'bell-ringing'): 114,\n ('gallium', 'Nationwide'): 115,\n ('gallium', 'moments'): 116,\n ('gallium', 'economist'): 117,\n ('gallium', 'diming'): 118,\n ('gallium', 'Perhaps'): 119,\n ('gallium', '9.45'): 120,\n ('gallium', 'marketing'): 121,\n ('gallium', 'Mayor'): 122,\n ('gallium', 'index-fund'): 123,\n ('gallium', '4'): 124,\n ('gallium', 'glitches'): 125,\n ('gallium', 'put'): 126,\n ('gallium', 'Against'): 127,\n ('gallium', 'Civil'): 128,\n ('gallium', 'ninth'): 129,\n ('gallium', 'Risks'): 130,\n ('gallium', 'sectors'): 131,\n ('gallium', 'drug'): 132,\n ('gallium', 'regimented'): 133,\n ('gallium', 'editions'): 134,\n ('gallium', 'Bridges'): 135,\n ('gallium', 'rifles'): 136,\n ('gallium', 'tasty'): 137,\n ('gallium', 'weeks'): 138,\n ('gallium', 'posing'): 139,\n ('gallium', 'LONDON'): 140,\n ('gallium', 'denial'): 141,\n ('gallium', 'Platt'): 142,\n ('gallium', 'doling'): 143,\n ('gallium', 'morale-damaging'): 144,\n ('gallium', 'suitors'): 145,\n ('gallium', 'Reached'): 146,\n ('gallium', 'omnipresent'): 147,\n ('gallium', 'discontinue'): 148,\n ('gallium', 'affect'): 149,\n ('gallium', 'windfall'): 150,\n ('gallium', 'seriously'): 151,\n ('gallium', 'holder'): 152,\n ('gallium', 'Notes'): 153,\n ('gallium', 'machine-gun-toting'): 154,\n ('gallium', 'abridging'): 155,\n ('gallium', 'audience'): 156,\n ('gallium', 'doctrine'): 157,\n ('gallium', 'O.'): 158,\n ('gallium', 'Close'): 159,\n ('gallium', 'stretched'): 160,\n ('gallium', 'Investment'): 161,\n ('gallium', 'rolling'): 162,\n ('gallium', 'FAX'): 163,\n ('gallium', '3,500'): 164,\n ('gallium', '8.75'): 165,\n ('gallium', 'good-hearted'): 166,\n ('gallium', 'crowd'): 167,\n ('gallium', 'Ancient'): 168,\n ('gallium', 'direction'): 169,\n ('gallium', 'held'): 170,\n ('gallium', 'holidays'): 171,\n ('gallium', 'Shuxian'): 172,\n ('gallium', '24.95'): 173,\n ('gallium', 'marketplace'): 174,\n ('gallium', 'chase'): 175,\n ('gallium', 'Dollar'): 176,\n ('gallium', 'Probably'): 177,\n ('gallium', 'accommodations'): 178,\n ('gallium', '35.2'): 179,\n ('gallium', 'readings'): 180,\n ('gallium', 'dry'): 181,\n ('gallium', 'commitments'): 182,\n ('gallium', 'fourth'): 183,\n ('gallium', 'confrontational'): 184,\n ('gallium', 'Edge'): 185,\n ('gallium', 'tension'): 186,\n ('gallium', 'captivating'): 187,\n ('gallium', 'males'): 188,\n ('gallium', 'Pretax'): 189,\n ('gallium', 'rising'): 190,\n ('gallium', '25'): 191,\n ('gallium', 'fits'): 192,\n ('gallium', 'estimates'): 193,\n ('gallium', 'report'): 194,\n ('gallium', 'microphone'): 195,\n ('gallium', 'photocopy'): 196,\n ('gallium', '5.70'): 197,\n ('gallium', 'Supportive'): 198,\n ('gallium', 'Lynch'): 199,\n ('gallium', 'mega-stadium'): 200,\n ('gallium', 'Jerry'): 201,\n ('gallium', 'days'): 202,\n ('gallium', 'playful'): 203,\n ('gallium', 'wonder'): 204,\n ('gallium', 'hard-hitting'): 205,\n ('gallium', 'anticipation'): 206,\n ('gallium', 'Norwick'): 207,\n ('gallium', 'unjust'): 208,\n ('gallium', 'full-time'): 209,\n ('gallium', 'Morrison'): 210,\n ('gallium', 'malignant'): 211,\n ('gallium', 'Fuji'): 212,\n ('gallium', 'nowhere'): 213,\n ('gallium', 'Guinea'): 214,\n ('gallium', 'jumping'): 215,\n ('gallium', 'openings'): 216,\n ('gallium', 'dismiss'): 217,\n ('gallium', 'example'): 218,\n ('gallium', '63-year-old'): 219,\n ('gallium', 'Contracts'): 220,\n ('gallium', 'votes'): 221,\n ('gallium', 'charged'): 222,\n ('gallium', 'producer'): 223,\n ('gallium', 'Chicago-style'): 224,\n ('gallium', 'productivity'): 225,\n ('gallium', 'male'): 226,\n ('gallium', 'banquet'): 227,\n ('gallium', 'boutique'): 228,\n ('gallium', 'Mass.'): 229,\n ('gallium', '62.625'): 230,\n ('gallium', 'Teddy'): 231,\n ('gallium', 'effect'): 232,\n ('gallium', 'Per-share'): 233,\n ('gallium', 'favors'): 234,\n ('gallium', 'busloads'): 235,\n ('gallium', 'lawyer'): 236,\n ('gallium', '1.18'): 237,\n ('gallium', 'columns'): 238,\n ('gallium', 'seeing'): 239,\n ('gallium', 'smokers'): 240,\n ('gallium', 'precedent'): 241,\n ('gallium', 'nonrecurring'): 242,\n ('gallium', 'Africa'): 243,\n ('gallium', 'agenda'): 244,\n ('gallium', 'executive-office'): 245,\n ('gallium', 'radio-station'): 246,\n ('gallium', 'Lowe'): 247,\n ('gallium', 'brushed'): 248,\n ('gallium', 'equip'): 249,\n ('gallium', 'arbitrage'): 250,\n ('gallium', 'useful'): 251,\n ('gallium', '1'): 252,\n ('gallium', 'departments'): 253,\n ('gallium', 'Arnold'): 254,\n ('gallium', 'amounts'): 255,\n ('gallium', 'string'): 256,\n ('gallium', 'voices'): 257,\n ('gallium', 'communications'): 258,\n ('gallium', 'Arthur'): 259,\n ('gallium', 'citation'): 260,\n ('gallium', 'Phoenix'): 261,\n ('gallium', '1980s'): 262,\n ('gallium', 'residential'): 263,\n ('gallium', 'crushed'): 264,\n ('gallium', 'apologize'): 265,\n ('gallium', 'overdone'): 266,\n ('gallium', 'electronic'): 267,\n ('gallium', 'Angier'): 268,\n ('gallium', 'Lead'): 269,\n ('gallium', 'lion'): 270,\n ('gallium', 'recovered'): 271,\n ('gallium', 'boosting'): 272,\n ('gallium', 'finding'): 273,\n ('gallium', '23'): 274,\n ('gallium', 'across'): 275,\n ('gallium', 'vindication'): 276,\n ('gallium', '377.60'): 277,\n ('gallium', 'drinking'): 278,\n ('gallium', 'Hadson'): 279,\n ('gallium', 'curtail'): 280,\n ('gallium', 'Lindner'): 281,\n ('gallium', 'any'): 282,\n ('gallium', 'Housing'): 283,\n ('gallium', 'beat'): 284,\n ('gallium', 'Because'): 285,\n ('gallium', 'Alysia'): 286,\n ('gallium', 'rallying'): 287,\n ('gallium', 'our'): 288,\n ('gallium', 'aide'): 289,\n ('gallium', 'instrument'): 290,\n ('gallium', 'one-newspaper'): 291,\n ('gallium', 'Derek'): 292,\n ('gallium', 'news'): 293,\n ('gallium', 'petition'): 294,\n ('gallium', 'railings'): 295,\n ('gallium', 'assistance'): 296,\n ('gallium', 'command'): 297,\n ('gallium', 'minutes'): 298,\n ('gallium', 'discussing'): 299,\n ('gallium', 'dust-up'): 300,\n ('gallium', 'supports'): 301,\n ('gallium', 'Island'): 302,\n ('gallium', 'responds'): 303,\n ('gallium', 'secret'): 304,\n ('gallium', 'cheapest'): 305,\n ('gallium', 'Energy'): 306,\n ('gallium', 'Kansas'): 307,\n ('gallium', 'patented'): 308,\n ('gallium', 'disk'): 309,\n ('gallium', 'familiar'): 310,\n ('gallium', 'unfettered'): 311,\n ('gallium', 'marching'): 312,\n ('gallium', 'visits'): 313,\n ('gallium', 'dwindling'): 314,\n ('gallium', 'superpremiums'): 315,\n ('gallium', 'essays'): 316,\n ('gallium', '150-point'): 317,\n ('gallium', 'justice'): 318,\n ('gallium', 'rules'): 319,\n ('gallium', 'reins'): 320,\n ('gallium', 'Opus'): 321,\n ('gallium', 'use'): 322,\n ('gallium', 'spurns'): 323,\n ('gallium', 'Photograph'): 324,\n ('gallium', 'reinstating'): 325,\n ('gallium', 'Guild'): 326,\n ('gallium', 'subsequent'): 327,\n ('gallium', 'slide'): 328,\n ('gallium', 'downtown'): 329,\n ('gallium', 'dissemination'): 330,\n ('gallium', 'Foundation'): 331,\n ('gallium', 'adapted'): 332,\n ('gallium', 'son'): 333,\n ('gallium', 'Source'): 334,\n ('gallium', 'Jimmy'): 335,\n ('gallium', 'worst'): 336,\n ('gallium', 'at'): 337,\n ('gallium', 'Stamford'): 338,\n ('gallium', 'invention'): 339,\n ('gallium', 'galling'): 340,\n ('gallium', 'Funded'): 341,\n ('gallium', 'Pratt'): 342,\n ('gallium', 'ancient'): 343,\n ('gallium', 'dancing'): 344,\n ('gallium', 'calculations'): 345,\n ('gallium', 'stadium'): 346,\n ('gallium', 'Hutton'): 347,\n ('gallium', 'yet'): 348,\n ('gallium', 'back'): 349,\n ('gallium', 'retires'): 350,\n ('gallium', 'prevent'): 351,\n ('gallium', '3.5'): 352,\n ('gallium', 'sweeping'): 353,\n ('gallium', 'Santa'): 354,\n ('gallium', 'Sen.'): 355,\n ('gallium', 'one-month'): 356,\n ('gallium', 'payments'): 357,\n ('gallium', 'Brent'): 358,\n ('gallium', 'realize'): 359,\n ('gallium', 'CAT'): 360,\n ('gallium', 'eight-person'): 361,\n ('gallium', 'disagree'): 362,\n ('gallium', 'limits'): 363,\n ('gallium', 'firings'): 364,\n ('gallium', 'exploration'): 365,\n ('gallium', 'vital'): 366,\n ('gallium', 'superconductors'): 367,\n ('gallium', '458'): 368,\n ('gallium', 'induce'): 369,\n ('gallium', 'along'): 370,\n ('gallium', 'Newgate'): 371,\n ('gallium', 'find'): 372,\n ('gallium', 'Earnings'): 373,\n ('gallium', 'Nagano'): 374,\n ('gallium', 'letter-writing'): 375,\n ('gallium', 'jeopardizing'): 376,\n ('gallium', 'neat'): 377,\n ('gallium', 'won'): 378,\n ('gallium', 'SHAREDATA'): 379,\n ('gallium', 'good'): 380,\n ('gallium', 'descending'): 381,\n ('gallium', 'minted'): 382,\n ('gallium', 'Junk-bond'): 383,\n ('gallium', 'loudest'): 384,\n ('gallium', '300'): 385,\n ('gallium', 'prints'): 386,\n ('gallium', 'Nippon'): 387,\n ('gallium', 'Giraud'): 388,\n ('gallium', 'v.'): 389,\n ('gallium', 'fastest-growing'): 390,\n ('gallium', 'restructures'): 391,\n ('gallium', 'Southeast'): 392,\n ('gallium', 'Bonnell'): 393,\n ('gallium', 'brain'): 394,\n ('gallium', 'nose'): 395,\n ('gallium', 'Lawmakers'): 396,\n ('gallium', 'disagrees'): 397,\n ('gallium', 'mortgage-based'): 398,\n ('gallium', 'over'): 399,\n ('gallium', 'chaired'): 400,\n ('gallium', 'punish'): 401,\n ('gallium', 'two-tiered'): 402,\n ('gallium', 'syndicate'): 403,\n ('gallium', 'justified'): 404,\n ('gallium', 'converting'): 405,\n ('gallium', 'resigning'): 406,\n ('gallium', 'Miss.'): 407,\n ('gallium', 'Pennsylvania'): 408,\n ('gallium', 'steps'): 409,\n ('gallium', 'disposal'): 410,\n ('gallium', 'simply'): 411,\n ('gallium', 'greater'): 412,\n ('gallium', 'belong'): 413,\n ('gallium', 'zone'): 414,\n ('gallium', 'episodes'): 415,\n ('gallium', 'circulated'): 416,\n ('gallium', 'contributors'): 417,\n ('gallium', 'green'): 418,\n ('gallium', 'Burgundies'): 419,\n ('gallium', '1981'): 420,\n ('gallium', 'Club'): 421,\n ('gallium', '14.'): 422,\n ('gallium', 'scoop'): 423,\n ('gallium', '13.8'): 424,\n ('gallium', 'clicked'): 425,\n ('gallium', 'boom'): 426,\n ('gallium', 'Los'): 427,\n ('gallium', 'petulant'): 428,\n ('gallium', 'carry'): 429,\n ('gallium', 'treatment'): 430,\n ('gallium', 'partisans'): 431,\n ('gallium', 'mood'): 432,\n ('gallium', 'skill'): 433,\n ('gallium', 'officially'): 434,\n ('gallium', 'Fulbright'): 435,\n ('gallium', 'bells'): 436,\n ('gallium', 'Bangkok'): 437,\n ('gallium', 'folio'): 438,\n ('gallium', 'temporarily'): 439,\n ('gallium', 'echoed'): 440,\n ('gallium', 'hypocrisy'): 441,\n ('gallium', 'imminent'): 442,\n ('gallium', 'spend'): 443,\n ('gallium', 'severance'): 444,\n ('gallium', '30-point'): 445,\n ('gallium', 'Activity'): 446,\n ('gallium', 'exit'): 447,\n ('gallium', 'midrange'): 448,\n ('gallium', 'top'): 449,\n ('gallium', 'warnings'): 450,\n ('gallium', 'amps'): 451,\n ('gallium', '321,000'): 452,\n ('gallium', '170,000'): 453,\n ('gallium', 'bloc'): 454,\n ('gallium', 'helped'): 455,\n ('gallium', 'unlabeled'): 456,\n ('gallium', 'waif'): 457,\n ('gallium', 'Kuhns'): 458,\n ('gallium', 'Jerritts'): 459,\n ('gallium', 'United'): 460,\n ('gallium', 'renovation'): 461,\n ('gallium', 'records'): 462,\n ('gallium', 'bottle'): 463,\n ('gallium', 'industrial-production'): 464,\n ('gallium', 'insert'): 465,\n ('gallium', 'Laboratories'): 466,\n ('gallium', 'District'): 467,\n ('gallium', 'prior'): 468,\n ('gallium', 'seller'): 469,\n ('gallium', 'statistics'): 470,\n ('gallium', 'Academically'): 471,\n ('gallium', 'Internal'): 472,\n ('gallium', 'cataract'): 473,\n ('gallium', 'puzzled'): 474,\n ('gallium', 'one-house'): 475,\n ('gallium', '16\\\\/32'): 476,\n ('gallium', 'partially'): 477,\n ('gallium', 'Sun'): 478,\n ('gallium', 'Hoffman'): 479,\n ('gallium', 'sticking'): 480,\n ('gallium', 'Already'): 481,\n ('gallium', 'stepping'): 482,\n ('gallium', 'treating'): 483,\n ('gallium', 'Bernstein'): 484,\n ('gallium', 'Strother'): 485,\n ('gallium', 'fit'): 486,\n ('gallium', 'Otero'): 487,\n ('gallium', 'swift'): 488,\n ('gallium', 'greenmailer'): 489,\n ('gallium', 'Place'): 490,\n ('gallium', 'Court'): 491,\n ('gallium', 'stoppage'): 492,\n ('gallium', 'Sanderoff'): 493,\n ('gallium', 'fortunes'): 494,\n ('gallium', 'inverse'): 495,\n ('gallium', 'presence'): 496,\n ('gallium', 'ROGERS'): 497,\n ('gallium', 'chicago'): 498,\n ('gallium', 'fact'): 499,\n ('gallium', 'failing'): 500,\n ('gallium', 'shortage'): 501,\n ('gallium', 'rarefied'): 502,\n ('gallium', 'preserving'): 503,\n ('gallium', 'battery'): 504,\n ('gallium', 'nonfat'): 505,\n ('gallium', 'alert'): 506,\n ('gallium', '16.68'): 507,\n ('gallium', 'rumors'): 508,\n ('gallium', 'simultaneously'): 509,\n ('gallium', 'Mitchell'): 510,\n ('gallium', 'purely'): 511,\n ('gallium', 'loss'): 512,\n ('gallium', 'accumulated'): 513,\n ('gallium', 'south'): 514,\n ('gallium', 'recess'): 515,\n ('gallium', 'Grain'): 516,\n ('gallium', 'roll'): 517,\n ('gallium', 'designers'): 518,\n ('gallium', 'Inventories'): 519,\n ('gallium', '4.875'): 520,\n ('gallium', 'accommodate'): 521,\n ('gallium', 'Berger'): 522,\n ('gallium', 'M.'): 523,\n ('gallium', 'standard'): 524,\n ('gallium', 'elsewhere'): 525,\n ('gallium', 'Davies'): 526,\n ('gallium', 'huge'): 527,\n ('gallium', 'Burgundy'): 528,\n ('gallium', 'gotten'): 529,\n ('gallium', 'speedway'): 530,\n ('gallium', 'Spain'): 531,\n ('gallium', 'program'): 532,\n ('gallium', 'political'): 533,\n ('gallium', 'tubes'): 534,\n ('gallium', '7.3'): 535,\n ('gallium', 'despised'): 536,\n ('gallium', 'pediatrician'): 537,\n ('gallium', 'Lobo'): 538,\n ('gallium', 'account'): 539,\n ('gallium', 'everyday'): 540,\n ('gallium', 'solved'): 541,\n ('gallium', 'reducing'): 542,\n ('gallium', 'overhead'): 543,\n ('gallium', 'impatient'): 544,\n ('gallium', 'half'): 545,\n ('gallium', 'INS'): 546,\n ('gallium', 'Rae'): 547,\n ('gallium', 'escaped'): 548,\n ('gallium', 'respect'): 549,\n ('gallium', 'expectations'): 550,\n ('gallium', 'drops'): 551,\n ('gallium', 'contingency-fee'): 552,\n ('gallium', 'transaction'): 553,\n ('gallium', 'recommended'): 554,\n ('gallium', 'spreads'): 555,\n ('gallium', 'hero'): 556,\n ('gallium', 'sensitivity'): 557,\n ('gallium', '3,250,000'): 558,\n ('gallium', 'move'): 559,\n ('gallium', 'slow'): 560,\n ('gallium', 'spends'): 561,\n ('gallium', 'Canada'): 562,\n ('gallium', 'dinner'): 563,\n ('gallium', \"'86\"): 564,\n ('gallium', 'amass'): 565,\n ('gallium', 'Peninsula'): 566,\n ('gallium', 'propagandize'): 567,\n ('gallium', '21.1'): 568,\n ('gallium', 'uncharted'): 569,\n ('gallium', 'risk-free'): 570,\n ('gallium', 'fleeting'): 571,\n ('gallium', 'resources'): 572,\n ('gallium', 'markdown'): 573,\n ('gallium', 'custom-chip'): 574,\n ('gallium', 'involve'): 575,\n ('gallium', 'course'): 576,\n ('gallium', 'Gulf'): 577,\n ('gallium', 'Beta'): 578,\n ('gallium', 'Winiarski'): 579,\n ('gallium', 'execs'): 580,\n ('gallium', 'Poor'): 581,\n ('gallium', 'A.D.'): 582,\n ('gallium', 'livelihood'): 583,\n ('gallium', 'backers'): 584,\n ('gallium', 'Domestic'): 585,\n ('gallium', 'III'): 586,\n ('gallium', 'disclosures'): 587,\n ('gallium', 'feared'): 588,\n ('gallium', 'stature'): 589,\n ('gallium', 'theme'): 590,\n ('gallium', 'chief'): 591,\n ('gallium', 'branches'): 592,\n ('gallium', 'debentures'): 593,\n ('gallium', 'allegations'): 594,\n ('gallium', 'Apple'): 595,\n ('gallium', 'Serial'): 596,\n ('gallium', 'Corp'): 597,\n ('gallium', 'Unlike'): 598,\n ('gallium', 'AIDS'): 599,\n ('gallium', 'Ames'): 600,\n ('gallium', 'Everything'): 601,\n ('gallium', 'Safety'): 602,\n ('gallium', 'games'): 603,\n ('gallium', 'Given'): 604,\n ('gallium', 'inherited'): 605,\n ('gallium', 'den'): 606,\n ('gallium', 'guys'): 607,\n ('gallium', 'carefree'): 608,\n ('gallium', 'pre-existing'): 609,\n ('gallium', 'proving'): 610,\n ('gallium', 'either'): 611,\n ('gallium', 'confirm'): 612,\n ('gallium', 'Bailey'): 613,\n ('gallium', 'Beatles'): 614,\n ('gallium', '43-year-old'): 615,\n ('gallium', 'purchased'): 616,\n ('gallium', 'gave'): 617,\n ('gallium', 'binge'): 618,\n ('gallium', 'disputes'): 619,\n ('gallium', 'Patricia'): 620,\n ('gallium', 'arising'): 621,\n ('gallium', 'Judge'): 622,\n ('gallium', 'unusually'): 623,\n ('gallium', 'pose'): 624,\n ('gallium', 'interventions'): 625,\n ('gallium', 'Fulham'): 626,\n ('gallium', 'pushing'): 627,\n ('gallium', 'author'): 628,\n ('gallium', 'Sherwood'): 629,\n ('gallium', 'Oak'): 630,\n ('gallium', 'PRIME'): 631,\n ('gallium', 'Roland'): 632,\n ('gallium', 'eliminate'): 633,\n ('gallium', 'admitting'): 634,\n ('gallium', 'oppose'): 635,\n ('gallium', 'Hiroshima'): 636,\n ('gallium', 'Malta'): 637,\n ('gallium', 'AN'): 638,\n ('gallium', 'stuff'): 639,\n ('gallium', 'Walbrecher'): 640,\n ('gallium', 'mid-1970s'): 641,\n ('gallium', 'stated'): 642,\n ('gallium', 'dashes'): 643,\n ('gallium', 'penetrate'): 644,\n ('gallium', 'identity-management'): 645,\n ('gallium', '306'): 646,\n ('gallium', '0.95'): 647,\n ('gallium', 'Connections'): 648,\n ('gallium', 'lead'): 649,\n ('gallium', 'ushered'): 650,\n ('gallium', 'teacher-cadet'): 651,\n ('gallium', 'Cotran'): 652,\n ('gallium', 'polled'): 653,\n ('gallium', 'widespread'): 654,\n ('gallium', 'refer'): 655,\n ('gallium', 'Preliminary'): 656,\n ('gallium', 'Ferdinand'): 657,\n ('gallium', 'Trinity'): 658,\n ('gallium', 'ORTEGA'): 659,\n ('gallium', 'officer'): 660,\n ('gallium', '46.1'): 661,\n ('gallium', 'Beirut'): 662,\n ('gallium', 'industry'): 663,\n ('gallium', 'Dollar-yen'): 664,\n ('gallium', '2017'): 665,\n ('gallium', 'a'): 666,\n ('gallium', 'bring'): 667,\n ('gallium', 'settled'): 668,\n ('gallium', 'Moslem'): 669,\n ('gallium', 'avoid'): 670,\n ('gallium', 'classics'): 671,\n ('gallium', 'charging'): 672,\n ('gallium', 'uncomplaining'): 673,\n ('gallium', 'similar'): 674,\n ('gallium', 'prior-year'): 675,\n ('gallium', 'flat'): 676,\n ('gallium', 'deterioration'): 677,\n ('gallium', 'Articles'): 678,\n ('gallium', 'certain'): 679,\n ('gallium', 'Telerate'): 680,\n ('gallium', 'Andrea'): 681,\n ('gallium', 'funded'): 682,\n ('gallium', 'corporation'): 683,\n ('gallium', 'pence'): 684,\n ('gallium', 'Jalaalwalikraam'): 685,\n ('gallium', '1.39'): 686,\n ('gallium', 'Defending'): 687,\n ('gallium', 'channel'): 688,\n ('gallium', 'gasoline'): 689,\n ('gallium', 'fear'): 690,\n ('gallium', 'Markets'): 691,\n ('gallium', 'Jovanovich'): 692,\n ('gallium', 'Ginnie'): 693,\n ('gallium', '0.50'): 694,\n ('gallium', 'swapped'): 695,\n ('gallium', 'Eakle'): 696,\n ('gallium', 'polish'): 697,\n ('gallium', 'Creek'): 698,\n ('gallium', 'too'): 699,\n ('gallium', 'trays'): 700,\n ('gallium', 'Assurance'): 701,\n ('gallium', 'semiconductors'): 702,\n ('gallium', 'resign'): 703,\n ('gallium', '70-a-share'): 704,\n ('gallium', 'Glendale'): 705,\n ('gallium', 'eyes'): 706,\n ('gallium', 'nature'): 707,\n ('gallium', 'ward'): 708,\n ('gallium', 'Bricklayers'): 709,\n ('gallium', 'prerogatives'): 710,\n ('gallium', 'skittishness'): 711,\n ('gallium', 'Asians'): 712,\n ('gallium', 'convinced'): 713,\n ('gallium', 'Joseph'): 714,\n ('gallium', 'wizards'): 715,\n ('gallium', '83'): 716,\n ('gallium', 'yes'): 717,\n ('gallium', 'prosecute'): 718,\n ('gallium', '700,000'): 719,\n ('gallium', 'softening'): 720,\n ('gallium', 'pipeline'): 721,\n ('gallium', 'Peng'): 722,\n ('gallium', 'whole'): 723,\n ('gallium', '4.9'): 724,\n ('gallium', 'associates'): 725,\n ('gallium', 'stupid'): 726,\n ('gallium', 'clean-up'): 727,\n ('gallium', 'announce'): 728,\n ('gallium', 'Talcott'): 729,\n ('gallium', 'generate'): 730,\n ('gallium', 'Bates'): 731,\n ('gallium', 'above-market'): 732,\n ('gallium', 'national'): 733,\n ('gallium', 'nurtured'): 734,\n ('gallium', 'tools'): 735,\n ('gallium', 'Grange'): 736,\n ('gallium', 'Suisse'): 737,\n ('gallium', '7.60'): 738,\n ('gallium', 'vision'): 739,\n ('gallium', 'None'): 740,\n ('gallium', 'Choose'): 741,\n ('gallium', 'comprehensive'): 742,\n ('gallium', 'September'): 743,\n ('gallium', 'DISCOUNT'): 744,\n ('gallium', 'favored'): 745,\n ('gallium', 'exports'): 746,\n ('gallium', 'rankings'): 747,\n ('gallium', 'PORTING'): 748,\n ('gallium', 'NEW'): 749,\n ('gallium', 'IRAs'): 750,\n ('gallium', 'television'): 751,\n ('gallium', 'switch'): 752,\n ('gallium', 'composed'): 753,\n ('gallium', 'Magna'): 754,\n ('gallium', 'Nielsen'): 755,\n ('gallium', 'covering'): 756,\n ('gallium', 'Lee'): 757,\n ('gallium', 'outright'): 758,\n ('gallium', 'hid'): 759,\n ('gallium', 'cow'): 760,\n ('gallium', 'knight'): 761,\n ('gallium', 'middle-ground'): 762,\n ('gallium', 'Monopolies'): 763,\n ('gallium', 'approach'): 764,\n ('gallium', 'loyalty'): 765,\n ('gallium', 'Rothschild'): 766,\n ('gallium', '188'): 767,\n ('gallium', 'land'): 768,\n ('gallium', 'mindful'): 769,\n ('gallium', 'Garbage'): 770,\n ('gallium', 'systematic'): 771,\n ('gallium', 'deficit'): 772,\n ('gallium', 'bureaucracy'): 773,\n ('gallium', '27.4'): 774,\n ('gallium', 'past'): 775,\n ('gallium', 'Stanford'): 776,\n ('gallium', 'directly'): 777,\n ('gallium', 'sharper'): 778,\n ('gallium', 'Although'): 779,\n ('gallium', 'Cathryn'): 780,\n ('gallium', 'million'): 781,\n ('gallium', 'letters'): 782,\n ('gallium', 'longstanding'): 783,\n ('gallium', 'exceptional'): 784,\n ('gallium', 'Steel'): 785,\n ('gallium', 'Macmillan\\\\/McGraw-Hill'): 786,\n ('gallium', 'cascading'): 787,\n ('gallium', '77'): 788,\n ('gallium', 'concept'): 789,\n ('gallium', 'Steven'): 790,\n ('gallium', 'mouth-up'): 791,\n ('gallium', '310'): 792,\n ('gallium', 'dreamed'): 793,\n ('gallium', 'buildup'): 794,\n ('gallium', 'Glenn'): 795,\n ('gallium', 'unspecified'): 796,\n ('gallium', 'chemicals'): 797,\n ('gallium', 'rise'): 798,\n ('gallium', 'adjustable'): 799,\n ('gallium', 'Bucking'): 800,\n ('gallium', 'devised'): 801,\n ('gallium', 'With'): 802,\n ('gallium', 'MITI'): 803,\n ('gallium', 'Program'): 804,\n ('gallium', '45,000'): 805,\n ('gallium', 'semicircular'): 806,\n ('gallium', 'decorator'): 807,\n ('gallium', '0.3'): 808,\n ('gallium', 'barrel'): 809,\n ('gallium', 'Grandsire'): 810,\n ('gallium', 'conduct'): 811,\n ('gallium', 'defended'): 812,\n ('gallium', 'like'): 813,\n ('gallium', 'skidded'): 814,\n ('gallium', 'N.J.-based'): 815,\n ('gallium', 'mortgage'): 816,\n ('gallium', 'taste'): 817,\n ('gallium', 'industrialized'): 818,\n ('gallium', 'Than'): 819,\n ('gallium', 'specified'): 820,\n ('gallium', 'shares'): 821,\n ('gallium', 'traditionally'): 822,\n ('gallium', 'accounted'): 823,\n ('gallium', 'small'): 824,\n ('gallium', 'goods'): 825,\n ('gallium', 'Laura'): 826,\n ('gallium', 'provoked'): 827,\n ('gallium', 'curses'): 828,\n ('gallium', 'moving'): 829,\n ('gallium', 'regarded'): 830,\n ('gallium', 'unaffiliated'): 831,\n ('gallium', 'impending'): 832,\n ('gallium', 'Soviets'): 833,\n ('gallium', 'Publishing'): 834,\n ('gallium', 'chip'): 835,\n ('gallium', 'SAT'): 836,\n ('gallium', 'willing'): 837,\n ('gallium', 'boots'): 838,\n ('gallium', 'DNA'): 839,\n ('gallium', 'Drink'): 840,\n ('gallium', 'regulated'): 841,\n ('gallium', 'campaigns'): 842,\n ('gallium', 'attempt'): 843,\n ('gallium', 'car'): 844,\n ('gallium', 'Sydney'): 845,\n ('gallium', 'waiting'): 846,\n ('gallium', 'withdrew'): 847,\n ('gallium', 'C$'): 848,\n ('gallium', 'Related'): 849,\n ('gallium', 'cautiously'): 850,\n ('gallium', 'recall'): 851,\n ('gallium', 'terminated'): 852,\n ('gallium', 'multinational'): 853,\n ('gallium', 'Angels'): 854,\n ('gallium', 'inspirational'): 855,\n ('gallium', 'open'): 856,\n ('gallium', 'importance'): 857,\n ('gallium', 'Alleghany'): 858,\n ('gallium', 'Jonathan'): 859,\n ('gallium', 'electric'): 860,\n ('gallium', 'Nasdaq'): 861,\n ('gallium', 'Aslacton'): 862,\n ('gallium', 'caretaker'): 863,\n ('gallium', 'draws'): 864,\n ('gallium', 'Crew'): 865,\n ('gallium', 'margins'): 866,\n ('gallium', 'Nobel'): 867,\n ('gallium', '1.85'): 868,\n ('gallium', 'Alzheimer'): 869,\n ('gallium', 'players'): 870,\n ('gallium', 'cure'): 871,\n ('gallium', 'GHKM'): 872,\n ('gallium', 'mining'): 873,\n ('gallium', 'obvious'): 874,\n ('gallium', 'Patrick'): 875,\n ('gallium', 'obsession'): 876,\n ('gallium', '16.09'): 877,\n ('gallium', 'crystal-lattice'): 878,\n ('gallium', 'respected'): 879,\n ('gallium', 'together'): 880,\n ('gallium', 'economies'): 881,\n ('gallium', 'punitive'): 882,\n ('gallium', 'partnership'): 883,\n ('gallium', 'unreasonable'): 884,\n ('gallium', 'Mexico'): 885,\n ('gallium', 'Wadsworth'): 886,\n ('gallium', 'USIA'): 887,\n ('gallium', 'liquid'): 888,\n ('gallium', '2.875'): 889,\n ('gallium', 'manually'): 890,\n ('gallium', 'Nev.'): 891,\n ('gallium', 'eclectic'): 892,\n ('gallium', 'efforts'): 893,\n ('gallium', '100'): 894,\n ('gallium', 'WFRR'): 895,\n ('gallium', 'authorizing'): 896,\n ('gallium', '7.40'): 897,\n ('gallium', 'missiles'): 898,\n ('gallium', 'Organization'): 899,\n ('gallium', 'Builders'): 900,\n ('gallium', 'gauge'): 901,\n ('gallium', 'Combo'): 902,\n ('gallium', 'worthiness'): 903,\n ('gallium', 'Brownstein'): 904,\n ('gallium', 'smartly'): 905,\n ('gallium', 'older'): 906,\n ('gallium', 'enjoyed'): 907,\n ('gallium', '2.47'): 908,\n ('gallium', 'Ohio-based'): 909,\n ('gallium', 'planting'): 910,\n ('gallium', 'Disease'): 911,\n ('gallium', 'insolvency'): 912,\n ('gallium', 'improving'): 913,\n ('gallium', 'Then'): 914,\n ('gallium', 'mirror'): 915,\n ('gallium', 'War'): 916,\n ('gallium', 'N.Y.'): 917,\n ('gallium', 'viewpoints'): 918,\n ('gallium', 'denied'): 919,\n ('gallium', 'slab'): 920,\n ('gallium', '430'): 921,\n ('gallium', 'rose'): 922,\n ('gallium', 'These'): 923,\n ('gallium', 'contrasts'): 924,\n ('gallium', 'U.S.-backed'): 925,\n ('gallium', 'low-tech'): 926,\n ('gallium', '9\\\\/32'): 927,\n ('gallium', 'define'): 928,\n ('gallium', 'spokeswoman'): 929,\n ('gallium', 'negotiating'): 930,\n ('gallium', 'annually'): 931,\n ('gallium', 'markup'): 932,\n ('gallium', 'Kathryn'): 933,\n ('gallium', 'futures-related'): 934,\n ('gallium', 'Salty'): 935,\n ('gallium', 'contributions'): 936,\n ('gallium', 'Impediments'): 937,\n ('gallium', 'pension'): 938,\n ('gallium', 'acceptance'): 939,\n ('gallium', 'Political'): 940,\n ('gallium', 'canine'): 941,\n ('gallium', 'phase-out'): 942,\n ('gallium', 'inform'): 943,\n ('gallium', 'Farmers'): 944,\n ('gallium', '1,400'): 945,\n ('gallium', 'loser'): 946,\n ('gallium', 'Country'): 947,\n ('gallium', 'Solihull'): 948,\n ('gallium', 'statewide'): 949,\n ('gallium', 'lackluster'): 950,\n ('gallium', '692'): 951,\n ('gallium', 'Jr'): 952,\n ('gallium', 'Trump'): 953,\n ('gallium', '0.25'): 954,\n ('gallium', 'lap'): 955,\n ('gallium', 'Gilts'): 956,\n ('gallium', 'currencies'): 957,\n ('gallium', 'ancestry'): 958,\n ('gallium', 'specifics'): 959,\n ('gallium', 'document'): 960,\n ('gallium', 'scarcely'): 961,\n ('gallium', 'Anderson'): 962,\n ('gallium', 'superintendent'): 963,\n ('gallium', 'beneficial'): 964,\n ('gallium', 'Transamerica'): 965,\n ('gallium', 'Bund'): 966,\n ('gallium', 'craze'): 967,\n ('gallium', 'views'): 968,\n ('gallium', 'plan'): 969,\n ('gallium', '220.45'): 970,\n ('gallium', 'Forget'): 971,\n ('gallium', 'rigors'): 972,\n ('gallium', 'Mattress'): 973,\n ('gallium', 'Posted'): 974,\n ('gallium', 'Traders'): 975,\n ('gallium', 'Generalized'): 976,\n ('gallium', 'Madison'): 977,\n ('gallium', 'Morgan'): 978,\n ('gallium', 'Diaper'): 979,\n ('gallium', 'Both'): 980,\n ('gallium', 'reserves'): 981,\n ('gallium', 'depositary'): 982,\n ('gallium', 'riders'): 983,\n ('gallium', 'bulk'): 984,\n ('gallium', 'overriding'): 985,\n ('gallium', 'purchasing'): 986,\n ('gallium', '11th'): 987,\n ('gallium', 'W.D.'): 988,\n ('gallium', '436.01'): 989,\n ('gallium', 'Group'): 990,\n ('gallium', 'Reducing'): 991,\n ('gallium', 'received'): 992,\n ('gallium', 'James'): 993,\n ('gallium', 'refunds'): 994,\n ('gallium', 'phone'): 995,\n ('gallium', 'authorizes'): 996,\n ('gallium', '25,000'): 997,\n ('gallium', 'shivers'): 998,\n ('gallium', 'community'): 999,\n ('gallium', 'taxpayer'): 1000,\n ...}"
     },
     "execution_count": 114,
     "metadata": {},
     "output_type": "execute_result"
    }
   ],
   "source": [
    "pairs_dict = {}\n",
    "i = 0\n",
    "for w1 in vocab:\n",
    "    for w2 in vocab:\n",
    "        i += 1\n",
    "        pairs_dict[(w1, w2)] = i\n",
    "\n",
    "\n",
    "pairs_dict"
   ],
   "metadata": {
    "collapsed": false,
    "pycharm": {
     "name": "#%%\n"
    }
   }
  },
  {
   "cell_type": "code",
   "execution_count": 115,
   "outputs": [],
   "source": [
    "n = int(len(sentences)*0.1)\n",
    "train, test = sentences[:-n], sentences[-n:]"
   ],
   "metadata": {
    "collapsed": false,
    "pycharm": {
     "name": "#%%\n"
    }
   }
  }
 ],
 "metadata": {
  "kernelspec": {
   "display_name": "Python 3",
   "language": "python",
   "name": "python3"
  },
  "language_info": {
   "codemirror_mode": {
    "name": "ipython",
    "version": 2
   },
   "file_extension": ".py",
   "mimetype": "text/x-python",
   "name": "python",
   "nbconvert_exporter": "python",
   "pygments_lexer": "ipython2",
   "version": "2.7.6"
  }
 },
 "nbformat": 4,
 "nbformat_minor": 0
}