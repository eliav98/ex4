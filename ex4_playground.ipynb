{
 "cells": [
  {
   "cell_type": "code",
   "execution_count": 1,
   "metadata": {
    "collapsed": true
   },
   "outputs": [],
   "source": [
    "import nltk\n",
    "from nltk.corpus import dependency_treebank\n",
    "import graphviz\n",
    "import os\n",
    "os.environ[\"PATH\"] += os.pathsep + r'C:\\Program Files\\Graphviz\\bin'"
   ]
  },
  {
   "cell_type": "code",
   "execution_count": 2,
   "outputs": [],
   "source": [
    "import numpy as np"
   ],
   "metadata": {
    "collapsed": false,
    "pycharm": {
     "name": "#%%\n"
    }
   }
  },
  {
   "cell_type": "code",
   "execution_count": 3,
   "outputs": [
    {
     "name": "stderr",
     "output_type": "stream",
     "text": [
      "[nltk_data] Downloading package dependency_treebank to\n",
      "[nltk_data]     C:\\Users\\eliav\\AppData\\Roaming\\nltk_data...\n",
      "[nltk_data]   Package dependency_treebank is already up-to-date!\n"
     ]
    },
    {
     "data": {
      "text/plain": "True"
     },
     "execution_count": 3,
     "metadata": {},
     "output_type": "execute_result"
    }
   ],
   "source": [
    "nltk.download('dependency_treebank')"
   ],
   "metadata": {
    "collapsed": false,
    "pycharm": {
     "name": "#%%\n"
    }
   }
  },
  {
   "cell_type": "code",
   "execution_count": 4,
   "outputs": [],
   "source": [
    "from collections import Counter, defaultdict, namedtuple\n",
    "from networkx import DiGraph"
   ],
   "metadata": {
    "collapsed": false,
    "pycharm": {
     "name": "#%%\n"
    }
   }
  },
  {
   "cell_type": "code",
   "execution_count": 5,
   "outputs": [
    {
     "name": "stdout",
     "output_type": "stream",
     "text": [
      "train size = 3523, test size = 391, total = 3914\n"
     ]
    }
   ],
   "source": [
    "sentences = dependency_treebank.parsed_sents()\n",
    "k = len(sentences)//10\n",
    "train, test = sentences[:-k], sentences[-k:]\n",
    "print(f\"train size = {len(train)}, test size = {len(test)}, total = {len(train) + len(test)}\")"
   ],
   "metadata": {
    "collapsed": false,
    "pycharm": {
     "name": "#%%\n"
    }
   }
  },
  {
   "cell_type": "code",
   "execution_count": 6,
   "outputs": [
    {
     "data": {
      "text/plain": "(3523, 391, 3914, 3914)"
     },
     "execution_count": 6,
     "metadata": {},
     "output_type": "execute_result"
    }
   ],
   "source": [
    "len(train), len(test), len(test) + len(train), len(sentences)"
   ],
   "metadata": {
    "collapsed": false,
    "pycharm": {
     "name": "#%%\n"
    }
   }
  },
  {
   "cell_type": "code",
   "execution_count": 7,
   "outputs": [
    {
     "name": "stdout",
     "output_type": "stream",
     "text": [
      "11968 46\n"
     ]
    }
   ],
   "source": [
    "vocab = Counter()\n",
    "pos_tags = Counter()\n",
    "for dg in sentences:\n",
    "    for i, node in dg.nodes.items():\n",
    "        w = str(node['word'])\n",
    "        pos = node['tag']\n",
    "        # print(w, pos)\n",
    "        # for f in dic:\n",
    "        #     if f(w):\n",
    "        #         print(node['tag'])\n",
    "        #         w = dic[f]\n",
    "        # vocab.add(str(w).lower())\n",
    "        vocab[w] += 1\n",
    "        # if not w.isalpha() and '_' not in w:\n",
    "        #     print(w)\n",
    "        pos_tags[pos] += 1\n",
    "print(len(vocab), len(pos_tags))"
   ],
   "metadata": {
    "collapsed": false,
    "pycharm": {
     "name": "#%%\n"
    }
   }
  },
  {
   "cell_type": "code",
   "execution_count": 8,
   "outputs": [
    {
     "data": {
      "text/plain": "Counter({('will', 'Vinken'): 1,\n         ('MD', 'NNP'): 1,\n         ('Vinken', 'Pierre'): 1,\n         ('NNP', 'NNP'): 1,\n         ('Vinken', ','): 2,\n         ('NNP', ','): 2,\n         ('Vinken', 'old'): 1,\n         ('NNP', 'JJ'): 1,\n         ('old', 'years'): 1,\n         ('JJ', 'NNS'): 1,\n         ('years', '61'): 1,\n         ('NNS', 'CD'): 1,\n         ('will', 'join'): 1,\n         ('MD', 'VB'): 1,\n         ('join', 'board'): 1,\n         ('VB', 'NN'): 1,\n         ('board', 'the'): 1,\n         ('NN', 'DT'): 2,\n         ('join', 'as'): 1,\n         ('VB', 'IN'): 1,\n         ('as', 'director'): 1,\n         ('IN', 'NN'): 1,\n         ('director', 'a'): 1,\n         ('director', 'nonexecutive'): 1,\n         ('NN', 'JJ'): 1,\n         ('join', 'Nov.'): 1,\n         ('VB', 'NNP'): 1,\n         ('Nov.', '29'): 1,\n         ('NNP', 'CD'): 1,\n         ('will', '.'): 1,\n         ('MD', '.'): 1})"
     },
     "execution_count": 8,
     "metadata": {},
     "output_type": "execute_result"
    }
   ],
   "source": [
    "from collections import Counter\n",
    "\n",
    "def tree_to_counter(triples, lr=1):\n",
    "    c = Counter()\n",
    "    for x in triples:\n",
    "        # print(x[0], x[-1], end=\"--\")\n",
    "        z = zip(x[0], x[-1])\n",
    "        for i in range(lr):\n",
    "            c.update(z)\n",
    "    # print(\"\\n\" + \"-\"*50)\n",
    "    return c\n",
    "tree_to_counter(sentences[0].triples())"
   ],
   "metadata": {
    "collapsed": false,
    "pycharm": {
     "name": "#%%\n"
    }
   }
  },
  {
   "cell_type": "code",
   "execution_count": 9,
   "outputs": [],
   "source": [
    "def score(features, weights):\n",
    "    score = 0\n",
    "    for f in features:\n",
    "        score += weights[f]\n",
    "    return score"
   ],
   "metadata": {
    "collapsed": false,
    "pycharm": {
     "name": "#%%\n"
    }
   }
  },
  {
   "cell_type": "code",
   "execution_count": 10,
   "outputs": [],
   "source": [
    "from networkx.drawing.nx_agraph import write_dot, read_dot\n",
    "\n",
    "def nx_graph_to_dot(G):\n",
    "    write_dot(G, r'C:\\Users\\eliav\\PycharmProjects\\NLP\\ex4\\blah.gv')\n",
    "    return read_dot(r'C:\\Users\\eliav\\PycharmProjects\\NLP\\ex4\\blah.gv')"
   ],
   "metadata": {
    "collapsed": false,
    "pycharm": {
     "name": "#%%\n"
    }
   }
  },
  {
   "cell_type": "code",
   "execution_count": 25,
   "outputs": [],
   "source": [
    "from Chu_Liu_Edmonds_algorithm import min_spanning_arborescence_nx\n",
    "from networkx import minimum_spanning_arborescence\n",
    "from nltk.parse import DependencyGraph\n",
    "import pygraphviz\n",
    "from networkx.drawing.nx_agraph import to_agraph\n",
    "import time\n",
    "\n",
    "def MST_helper(lr=1, max_iterations=2):\n",
    "    c = Counter()\n",
    "    sum_c = Counter()\n",
    "    num_empty_G, st = 0, time.time()\n",
    "    for r in range(max_iterations):\n",
    "        for i, dg in enumerate(train):\n",
    "            Arc = namedtuple(\"Arc\", \"head tail weight\")\n",
    "            arcs = [Arc(u,v,score(zip(u, v), c)) for u, _, v in dg.triples()]\n",
    "            G = DiGraph()\n",
    "            for arc in arcs:\n",
    "                G.add_edge(arc.head, arc.tail, weight=arc.weight)\n",
    "            if not len(G):\n",
    "                num_empty_G += 1\n",
    "                continue\n",
    "            T_prime = minimum_spanning_arborescence(G)\n",
    "            c += tree_to_counter(dg.triples(), lr) - tree_to_counter(T_prime.edges, lr)\n",
    "            sum_c += c\n",
    "    et = time.time()\n",
    "    print(f\"runtime: {et - st} seconds\\n\"\n",
    "          f\"encountered {num_empty_G} empty graphs out of {max_iterations*len(train)}\")\n",
    "    return sum_c"
   ],
   "metadata": {
    "collapsed": false,
    "pycharm": {
     "name": "#%%\n"
    }
   }
  },
  {
   "cell_type": "code",
   "execution_count": 26,
   "outputs": [
    {
     "name": "stdout",
     "output_type": "stream",
     "text": [
      "runtime: 27.75179934501648 seconds\n",
      "encountered 2 empty graphs out of 7046\n"
     ]
    }
   ],
   "source": [
    "mst_counter = MST_helper()\n",
    "# mst_counter"
   ],
   "metadata": {
    "collapsed": false,
    "pycharm": {
     "name": "#%%\n"
    }
   }
  },
  {
   "cell_type": "code",
   "execution_count": 28,
   "outputs": [
    {
     "data": {
      "text/plain": "Counter({('Vinken', ','): 10566,\n         ('NNP', ','): 4128942,\n         ('Agnew', ','): 10562,\n         ('NN', 'IN'): 4477002,\n         ('director', 'of'): 75256,\n         ('NN', 'DT'): 11438744,\n         ('percentage', 'of'): 17714,\n         ('group', 'a'): 38746,\n         ('group', 'of'): 22654,\n         ('exposed', 'to'): 7041,\n         ('VBN', 'TO'): 98451,\n         ('crocidolite', ','): 21116,\n         ('NN', ','): 4985113,\n         ('is', ','): 290844,\n         ('VBZ', ','): 1300211,\n         ('to', 'it'): 7040,\n         ('TO', 'PRP'): 7040,\n         ('unit', ','): 60814,\n         ('using', 'in'): 17864,\n         ('VBG', 'IN'): 243088,\n         ('forum', ','): 10554,\n         ('forum', 'a'): 10554,\n         ('bring', 'to'): 18510,\n         ('VB', 'TO'): 2717023,\n         ('problem', 'the'): 77716,\n         ('NNS', 'DT'): 1609932,\n         ('workers', 'the'): 21074,\n         ('smokers', 'of'): 10546,\n         ('NNS', 'IN'): 1278016,\n         ('cigarettes', 'the'): 10546,\n         ('NNP', 'NNP'): 1238136,\n         ('schools', 'and'): 10542,\n         ('NNS', 'CC'): 655088,\n         ('schools', 'the'): 10542,\n         ('schools', 'of'): 10542,\n         ('University', 'University'): 10542,\n         ('used', 'in'): 33485,\n         ('VBN', 'IN'): 652168,\n         ('filters', 'the'): 28084,\n         ('replaced', 'in'): 7031,\n         ('were', ','): 91408,\n         ('VBD', ','): 2069817,\n         ('number', 'the'): 83782,\n         ('asbestosis', ','): 10532,\n         ('IN', 'NNS'): 528324,\n         ('factory', 'the'): 31548,\n         ('Mass.', ','): 64374,\n         ('for', 'workers'): 17270,\n         ('plant', ','): 34622,\n         ('class', 'the'): 28626,\n         ('of', 'asbestos'): 10524,\n         ('IN', 'NN'): 1124156,\n         ('kind', 'the'): 18832,\n         ('chrysotile', 'of'): 10524,\n         ('chrysotile', ','): 21048,\n         ('nations', 'the'): 10522,\n         ('NNS', 'WDT'): 33922,\n         ('standard', 'of'): 10522,\n         ('fibers', 'the'): 17538,\n         ('fibers', 'that'): 10522,\n         ('classified', 'as'): 7022,\n         ('professor', ','): 54180,\n         ('professor', 'a'): 27172,\n         ('professor', 'of'): 19738,\n         ('University', 'of'): 37078,\n         ('NNP', 'IN'): 426448,\n         ('College', 'of'): 10522,\n         ('are', 'are'): 54122,\n         ('VBP', 'VBP'): 111318,\n         ('VBD', 'NNS'): 46840,\n         ('fibers', 'and'): 10510,\n         ('mixed', 'fibers'): 10510,\n         ('process', 'a'): 10510,\n         ('parts', 'of'): 14398,\n         ('president', ','): 239872,\n         ('president', 'of'): 37904,\n         ('fraction', 'of'): 10498,\n         ('point', 'a'): 52368,\n         ('from', '%'): 147774,\n         ('week', 'the'): 71244,\n         ('longest', ','): 10494,\n         ('JJS', ','): 28604,\n         ('longest', 'the'): 7008,\n         ('JJS', 'DT'): 20899,\n         ('according', 'to'): 12880,\n         ('VBG', 'TO'): 36208,\n         ('VB', 'NNS'): 138098,\n         ('retain', 'to'): 10492,\n         ('retain', 'rates'): 10492,\n         ('capture', 'rates'): 7006,\n         ('maturity', ','): 10488,\n         ('be', 'to'): 269068,\n         ('point', 'for'): 10488,\n         ('year', 'the'): 201103,\n         ('said', ','): 710473,\n         ('editor', ','): 40030,\n         ('editor', 'of'): 15726,\n         ('rose', ','): 31350,\n         ('$', 'CD'): 599800,\n         ('$', 'billion'): 202996,\n         ('to', '$'): 160402,\n         ('TO', '$'): 160402,\n         ('fund', ','): 30916,\n         ('during', 'week'): 10474,\n         ('week', 'a'): 10474,\n         ('fell', 'yield'): 10468,\n         ('VBD', 'NN'): 230571,\n         ('yield', '30-day'): 10468,\n         ('NN', 'JJ'): 361336,\n         ('fell', 'to'): 23506,\n         ('VBD', 'TO'): 162527,\n         ('to', '%'): 17434,\n         ('TO', 'NN'): 52988,\n         ('%', 'an'): 20514,\n         ('%', 'average'): 10468,\n         ('fell', 'from'): 10468,\n         ('VBD', 'IN'): 380201,\n         ('chairman', ','): 196578,\n         ('director', 'a'): 16634,\n         (\"'s\", 'Grace'): 10462,\n         ('POS', 'NNP'): 425374,\n         ('27', '$'): 10460,\n         ('CD', '$'): 625736,\n         ('Operations', 'its'): 6989,\n         ('NNP', 'PRP$'): 6989,\n         ('A.', '.'): 10456,\n         ('NNP', '.'): 110980,\n         ('Controls', ','): 10452,\n         ('Ohio', ','): 50382,\n         ('suspended', 'government'): 6985,\n         ('government', 'the'): 153112,\n         ('kind', 'any'): 10446,\n         ('$', 'trillion'): 10444,\n         ('fight', 'the'): 6982,\n         ('raise', 'to'): 53255,\n         ('ceiling', 'the'): 56494,\n         ('act', 'to'): 22779,\n         ('earliest', 'the'): 6981,\n         ('NN', 'CC'): 724230,\n         ('arm', 'and'): 6979,\n         ('arm', 'of'): 10436,\n         ('operations', ','): 10434,\n         ('NNS', ','): 790988,\n         ('Vitulli', ','): 20864,\n         (\"'s\", 'Chrysler'): 10432,\n         ('confines', 'the'): 10428,\n         ('capital', 'of'): 10424,\n         ('idea', ','): 10420,\n         ('prove', 'to'): 10420,\n         ('that', 'that'): 92626,\n         ('IN', 'IN'): 357531,\n         ('buckle', 'the'): 10420,\n         ('company', 'a'): 62508,\n         ('expand', 'to'): 19474,\n         ('end', 'the'): 54031,\n         ('message', 'the'): 10418,\n         ('giants', 'like'): 10418,\n         ('NNP', 'CC'): 375414,\n         ('Factory', 'and'): 10418,\n         ('executives', 'the'): 16038,\n         ('raced', ','): 20824,\n         ('welcomed', 'governor'): 10410,\n         ('governor', 'the'): 10410,\n         ('hauled', ','): 10406,\n         ('speedway', 'the'): 10406,\n         ('announcer', ','): 10406,\n         ('announcer', 'the'): 19776,\n         ('race', 'the'): 10404,\n         ('hotel', 'the'): 10400,\n         ('buses', 'the'): 10400,\n         ('moons', 'and'): 6959,\n         ('moons', 'of'): 10396,\n         ('ballroom', 'the'): 10396,\n         ('NN', 'NNP'): 180943,\n         ('chefs', 'the'): 20790,\n         ('mousseline', 'Indiana'): 10396,\n         ('terrine', ','): 20792,\n         ('free', '--'): 10394,\n         ('JJ', ':'): 39772,\n         ('ovation', 'a'): 10394,\n         ('return', 'to'): 17294,\n         ('city', 'a'): 10392,\n         ('registered', ','): 10388,\n         ('year', ','): 14032,\n         ('setback', 'the'): 10386,\n         ('IN', 'NNP'): 306395,\n         ('increase', ','): 20768,\n         ('increase', 'from'): 10384,\n         ('year', 'a'): 90714,\n         ('up', '%'): 10384,\n         ('RB', 'NN'): 19586,\n         ('from', 'October'): 6953,\n         ('boom', ','): 20764,\n         ('target', 'of'): 6951,\n         ('increased', 'to'): 20118,\n         ('announced', ','): 30090,\n         ('plan', 'new'): 10372,\n         ('plan', 'for'): 10372,\n         ('is', 'plan'): 10370,\n         ('VBZ', 'NN'): 149755,\n         ('plan', 'the'): 41246,\n         ('magazine', 'the'): 18674,\n         ('competition', 'the'): 18432,\n         ('Report', ','): 15608,\n         ('magazine', \"'s\"): 10368,\n         ('NN', 'POS'): 408714,\n         (\"'s\", 'Time'): 20730,\n         ('Report', 'and'): 10368,\n         ('Spoon', ','): 10366,\n         (\"'s\", 'Newsweek'): 10366,\n         ('lowered', ','): 10362,\n         ('base', 'circulation'): 10362,\n         ('NN', 'NN'): 851663,\n         ('rates', 'ad'): 6942,\n         ('NNS', 'NN'): 410365,\n         ('costs', ';'): 10362,\n         ('VBZ', ':'): 10362,\n         ('with', 'base'): 10362,\n         ('will', 'rate'): 6942,\n         ('MD', 'NN'): 32596,\n         ('costs', 'page'): 6942,\n         ('page', 'a'): 10362,\n         ('in', 'Time'): 10362,\n         ('in', '1990'): 10356,\n         ('IN', 'CD'): 86867,\n         ('spending', '1989'): 10356,\n         ('NN', 'CD'): 280767,\n         ('spent', 'in'): 10356,\n         ('340,000', '$'): 10356,\n         ('340,000', 'in'): 10356,\n         ('CD', 'IN'): 50952,\n         ('shore', 'to'): 10354,\n         ('decline', 'in'): 31356,\n         ('in', 'pages'): 10354,\n         ('pages', 'ad'): 10354,\n         ('drop', ','): 14294,\n         ('drop', 'a'): 17758,\n         ('drop', 'of'): 10354,\n         ('what', 'are'): 10352,\n         ('WP', 'VBP'): 34742,\n         ('had', ','): 48496,\n         ('largest', ','): 10346,\n         ('circulation', 'of'): 10346,\n         ('decrease', ','): 10346,\n         ('decrease', 'of'): 10346,\n         ('bidding', 'the'): 27274,\n         ('Co.', 'of'): 25718,\n         ('Hampshire', 'New'): 41312,\n         ('payoff', 'the'): 10340,\n         ('payoff', 'too'): 6931,\n         ('NN', 'RB'): 6931,\n         ('future', 'the'): 30522,\n         ('under', 'which'): 10338,\n         ('IN', 'WDT'): 10338,\n         ('company', 'an'): 10338,\n         ('Electric', ','): 20672,\n         ('below', '$'): 10336,\n         ('IN', '$'): 145675,\n         ('value', 'the'): 32490,\n         ('value', '$'): 10336,\n         ('NN', '$'): 193787,\n         ('on', 'bid'): 10336,\n         ('bid', 'its'): 20644,\n         ('NN', 'PRP$'): 352279,\n         ('is', 'is'): 102290,\n         ('VBZ', 'VBZ'): 169084,\n         ('is', 'based'): 10334,\n         ('VBZ', 'VBN'): 40542,\n         ('based', 'in'): 23734,\n         ('Conn.', ','): 62656,\n         ('Conn', ','): 26416,\n         ('N.H.', ','): 20664,\n         ('officer', ','): 127542,\n         ('officer', 'and'): 60080,\n         ('officer', 'of'): 27862,\n         ('as', '--'): 18868,\n         ('IN', ':'): 134182,\n         ('efficiencies', 'and'): 10330,\n         ('seemed', ','): 16166,\n         ('seemed', 'seemed'): 10328,\n         ('VBD', 'VBD'): 172124,\n         ('years', 'the'): 32862,\n         ('seemed', 'and'): 10328,\n         ('VBD', 'CC'): 109250,\n         ('rewards', 'the'): 10328,\n         ('worried', 'also'): 6923,\n         ('VBN', 'RB'): 6923,\n         ('nation', 'the'): 16322,\n         ('factors', 'the'): 10318,\n         ('withdraw', 'to'): 10318,\n         ('adviser', ','): 25536,\n         ('adviser', 'the'): 10316,\n         ('withdrawal', 'the'): 14108,\n         ('withdrawal', 'of'): 10316,\n         ('process', 'the'): 25770,\n         ('against', '--'): 10314,\n         ('around', '%'): 10314,\n         ('purchase', 'of'): 38712,\n         ('PS', 'of'): 10310,\n         ('MD', 'PRP'): 55732,\n         ('review', 'by'): 10308,\n         ('could', 'it'): 10308,\n         ('purchase', 'the'): 35084,\n         ('one', 'the'): 10308,\n         ('approved', 'by'): 14998,\n         ('court', 'the'): 31488,\n         ('3.75', ','): 10306,\n         ('CD', ','): 266300,\n         ('chairman', 'and'): 10304,\n         ('chairman', 'of'): 35852,\n         ('chain', 'and'): 10304,\n         ('undersecretary', ','): 29834,\n         ('refund', 'to'): 10300,\n         ('collected', 'for'): 10300,\n         ('largest', 'the'): 6910,\n         ('make', 'to'): 118845,\n         ('$', '$'): 250096,\n         ('customers', 'Edison'): 10296,\n         ('NNS', 'NNP'): 161218,\n         ('customers', 'who'): 10296,\n         ('NNS', 'WP'): 74328,\n         ('who', 'have'): 14216,\n         ('including', 'customers'): 10296,\n         ('VBG', 'NNS'): 24118,\n         ('customers', 'about'): 10296,\n         ('block', 'to'): 23024,\n         ('appealing', 'order'): 10290,\n         ('VBG', 'NN'): 26842,\n         ('considering', 'appealing'): 10290,\n         ('VBG', 'VBG'): 10290,\n         ('amount', 'of'): 37662,\n         ('of', 'year'): 25302,\n         ('share', ','): 253178,\n         ('3.01', '$'): 10284,\n         ('closed', ','): 54750,\n         ('Ill.', ','): 95490,\n         ('plant', 'the'): 14702,\n         ('rates', 'the'): 17842,\n         ('refund', 'expenses'): 10272,\n         ('ruled', ','): 16520,\n         ('commission', 'the'): 10268,\n         ('$', 'million'): 338764,\n         ('was', 'and'): 19446,\n         ('refund', 'the'): 6893,\n         ('case', 'a'): 18862,\n         ('plant', \"'s\"): 10260,\n         ('record', ','): 15472,\n         ('month', 'the'): 57268,\n         (\"'\", 'Japan'): 6887,\n         ('%', '%'): 148296,\n         ('%', 'in'): 79216,\n         ('sales', ','): 10246,\n         ('Sales', ','): 10242,\n         ('benefited', 'from'): 10242,\n         ('arising', 'from'): 10242,\n         ('introduction', 'of'): 10242,\n         ('NNP', 'NNPS'): 18466,\n         ('Inc.', 'Texas'): 10240,\n         ('Inc.', 'Instruments'): 10240,\n         ('plant', 'a'): 21778,\n         ('demand', 'in'): 14006,\n         ('Corp.', 'Cray'): 10234,\n         ('creativity', 'the'): 6878,\n         ('longevity', '--'): 10234,\n         ('NN', ':'): 175714,\n         ('creativity', 'of'): 10234,\n         ('designer', 'and'): 10234,\n         ('spinoff', 'the'): 30666,\n         ('Inc.', 'Cray'): 10230,\n         ('$', 'the'): 26870,\n         ('$', 'DT'): 26870,\n         ('firm', 'the'): 52406,\n         ('if', 'if'): 16596,\n         ('IN', 'VBZ'): 176772,\n         ('if', 'is'): 21216,\n         ('project', 'the'): 30030,\n         ('machine', 'the'): 20424,\n         ('been', ','): 6874,\n         ('VBN', ','): 135078,\n         ('company', 'the'): 366476,\n         ('strings', 'the'): 10224,\n         ('financing', 'the'): 10224,\n         ('Barnum', ','): 13572,\n         ('could', 'is'): 6871,\n         ('MD', 'VBZ'): 6871,\n         ('designer', 'the'): 10220,\n         ('did', 'not'): 10218,\n         ('VBD', 'RB'): 70971,\n         ('that', 'did'): 6870,\n         ('WDT', 'VBD'): 6870,\n         ('close', 'to'): 22188,\n         ('38', '$'): 10212,\n         (\"'s\", 'Cray'): 10210,\n         ('link', 'to'): 15634,\n         ('presence', \"'s\"): 13780,\n         ('Inc.', 'Smaby'): 10208,\n         (\"'s\", 'the'): 174554,\n         ('POS', 'DT'): 178040,\n         ('company', \"'s\"): 10202,\n         ('technology', \"'s\"): 10202,\n         ('technology', ','): 10202,\n         ('chips', ','): 10200,\n         ('supercomputer', 'the'): 20368,\n         ('competition', ','): 10196,\n         ('Research', 'Cray'): 40718,\n         ('which', 'which'): 10196,\n         ('WDT', 'WDT'): 10196,\n         ('market', 'the'): 310137,\n         ('competitor', ','): 20392,\n         ('Ltd', 'Corp.'): 10194,\n         ('Ltd', 'and'): 29106,\n         ('share', 'Cray'): 10190,\n         ('VB', 'IN'): 191644,\n         ('shares', 'Cray'): 10190,\n         ('shares', 'Research'): 10190,\n         ('occur', 'to'): 10190,\n         ('occur', 'in'): 10190,\n         ('about', 'two'): 10190,\n         ('marketplace', 'the'): 19716,\n         ('decide', 'to'): 10186,\n         ('development', 'the'): 10180,\n         ('development', ','): 27552,\n         (\"'s\", 'Research'): 10180,\n         ('expenses', 'the'): 10176,\n         ('profit', 'of'): 19508,\n         ('than', '$'): 6849,\n         ('would', ','): 52442,\n         ('MD', ','): 265379,\n         ('Cray', ','): 10172,\n         ('reached', 'for'): 10172,\n         ('Colo.', ','): 102718,\n         ('officer', 'president'): 14594,\n         ('hardware', ';'): 20332,\n         ('engineering', ','): 30498,\n         ('engineering', 'president'): 10166,\n         ('president', 'vice'): 20332,\n         ('software', ','): 30498,\n         ('software', 'president'): 10166,\n         ('hardware', 'and'): 10166,\n         ('hardware', ','): 30498,\n         ('Computer', ','): 10162,\n         ('end', 'of'): 63853,\n         ('Stevens', ','): 20320,\n         ('report', 'to'): 23346,\n         ('59', ','): 10154,\n         ('45', ','): 10150,\n         ('63', ','): 16334,\n         ('removed', ','): 20284,\n         ('Arabia', ','): 10142,\n         ('honor', 'U.S.'): 6832,\n         ('VB', 'NNP'): 6832,\n         ('rights', 'and'): 10142,\n         ('Mexico', '--'): 10140,\n         ('NNP', ':'): 371926,\n         ('Mexico', ','): 38240,\n         ('law', 'trade'): 10138,\n         ('degrees', 'of'): 10136,\n         ('is', \"''\"): 47926,\n         ('VBZ', \"''\"): 148186,\n         ('inventiveness', 'and'): 10134,\n         ('inventiveness', 'the'): 6828,\n         ('inventiveness', '``'): 6828,\n         ('NN', '``'): 76977,\n         ('inventiveness', 'of'): 10134,\n         ('NNS', 'PRP$'): 82126,\n         ('authors', 'and'): 10132,\n         ('by', 'by'): 19356,\n         ('firms', 'U.S.'): 10132,\n         ('products', 'their'): 10132,\n         ('prosecutors', 'and'): 10130,\n         ('pirates', 'and'): 10130,\n         ('law', 'its'): 10126,\n         ('for', ','): 140661,\n         ('IN', ','): 432843,\n         ('enact', 'to'): 6822,\n         ('enact', 'law'): 10122,\n         ('VB', 'NN'): 97166,\n         ('apply', 'to'): 19794,\n         ('to', 'to'): 40160,\n         ('TO', 'TO'): 40160,\n         ('including', '--'): 10116,\n         ('Spain', ','): 20232,\n         ('pose', 'to'): 14292,\n         ('owners', 'and'): 10116,\n         ('list', 'the'): 32568,\n         ('lawyer', ','): 47806,\n         ('lawyer', 'a'): 33633,\n         ('specializing', 'in'): 10114,\n         ('threat', 'the'): 10114,\n         ('threat', ','): 20228,\n         ('recognition', 'a'): 10114,\n         ('that', 'is'): 54554,\n         ('DT', 'VBZ'): 10112,\n         ('countries', 'be'): 10110,\n         ('NNS', 'VB'): 10110,\n         ('because', 'of'): 19314,\n         ('progress', 'in'): 10108,\n         ('piracy', 'in'): 10106,\n         ('patents', 'U.S.'): 10106,\n         ('performance', 'of'): 14242,\n         ('act', 'the'): 6812,\n         ('world', 'the'): 82754,\n         ('declaration', 'by'): 10098,\n         ('official', 'an'): 10098,\n         ('stature', 'such'): 10098,\n         ('value', 'of'): 18874,\n         ('Alurralde', ','): 10094,\n         ('Menem', ','): 10088,\n         ('reduction', 'of'): 10088,\n         ('debt', 'the'): 37878,\n         ('milestones', 'of'): 10084,\n         ('advance', 'from'): 10074,\n         ('I', 'Apple'): 10074,\n         ('garage', 'a'): 10074,\n         ('computers', 'for'): 10068,\n         ('PCs', 'the'): 10066,\n         ('unlike', '--'): 10066,\n         ('IMSAI', 'and'): 10066,\n         ('than', 'times'): 10064,\n         ('times', 'than'): 10064,\n         ('Allen', 'Gates'): 10060,\n         ('Allen', 'and'): 10060,\n         ('billionaire', 'an'): 10060,\n         ('adapted', 'in'): 10060,\n         ('team', 'the'): 36950,\n         ('engineers', ','): 10056,\n         ('telephone', 'the'): 10056,\n         ('leader', ','): 16592,\n         ('company', ','): 82816,\n         ('affiliate', 'Inc.'): 10050,\n         ('owns', '%'): 10046,\n         ('stake', ','): 10044,\n         ('increase', 'to'): 23972,\n         ('interest', 'its'): 10044,\n         ('of', 'stock'): 24060,\n         ('to', 'barrels'): 6782,\n         ('TO', 'NNS'): 13022,\n         ('launch', 'the'): 10042,\n         ('field', 'the'): 17274,\n         ('first', 'of'): 10042,\n         ('JJ', 'IN'): 98901,\n         ('of', 'fields'): 10042,\n         ('scheduled', 'be'): 6782,\n         ('VBN', 'VB'): 57082,\n         ('into', 'production'): 10042,\n         ('venture', 'a'): 17668,\n         ('are', 'fields'): 6776,\n         ('VBP', 'NNS'): 88475,\n         ('fields', 'and'): 16806,\n         ('producing', 'year'): 6776,\n         ('year', 'next'): 10030,\n         ('barrels', 'the'): 10028,\n         ('from', 'fields'): 10028,\n         ('sale', 'the'): 63800,\n         ('Sloan', ','): 10026,\n         ('year', 'of'): 23802,\n         ('led', 'by'): 14996,\n         ('maker', 'the'): 34264,\n         ('maker', 'of'): 41086,\n         ('certain', 'of'): 16270,\n         ('part', 'of'): 112938,\n         ('types', 'of'): 30038,\n         ('produced', 'in'): 10020,\n         ('possessions', 'U.S.'): 10020,\n         ('Islands', 'the'): 13538,\n         ('NNPS', 'DT'): 18386,\n         ('petition', 'for'): 10018,\n         ('changes', 'in'): 15054,\n         ('grant', 'to'): 25096,\n         ('treatment', 'for'): 10012,\n         ('potential', 'the'): 16390,\n         ('potential', 'for'): 10012,\n         ('including', 'watches'): 10010,\n         ('nations', 'and'): 6766,\n         ('preferences', 'the'): 10010,\n         ('preferences', 'U.S.'): 10010,\n         ('beneficiaries', 'the'): 10008,\n         ('types', 'the'): 10006,\n         ('totaled', ','): 16784,\n         ('share', 'of'): 22396,\n         ('year', '$'): 15852,\n         ('year', 'in'): 17200,\n         ('aide', 'to'): 10006,\n         ('NN', 'TO'): 94112,\n         ('Hills', 'U.S.'): 10006,\n         ('McAlpine', ','): 20008,\n         ('Stronach', ','): 20008,\n         ('achieved', 'and'): 10002,\n         ('VBN', 'CC'): 30604,\n         ('finance', ','): 23858,\n         ('downturn', 'a'): 19790,\n         ('declines', 'in'): 9996,\n         ('shareholder', ','): 19980,\n         ('seek', ','): 9990,\n         ('VB', ','): 115536,\n         ('executive', ','): 59076,\n         ('with', 'Magna'): 9980,\n         ('Maxwell', ','): 19948,\n         ('other', '--'): 9962,\n         ('return', 'a'): 14258,\n         ('with', 'return'): 9962,\n         ('linked', 'to'): 9962,\n         ('rate', 'the'): 52017,\n         ('of', 'prepayment'): 9960,\n         ('forces', ','): 9960,\n         ('redeploy', 'to'): 9960,\n         ('at', 'rates'): 9960,\n         ('channel', ','): 9958,\n         ('VBP', ','): 452810,\n         ('into', 'payments'): 9958,\n         ('funds', 'the'): 21530,\n         ('investment', 'in'): 21554,\n         (\"'s\", 'Fannie'): 9952,\n         (\"'s\", 'Mae'): 9952,\n         ('months', 'of'): 18062,\n         ('tenth', ','): 9952,\n         ('tenth', 'of'): 9952,\n         ('amount', 'the'): 25920,\n         ('1990', ','): 9948,\n         ('right', 'the'): 35984,\n         ('file', 'to'): 6735,\n         ('plan', 'a'): 28672,\n         ('attempts', 'it'): 9946,\n         ('VBZ', 'PRP'): 215047,\n         ('pay', 'to'): 47451,\n         ('S.p.A.', 'Montedison'): 9944,\n         ('through', ','): 26384,\n         ('offer', 'its'): 9944,\n         ('shares', 'the'): 16332,\n         ('maker', 'N.V.'): 9944,\n         ('maker', ','): 54776,\n         ('offer', 'The'): 9942,\n         ('offer', ','): 21552,\n         ('rights', ','): 17860,\n         ('Bank', 'of'): 26174,\n         ('currency', 'the'): 18354,\n         ('level', 'the'): 27988,\n         ('country', 'country'): 9928,\n         ('stocks', 'of'): 18714,\n         ('of', 'country'): 9926,\n         ('country', 'a'): 9926,\n         ('level', ','): 9924,\n         ('all', 'of'): 16214,\n         ('DT', 'IN'): 40238,\n         ('firm', ','): 41478,\n         ('from', 'to'): 23870,\n         ('IN', 'TO'): 23870,\n         ('visit', 'by'): 9920,\n         ('head', 'a'): 18442,\n         ('partner', ','): 15466,\n         ('of', 'funds'): 9914,\n         ('mania', 'the'): 9914,\n         ('mania', 'of'): 9914,\n         ('says', ','): 518202,\n         ('are', ','): 58256,\n         ('number', 'of'): 103968,\n         ('London', 'or'): 9908,\n         ('analyst', ','): 75202,\n         ('Co.', ','): 51992,\n         ('York', ','): 104704,\n         ('As', 'have'): 9900,\n         ('IN', 'VBP'): 55846,\n         ('sell', 'to'): 54134,\n         ('hold', 'to'): 9896,\n         ('have', 'markets'): 9894,\n         ('research', 'of'): 9892,\n         ('dropped', '%'): 6703,\n         ('VBD', 'NNP'): 80886,\n         ('plunged', 'Fund'): 9884,\n         ('Fund', 'the'): 19722,\n         ('NNP', 'DT'): 540531,\n         ('plunged', '%'): 9884,\n         ('NNS', 'JJS'): 16338,\n         ('stocks', 'most'): 9882,\n         ('trading', 'at'): 9878,\n         ('of', '%'): 46536,\n         ('premium', 'an'): 9878,\n         ('premium', 'average'): 9878,\n         ('premium', 'of'): 9878,\n         ('many', 'of'): 9876,\n         ('markets', 'that'): 9874,\n         ('markets', ','): 15282,\n         ('levels', 'of'): 28520,\n         ('investors', 'U.S.'): 6689,\n         ('stocks', 'the'): 20806,\n         ('traded', 'in'): 9856,\n         ('premium', 'the'): 9854,\n         ('people', 'who'): 9852,\n         ('buy', 'to'): 61478,\n         ('party', 'the'): 22337,\n         ('leave', 'to'): 9852,\n         ('Union', 'U.S.'): 9850,\n         ('debts', 'the'): 19680,\n         ('way', 'the'): 43150,\n         ('talks', 'the'): 33394,\n         ('branch', 'a'): 9844,\n         ('way', 'a'): 14488,\n         ('settle', 'to'): 9840,\n         ('Communists', 'the'): 9840,\n         ('Act', ','): 9838,\n         ('amended', ','): 12996,\n         ('extend', 'to'): 21225,\n         ('default', 'to'): 9838,\n         ('extend', ','): 6680,\n         ('key', 'the'): 9832,\n         ('Soviets', 'the'): 9830,\n         ('millions', 'of'): 15388,\n         ('hundreds', 'in'): 9830,\n         ('outstanding', 'still'): 9830,\n         ('JJ', 'RB'): 46939,\n         ('program', 'the'): 40170,\n         ('reflection', 'that'): 9828,\n         ('economy', 'the'): 50428,\n         ('from', 'in'): 16454,\n         ('$', 'in'): 63933,\n         ('$', 'IN'): 91107,\n         ('booked', 'in'): 9818,\n         ('as', '$'): 9818,\n         ('Department', 'the'): 41778,\n         ('surge', '%'): 9816,\n         ('in', 'orders'): 9816,\n         ('orders', 'for'): 9816,\n         ('department', 'the'): 38402,\n         ('from', '$'): 20202,\n         ('was', 'was'): 26940,\n         ('were', 'adjusted'): 9810,\n         ('VBD', 'VBN'): 40958,\n         ('were', 'were'): 34540,\n         ('bank', ','): 37040,\n         ('demand', 'for'): 17832,\n         ('drop', 'the'): 31474,\n         ('spring', 'the'): 6664,\n         ('industry', 'the'): 71856,\n         ('signals', 'of'): 9792,\n         ('watched', 'for'): 9790,\n         ('buildup', 'in'): 9788,\n         ('that', 'can'): 9788,\n         ('WDT', 'MD'): 18638,\n         ('recession', 'a'): 9788,\n         ('report', 'factory'): 9786,\n         ('economist', ','): 33678,\n         ('those', '--'): 9778,\n         ('DT', ':'): 17342,\n         ('last', 'to'): 9778,\n         ('fell', '%'): 27315,\n         ('rising', '%'): 9776,\n         ('strength', 'in'): 9768,\n         ('report', 'construction'): 9764,\n         ('construction', ','): 27142,\n         ('of', 'spending'): 9764,\n         ('spending', 'construction'): 9764,\n         ('rate', 'of'): 42846,\n         ('Group', \"'s\"): 6637,\n         ('NNP', 'POS'): 30351,\n         ('awarded', 'in'): 9750,\n         ('counts', 'counts'): 9748,\n         ('director', ','): 118036,\n         ('VB', 'VB'): 48906,\n         ('range', 'the'): 6632,\n         ('be', 'be'): 17230,\n         ('though', ','): 18040,\n         ('were', 'month'): 9736,\n         ('with', '%'): 32740,\n         ('executives', 'purchasing'): 9722,\n         ('difference', 'the'): 27496,\n         ('number', 'number'): 18440,\n         ('number', 'reporting'): 9720,\n         ('NN', 'VBG'): 9720,\n         ('worsening', 'a'): 6621,\n         ('survey', 'the'): 16230,\n         ('VBD', 'PRP'): 424795,\n         ('said', 'said'): 34182,\n         ('said', '%'): 14100,\n         ('said', 'imported'): 9716,\n         ('imported', 'they'): 9716,\n         ('powder', 'milk'): 9712,\n         ('shortage', 'a'): 9708,\n         ('exports', 'of'): 9706,\n         ('Americana', 'the'): 9698,\n         ('18.95', ','): 16308,\n         ('lot', 'in'): 9698,\n         ('Harpo', 'and'): 9692,\n         ('affairs', 'and'): 9690,\n         ('charm', 'the'): 9686,\n         ('charm', 'of'): 9686,\n         ('lore', 'American'): 9686,\n         ('belong', 'to'): 9684,\n         ('writers', 'who'): 9684,\n         ('notion', 'the'): 6603,\n         ('notion', 'of'): 19210,\n         ('Japanese', 'the'): 17370,\n         ('IN', 'PRP'): 32510,\n         ('of', 'us'): 22184,\n         ('hero', ','): 9676,\n         ('behest', 'of'): 9676,\n         ('mobster', 'a'): 9676,\n         ('mobster', ','): 9676,\n         ('mobster', 'with'): 9676,\n         ('degree', 'a'): 9676,\n         ('chauffeur', 'a'): 9672,\n         ('chauffeur', 'who'): 9672,\n         ('NN', 'WP'): 14504,\n         ('hero', 'the'): 9672,\n         ('figure', ','): 19344,\n         ('else', '--'): 9672,\n         ('RB', ':'): 15930,\n         ('Wood', ','): 9668,\n         ('published', 'in'): 9668,\n         ('pack', '--'): 9666,\n         ('Have', \"''\"): 9662,\n         ('NNP', \"''\"): 19122,\n         ('17.95', ','): 25900,\n         ('baseball', ','): 9662,\n         ('version', 'the'): 9662,\n         ('call', 'to'): 9662,\n         ('game', '``'): 9662,\n         ('virtues', 'of'): 9660,\n         ('for', '``'): 6590,\n         ('IN', '``'): 22418,\n         ('miles', 'miles'): 9658,\n         ('NNS', 'NNS'): 236715,\n         ('miles', 'and'): 9658,\n         ('soul', ','): 28962,\n         ('fact', 'the'): 14372,\n         ('ball', 'a'): 9652,\n         ('MD', ':'): 62244,\n         ('must', ';'): 19304,\n         ('zone', 'the'): 9652,\n         ('depending', 'on'): 9652,\n         ('size', 'the'): 34006,\n         ('size', 'of'): 34882,\n         ('hitter', 'the'): 9652,\n         ('welcomed', '--'): 9652,\n         ('VBN', ':'): 15088,\n         ('shame', 'the'): 9652,\n         ('shame', 'of'): 9652,\n         ('must', 'players'): 9652,\n         ('MD', 'NNS'): 48142,\n         ('abide', 'must'): 6587,\n         ('VB', 'MD'): 6587,\n         ('must', '--'): 9652,\n         ('players', 'for'): 9652,\n         ('wear', 'ties'): 9652,\n         ('road', 'the'): 23714,\n         ('ballplayers', ','): 9650,\n         ('number', 'a'): 27994,\n         (\"'s\", 'it'): 52654,\n         ('regret', 'the'): 9644,\n         ('regret', 'of'): 9644,\n         ('vicious', ','): 9642,\n         ('JJ', ','): 141046,\n         ('vicious', 'even'): 9642,\n         ('describes', ','): 9642,\n         ('office', 'the'): 27592,\n         ('office', ','): 27640,\n         ('at', '--'): 9642,\n         ('at', 'at'): 32198,\n         ('dormitory', 'the'): 9642,\n         ('sake', 'of'): 9638,\n         ('that', ','): 23114,\n         ('system', 'the'): 27232,\n         ('hierarchical', 'that'): 9638,\n         ('can', 'manager'): 9638,\n         ('manager', 'the'): 68998,\n         ('talk', 'to'): 9638,\n         ('to', 'manager'): 19276,\n         ('manager', 'and'): 23879,\n         ('employee', ','): 9638,\n         ('went', 'to'): 9636,\n         ('science', 'and'): 9636,\n         ('invent', 'to'): 9636,\n         ('books', 'the'): 9634,\n         ('crime', 'the'): 18352,\n         ('founder', ','): 18554,\n         ('founder', 'of'): 9634,\n         ('of', 'Sony'): 9634,\n         (\"'s\", 'would'): 9630,\n         ('VBZ', 'MD'): 16074,\n         ('would', 'have'): 9630,\n         ('MD', 'VB'): 127819,\n         ('Morita', 'Mr.'): 9630,\n         ('corners', 'of'): 9626,\n         ('centers', ','): 6573,\n         ('fine', 'a'): 9624,\n         ('clubs', 'and'): 9622,\n         ('restaurants', ','): 19240,\n         ('minister', ','): 26070,\n         ('minister', 'a'): 9618,\n         (\"'s\", 'minister'): 9618,\n         ('POS', 'NN'): 15364,\n         ('opened', 'to'): 9612,\n         ('markets', 'the'): 57870,\n         ('agency', 'the'): 16090,\n         ('in', 'than'): 9604,\n         ('deal', 'of'): 14808,\n         ('with', 'in'): 6563,\n         ('consumers', 'in'): 9604,\n         ('in', 'one'): 9604,\n         ('in', 'in'): 26294,\n         ('meeting', 'a'): 9602,\n         ('meeting', ','): 19200,\n         ('draw', 'to'): 9600,\n         ('held', 'at'): 9600,\n         ('chairman', 'the'): 16948,\n         ('back', 'to'): 9596,\n         ('join', 'to'): 27852,\n         ('committee', 'the'): 19190,\n         ('WAFA', 'the'): 9596,\n         ('official', 'of'): 9594,\n         ('renewed', 'in'): 9594,\n         ('membership', 'in'): 9592,\n         ('Organization', 'Organization'): 9592,\n         ('Organization', 'the'): 9592,\n         ('Organization', 'World'): 9592,\n         ('Chinese', 'the'): 9590,\n         ('man', ','): 31174,\n         ('disease', 'the'): 19174,\n         ('newspaper', 'the'): 15444,\n         ('life', 'a'): 9584,\n         ('life', ','): 19094,\n         ('announced', 'in'): 13108,\n         ('in', ','): 101812,\n         ('dam', 'a'): 9576,\n         ('with', 'dam'): 9574,\n         ('dam', ','): 9574,\n         ('Czechoslovakia', ','): 9572,\n         ('painted', 'in'): 9562,\n         ('showed', ','): 9560,\n         ('weddings', 'in'): 9560,\n         ('than', 'in'): 16350,\n         ('in', 'year'): 34318,\n         ('year', 'last'): 9558,\n         ('271,124', '--'): 9558,\n         ('CD', ':'): 27082,\n         ('US$', 'million'): 9556,\n         ('dollars', ','): 9556,\n         ('date', 'the'): 9554,\n         ('spokesman', 'a'): 20004,\n         ('Inc.', 'Inc.'): 16366,\n         ('Lane', ','): 9540,\n         ('writer', ','): 23988,\n         ('shot', ','): 18966,\n         ('student', 'film'): 9538,\n         ('campus', 'the'): 9538,\n         ('film', ','): 9538,\n         ('film', 'a'): 9538,\n         ('artist', 'a'): 9538,\n         ('man', 'a'): 21802,\n         ('man', 'of'): 9538,\n         ('streets', 'the'): 27668,\n         ('has', ','): 118882,\n         ('piece', ','): 9536,\n         ('piece', 'a'): 15028,\n         ('tramp', 'a'): 9536,\n         ('is', '``'): 45398,\n         ('VBZ', '``'): 127852,\n         ('friend', ','): 19056,\n         ('bass', 'the'): 9528,\n         ('score', ','): 9528,\n         ('words', ','): 9528,\n         (\"'s\", 'Mr.'): 18848,\n         ('view', 'of'): 16490,\n         ('more', 'romanticized'): 9526,\n         ('RBR', 'VBN'): 9526,\n         ('notion', \"'s\"): 9526,\n         ('spirit', 'the'): 9526,\n         ('hustlers', ','): 6521,\n         ('dealers', 'no'): 9518,\n         ('one', ','): 25740,\n         ('PRP', ','): 9518,\n         ('men', 'no'): 9518,\n         ('calls', 'he'): 9512,\n         ('as', 'is'): 31606,\n         ('cure', 'to'): 9506,\n         ('Artist', 'the'): 9506,\n         ('put', 'in'): 13296,\n         ('waif', 'a'): 9506,\n         ('waif', ','): 19012,\n         ('blessing', 'a'): 9504,\n         ('inadequacy', 'the'): 9502,\n         ('inadequacy', 'of'): 9502,\n         ('beds', 'at'): 9500,\n         ('stakes', 'the'): 9498,\n         ('romance', ','): 9498,\n         ('woman', 'a'): 18862,\n         ('who', 'who'): 18524,\n         ('WP', 'WP'): 40626,\n         ('existence', \"'s\"): 9494,\n         ('wants', 'he'): 9492,\n         ('makes', ','): 9492,\n         ('sound', 'sound'): 9490,\n         ('sound', ','): 18980,\n         ('kind', 'of'): 30896,\n         ('picture', ','): 9486,\n         ('one', '--'): 9486,\n         ('character', 'a'): 9486,\n         ('Giraud', ','): 18968,\n         ('both', 'as'): 9484,\n         ('women', 'the'): 9484,\n         ('symbol', 'of'): 9484,\n         ...})"
     },
     "execution_count": 28,
     "metadata": {},
     "output_type": "execute_result"
    }
   ],
   "source": [
    "mst_counter"
   ],
   "metadata": {
    "collapsed": false,
    "pycharm": {
     "name": "#%%\n"
    }
   }
  },
  {
   "cell_type": "code",
   "execution_count": 27,
   "outputs": [
    {
     "data": {
      "text/plain": "5277"
     },
     "execution_count": 27,
     "metadata": {},
     "output_type": "execute_result"
    }
   ],
   "source": [
    "len(mst_counter)"
   ],
   "metadata": {
    "collapsed": false,
    "pycharm": {
     "name": "#%%\n"
    }
   }
  },
  {
   "cell_type": "code",
   "execution_count": 13,
   "outputs": [
    {
     "name": "stdout",
     "output_type": "stream",
     "text": [
      "digraph G{\n",
      "edge [dir=forward]\n",
      "node [shape=plaintext]\n",
      "\n",
      "0 [label=\"0 (None)\"]\n",
      "0 -> 8 [label=\"ROOT\"]\n",
      "1 [label=\"1 (Pierre)\"]\n",
      "2 [label=\"2 (Vinken)\"]\n",
      "2 -> 1 [label=\"\"]\n",
      "2 -> 3 [label=\"\"]\n",
      "2 -> 6 [label=\"\"]\n",
      "2 -> 7 [label=\"\"]\n",
      "3 [label=\"3 (,)\"]\n",
      "4 [label=\"4 (61)\"]\n",
      "5 [label=\"5 (years)\"]\n",
      "5 -> 4 [label=\"\"]\n",
      "6 [label=\"6 (old)\"]\n",
      "6 -> 5 [label=\"\"]\n",
      "7 [label=\"7 (,)\"]\n",
      "8 [label=\"8 (will)\"]\n",
      "8 -> 2 [label=\"\"]\n",
      "8 -> 9 [label=\"\"]\n",
      "8 -> 18 [label=\"\"]\n",
      "9 [label=\"9 (join)\"]\n",
      "9 -> 11 [label=\"\"]\n",
      "9 -> 12 [label=\"\"]\n",
      "9 -> 16 [label=\"\"]\n",
      "10 [label=\"10 (the)\"]\n",
      "11 [label=\"11 (board)\"]\n",
      "11 -> 10 [label=\"\"]\n",
      "12 [label=\"12 (as)\"]\n",
      "12 -> 15 [label=\"\"]\n",
      "13 [label=\"13 (a)\"]\n",
      "14 [label=\"14 (nonexecutive)\"]\n",
      "15 [label=\"15 (director)\"]\n",
      "15 -> 13 [label=\"\"]\n",
      "15 -> 14 [label=\"\"]\n",
      "16 [label=\"16 (Nov.)\"]\n",
      "16 -> 17 [label=\"\"]\n",
      "17 [label=\"17 (29)\"]\n",
      "18 [label=\"18 (.)\"]\n",
      "}\n"
     ]
    }
   ],
   "source": [
    "dg = sentences[0]\n",
    "dot = dg.to_dot()\n",
    "print(dot)\n",
    "src = graphviz.Source(dot)\n",
    "# dot.render('sent0-dep-treebank.gv', view=True)\n",
    "# doctest_mark_exe()\n",
    "# src.render('sent0-dep-treebank.gv', view=True).replace('\\\\', '/')"
   ],
   "metadata": {
    "collapsed": false,
    "pycharm": {
     "name": "#%%\n"
    }
   }
  },
  {
   "cell_type": "code",
   "execution_count": 14,
   "outputs": [
    {
     "name": "stdout",
     "output_type": "stream",
     "text": [
      "(will, MD), , (Vinken, NNP)\n",
      "(Vinken, NNP), , (Pierre, NNP)\n",
      "(Vinken, NNP), , (,, ,)\n",
      "(Vinken, NNP), , (old, JJ)\n",
      "(old, JJ), , (years, NNS)\n",
      "(years, NNS), , (61, CD)\n",
      "(Vinken, NNP), , (,, ,)\n",
      "(will, MD), , (join, VB)\n",
      "(join, VB), , (board, NN)\n",
      "(board, NN), , (the, DT)\n",
      "(join, VB), , (as, IN)\n",
      "(as, IN), , (director, NN)\n",
      "(director, NN), , (a, DT)\n",
      "(director, NN), , (nonexecutive, JJ)\n",
      "(join, VB), , (Nov., NNP)\n",
      "(Nov., NNP), , (29, CD)\n",
      "(will, MD), , (., .)\n",
      "(is, VBZ), , (Vinken, NNP)\n",
      "(Vinken, NNP), , (Mr., NNP)\n",
      "(is, VBZ), , (chairman, NN)\n",
      "(chairman, NN), , (of, IN)\n",
      "(of, IN), , (group, NN)\n",
      "(group, NN), , (N.V., NNP)\n",
      "(N.V., NNP), , (Elsevier, NNP)\n",
      "(group, NN), , (,, ,)\n",
      "(group, NN), , (the, DT)\n",
      "(group, NN), , (Dutch, NNP)\n",
      "(group, NN), , (publishing, VBG)\n",
      "(is, VBZ), , (., .)\n",
      "(was, VBD), , (Agnew, NNP)\n",
      "(Agnew, NNP), , (Rudolph, NNP)\n",
      "(Agnew, NNP), , (,, ,)\n",
      "(Agnew, NNP), , (old, JJ)\n",
      "(old, JJ), , (years, NNS)\n",
      "(years, NNS), , (55, CD)\n",
      "(old, JJ), , (and, CC)\n",
      "(old, JJ), , (chairman, NN)\n",
      "(chairman, NN), , (former, JJ)\n",
      "(chairman, NN), , (of, IN)\n",
      "(of, IN), , (PLC, NNP)\n",
      "(PLC, NNP), , (Consolidated, NNP)\n",
      "(PLC, NNP), , (Gold, NNP)\n",
      "(PLC, NNP), , (Fields, NNP)\n",
      "(Agnew, NNP), , (,, ,)\n",
      "(was, VBD), , (named, VBN)\n",
      "(named, VBN), , (director, NN)\n",
      "(director, NN), , (a, DT)\n",
      "(director, NN), , (nonexecutive, JJ)\n",
      "(director, NN), , (of, IN)\n",
      "(of, IN), , (conglomerate, NN)\n",
      "(conglomerate, NN), , (this, DT)\n",
      "(conglomerate, NN), , (British, JJ)\n",
      "(conglomerate, NN), , (industrial, JJ)\n",
      "(was, VBD), , (., .)\n",
      "(reported, VBD), , (has, VBZ)\n",
      "(has, VBZ), , (form, NN)\n",
      "(form, NN), , (A, DT)\n",
      "(form, NN), , (of, IN)\n",
      "(of, IN), , (asbestos, NN)\n",
      "(form, NN), , (used, VBN)\n",
      "(used, VBN), , (once, RB)\n",
      "(used, VBN), , (make, VB)\n",
      "(make, VB), , (to, TO)\n",
      "(make, VB), , (filters, NNS)\n",
      "(filters, NNS), , (Kent, NNP)\n",
      "(filters, NNS), , (cigarette, NN)\n",
      "(has, VBZ), , (caused, VBN)\n",
      "(caused, VBN), , (percentage, NN)\n",
      "(percentage, NN), , (a, DT)\n",
      "(percentage, NN), , (high, JJ)\n",
      "(percentage, NN), , (of, IN)\n",
      "(of, IN), , (deaths, NNS)\n",
      "(deaths, NNS), , (cancer, NN)\n",
      "(percentage, NN), , (among, IN)\n",
      "(among, IN), , (group, NN)\n",
      "(group, NN), , (a, DT)\n",
      "(group, NN), , (of, IN)\n",
      "(of, IN), , (workers, NNS)\n",
      "(workers, NNS), , (exposed, VBN)\n",
      "(exposed, VBN), , (to, TO)\n",
      "(to, TO), , (it, PRP)\n",
      "(exposed, VBN), , (ago, IN)\n",
      "(ago, IN), , (years, NNS)\n",
      "(years, NNS), , (than, IN)\n",
      "(than, IN), , (more, RBR)\n",
      "(than, IN), , (30, CD)\n",
      "(reported, VBD), , (,, ,)\n",
      "(reported, VBD), , (researchers, NNS)\n",
      "(reported, VBD), , (., .)\n",
      "(said, VBD), , (is, VBZ)\n",
      "(is, VBZ), , (crocidolite, NN)\n",
      "(crocidolite, NN), , (fiber, NN)\n",
      "(fiber, NN), , (The, DT)\n",
      "(fiber, NN), , (asbestos, NN)\n",
      "(crocidolite, NN), , (,, ,)\n",
      "(crocidolite, NN), , (,, ,)\n",
      "(is, VBZ), , (resilient, JJ)\n",
      "(resilient, JJ), , (unusually, RB)\n",
      "(is, VBZ), , (once, IN)\n",
      "(once, IN), , (enters, VBZ)\n",
      "(enters, VBZ), , (it, PRP)\n",
      "(enters, VBZ), , (lungs, NNS)\n",
      "(lungs, NNS), , (the, DT)\n",
      "(is, VBZ), , (,, ,)\n",
      "(is, VBZ), , (with, IN)\n",
      "(with, IN), , (causing, VBG)\n",
      "(causing, VBG), , (exposures, NNS)\n",
      "(exposures, NNS), , (even, RB)\n",
      "(exposures, NNS), , (brief, JJ)\n",
      "(exposures, NNS), , (to, TO)\n",
      "(to, TO), , (it, PRP)\n",
      "(causing, VBG), , (symptoms, NNS)\n",
      "(symptoms, NNS), , (that, WDT)\n",
      "(that, WDT), , (show, VBP)\n",
      "(show, VBP), , (up, RP)\n",
      "(show, VBP), , (later, JJ)\n",
      "(later, JJ), , (decades, NNS)\n",
      "(said, VBD), , (,, ,)\n",
      "(said, VBD), , (researchers, NNS)\n",
      "(said, VBD), , (., .)\n",
      "(stopped, VBD), , (unit, NN)\n",
      "(unit, NN), , (Inc., NNP)\n",
      "(Inc., NNP), , (Lorillard, NNP)\n",
      "(unit, NN), , (,, ,)\n",
      "(unit, NN), , (the, DT)\n",
      "(unit, NN), , (of, IN)\n",
      "(of, IN), , (Corp., NNP)\n",
      "(Corp., NNP), , (York-based, JJ)\n",
      "(York-based, JJ), , (New, JJ)\n",
      "(Corp., NNP), , (Loews, NNP)\n",
      "(unit, NN), , (that, WDT)\n",
      "(that, WDT), , (makes, VBZ)\n",
      "(makes, VBZ), , (cigarettes, NNS)\n",
      "(cigarettes, NNS), , (Kent, NNP)\n",
      "(unit, NN), , (,, ,)\n",
      "(stopped, VBD), , (using, VBG)\n",
      "(using, VBG), , (crocidolite, NN)\n",
      "(using, VBG), , (in, IN)\n",
      "(in, IN), , (filters, NNS)\n",
      "(filters, NNS), , (its, PRP$)\n",
      "(filters, NNS), , (Micronite, NN)\n",
      "(filters, NNS), , (cigarette, NN)\n",
      "(using, VBG), , (in, IN)\n",
      "(in, IN), , (1956, CD)\n",
      "(stopped, VBD), , (., .)\n",
      "(appear, VBP), , (Although, IN)\n",
      "(Although, IN), , (were, VBD)\n",
      "(were, VBD), , (findings, NNS)\n",
      "(findings, NNS), , (preliminary, JJ)\n",
      "(were, VBD), , (reported, VBN)\n",
      "(reported, VBN), , (ago, IN)\n",
      "(ago, IN), , (year, NN)\n",
      "(year, NN), , (than, IN)\n",
      "(than, IN), , (more, RBR)\n",
      "(than, IN), , (a, DT)\n",
      "(appear, VBP), , (,, ,)\n",
      "(appear, VBP), , (results, NNS)\n",
      "(results, NNS), , (the, DT)\n",
      "(results, NNS), , (latest, JJS)\n",
      "(appear, VBP), , (in, IN)\n",
      "(in, IN), , (forum, NN)\n",
      "(forum, NN), , (Journal, NNP)\n",
      "(Journal, NNP), , ('s, POS)\n",
      "('s, POS), , (today, NN)\n",
      "(Journal, NNP), , (New, NNP)\n",
      "(Journal, NNP), , (England, NNP)\n",
      "(Journal, NNP), , (of, IN)\n",
      "(of, IN), , (Medicine, NNP)\n",
      "(forum, NN), , (,, ,)\n",
      "(forum, NN), , (a, DT)\n",
      "(forum, NN), , (likely, JJ)\n",
      "(likely, JJ), , (bring, VB)\n",
      "(bring, VB), , (to, TO)\n",
      "(bring, VB), , (attention, NN)\n",
      "(attention, NN), , (new, JJ)\n",
      "(bring, VB), , (to, TO)\n",
      "(to, TO), , (problem, NN)\n",
      "(problem, NN), , (the, DT)\n",
      "(appear, VBP), , (., .)\n",
      "(said, VBD), , (spokewoman, NN)\n",
      "(spokewoman, NN), , (A, DT)\n",
      "(spokewoman, NN), , (Lorillard, NNP)\n",
      "(said, VBD), , (,, ,)\n",
      "(said, VBD), , (``, ``)\n",
      "(said, VBD), , (is, VBZ)\n",
      "(is, VBZ), , (This, DT)\n",
      "(is, VBZ), , (story, NN)\n",
      "(story, NN), , (an, DT)\n",
      "(story, NN), , (old, JJ)\n",
      "(said, VBD), , (., .)\n",
      "('re, VBP), , (We, PRP)\n",
      "('re, VBP), , (talking, VBG)\n",
      "(talking, VBG), , (about, IN)\n",
      "(about, IN), , (ago, IN)\n",
      "(ago, IN), , (years, NNS)\n",
      "(ago, IN), , (before, IN)\n",
      "(before, IN), , (heard, VBD)\n",
      "(heard, VBD), , (anyone, NN)\n",
      "(heard, VBD), , (of, IN)\n",
      "(of, IN), , (having, VBG)\n",
      "(having, VBG), , (asbestos, NN)\n",
      "(having, VBG), , (properties, NNS)\n",
      "(properties, NNS), , (any, DT)\n",
      "(properties, NNS), , (questionable, JJ)\n",
      "('re, VBP), , (., .)\n",
      "(is, VBZ), , (There, EX)\n",
      "(is, VBZ), , (asbestos, NN)\n",
      "(asbestos, NN), , (no, DT)\n",
      "(is, VBZ), , (in, IN)\n",
      "(in, IN), , (products, NNS)\n",
      "(products, NNS), , (our, PRP$)\n",
      "(is, VBZ), , (now, RB)\n",
      "(is, VBZ), , (., .)\n",
      "(is, VBZ), , ('', '')\n"
     ]
    }
   ],
   "source": [
    "for dg in sentences[:10]:\n",
    "    for head, rel, dep in dg.triples():\n",
    "        print('({h[0]}, {h[1]}), {r}, ({d[0]}, {d[1]})'\n",
    "              .format(h=head, r=rel, d=dep))"
   ],
   "metadata": {
    "collapsed": false,
    "pycharm": {
     "name": "#%%\n"
    }
   }
  },
  {
   "cell_type": "code",
   "execution_count": 15,
   "outputs": [],
   "source": [
    "def view_tree(dg):\n",
    "    src = graphviz.Source(dg.to_dot)\n",
    "    src.render('sent-dep-treebank.gv', view=True).replace('\\\\', '/')"
   ],
   "metadata": {
    "collapsed": false,
    "pycharm": {
     "name": "#%%\n"
    }
   }
  },
  {
   "cell_type": "code",
   "execution_count": 16,
   "outputs": [
    {
     "data": {
      "text/plain": "[(('is', 'VBZ'), '', ('There', 'EX')),\n (('is', 'VBZ'), '', ('asbestos', 'NN')),\n (('asbestos', 'NN'), '', ('no', 'DT')),\n (('is', 'VBZ'), '', ('in', 'IN')),\n (('in', 'IN'), '', ('products', 'NNS')),\n (('products', 'NNS'), '', ('our', 'PRP$')),\n (('is', 'VBZ'), '', ('now', 'RB')),\n (('is', 'VBZ'), '', ('.', '.')),\n (('is', 'VBZ'), '', (\"''\", \"''\"))]"
     },
     "execution_count": 16,
     "metadata": {},
     "output_type": "execute_result"
    }
   ],
   "source": [
    "list(dg.triples())"
   ],
   "metadata": {
    "collapsed": false,
    "pycharm": {
     "name": "#%%\n"
    }
   }
  },
  {
   "cell_type": "code",
   "execution_count": 17,
   "outputs": [
    {
     "data": {
      "text/plain": "5277"
     },
     "execution_count": 17,
     "metadata": {},
     "output_type": "execute_result"
    }
   ],
   "source": [
    "len(mst_counter)"
   ],
   "metadata": {
    "collapsed": false,
    "pycharm": {
     "name": "#%%\n"
    }
   }
  },
  {
   "cell_type": "code",
   "execution_count": 18,
   "outputs": [
    {
     "ename": "NameError",
     "evalue": "name 'G' is not defined",
     "output_type": "error",
     "traceback": [
      "\u001B[1;31m---------------------------------------------------------------------------\u001B[0m",
      "\u001B[1;31mNameError\u001B[0m                                 Traceback (most recent call last)",
      "\u001B[1;32m<ipython-input-18-d7cac1032e1f>\u001B[0m in \u001B[0;36m<module>\u001B[1;34m\u001B[0m\n\u001B[0;32m      3\u001B[0m \u001B[1;32mfrom\u001B[0m \u001B[0mnetworkx\u001B[0m\u001B[1;33m.\u001B[0m\u001B[0mdrawing\u001B[0m\u001B[1;33m.\u001B[0m\u001B[0mnx_agraph\u001B[0m \u001B[1;32mimport\u001B[0m \u001B[0mto_agraph\u001B[0m\u001B[1;33m\u001B[0m\u001B[1;33m\u001B[0m\u001B[0m\n\u001B[0;32m      4\u001B[0m \u001B[1;33m\u001B[0m\u001B[0m\n\u001B[1;32m----> 5\u001B[1;33m \u001B[0mA\u001B[0m \u001B[1;33m=\u001B[0m \u001B[0mto_agraph\u001B[0m\u001B[1;33m(\u001B[0m\u001B[0mG\u001B[0m\u001B[1;33m)\u001B[0m\u001B[1;33m\u001B[0m\u001B[1;33m\u001B[0m\u001B[0m\n\u001B[0m\u001B[0;32m      6\u001B[0m \u001B[0mdep_graph\u001B[0m \u001B[1;33m=\u001B[0m \u001B[0mDependencyGraph\u001B[0m\u001B[1;33m(\u001B[0m\u001B[0mA\u001B[0m\u001B[1;33m.\u001B[0m\u001B[0mto_string\u001B[0m\u001B[1;33m(\u001B[0m\u001B[1;33m)\u001B[0m\u001B[1;33m)\u001B[0m\u001B[1;33m\u001B[0m\u001B[1;33m\u001B[0m\u001B[0m\n\u001B[0;32m      7\u001B[0m \u001B[0mprint\u001B[0m\u001B[1;33m(\u001B[0m\u001B[0mdep_graph\u001B[0m\u001B[1;33m.\u001B[0m\u001B[0mtree\u001B[0m\u001B[1;33m(\u001B[0m\u001B[1;33m)\u001B[0m\u001B[1;33m)\u001B[0m\u001B[1;33m\u001B[0m\u001B[1;33m\u001B[0m\u001B[0m\n",
      "\u001B[1;31mNameError\u001B[0m: name 'G' is not defined"
     ]
    }
   ],
   "source": [
    "from nltk.parse import DependencyGraph\n",
    "import pygraphviz\n",
    "from networkx.drawing.nx_agraph import to_agraph\n",
    "\n",
    "A = to_agraph(G)\n",
    "dep_graph = DependencyGraph(A.to_string())\n",
    "print(dep_graph.tree())"
   ],
   "metadata": {
    "collapsed": false,
    "pycharm": {
     "name": "#%%\n"
    }
   }
  },
  {
   "cell_type": "code",
   "execution_count": null,
   "outputs": [],
   "source": [
    "def MST(mst_counter):\n",
    "    pass"
   ],
   "metadata": {
    "collapsed": false,
    "pycharm": {
     "name": "#%%\n"
    }
   }
  },
  {
   "cell_type": "code",
   "execution_count": null,
   "outputs": [],
   "source": [
    "print(dg.to_conll(3))"
   ],
   "metadata": {
    "collapsed": false,
    "pycharm": {
     "name": "#%%\n"
    }
   }
  },
  {
   "cell_type": "code",
   "execution_count": null,
   "outputs": [],
   "source": [
    "print(sentences[0].tree().pprint())"
   ],
   "metadata": {
    "collapsed": false,
    "pycharm": {
     "name": "#%%\n"
    }
   }
  },
  {
   "cell_type": "code",
   "execution_count": null,
   "outputs": [],
   "source": [
    "dg.triples()"
   ],
   "metadata": {
    "collapsed": false,
    "pycharm": {
     "name": "#%%\n"
    }
   }
  },
  {
   "cell_type": "code",
   "execution_count": null,
   "outputs": [],
   "source": [
    "for dg in sentences[:10]:\n",
    "    for head, rel, dep in dg.triples():\n",
    "        print('({h[0]}, {h[1]}), {r}, ({d[0]}, {d[1]})'\n",
    "              .format(h=head, r=rel, d=dep))"
   ],
   "metadata": {
    "collapsed": false,
    "pycharm": {
     "name": "#%%\n"
    }
   }
  },
  {
   "cell_type": "code",
   "execution_count": null,
   "outputs": [],
   "source": [
    "dir(dg)"
   ],
   "metadata": {
    "collapsed": false,
    "pycharm": {
     "name": "#%%\n"
    }
   }
  },
  {
   "cell_type": "code",
   "execution_count": null,
   "outputs": [],
   "source": [
    "two_digit_num = lambda w: w.isnumeric() and len(w) == 2\n",
    "\n",
    "four_digit_num = lambda w: w.isnumeric() and len(w) == 4\n",
    "\n",
    "def decorated_contains(char):\n",
    "  def contains_digit_and_char(w):\n",
    "    ret = char in w\n",
    "    for c in w:\n",
    "      if c.isnumeric():\n",
    "        return ret\n",
    "    return False\n",
    "  return contains_digit_and_char\n",
    "\n",
    "contains_digit_and_dash = decorated_contains('-')\n",
    "contains_digit_and_comma = decorated_contains(',')\n",
    "contains_digit_and_period = decorated_contains('.')\n",
    "contains_digit_and_slash = decorated_contains('/')\n",
    "\n",
    "all_caps = lambda w: 'all_caps' if w.isupper() else False\n",
    "othernum = lambda w: 'othernum' if w.isnumeric() else False\n",
    "not_anum = lambda w: 'not_anum' if not w.isalnum() else False\n",
    "cap_period = lambda w:\"cap_period\" if  len(w) == 2 and w.isupper() and w[1] == '.' else False\n",
    "init_cap = lambda w: 'init_cap' if w[0].isupper() and all(a.isalpha() and a.islower() for a in w[1:]) else False\n",
    "lowercase = lambda w: 'lowercase' if w.isalpha() and w.islower() else False\n",
    "other = lambda w: True"
   ],
   "metadata": {
    "collapsed": false,
    "pycharm": {
     "name": "#%%\n"
    }
   }
  },
  {
   "cell_type": "code",
   "execution_count": null,
   "outputs": [],
   "source": [
    "dic = {two_digit_num: 'two_digit_num',\n",
    "     four_digit_num:'four_digit_num',\n",
    "     contains_digit_and_dash:'contains_digit_and_dash',\n",
    "     contains_digit_and_comma:'contains_digit_and_comma',\n",
    "     contains_digit_and_period:'contains_digit_and_period',\n",
    "     contains_digit_and_slash:'contains_digit_and_slash',\n",
    "     all_caps:'all_caps',\n",
    "     othernum:'othernum',\n",
    "     not_anum:\"not_anum\",\n",
    "     cap_period:\"cap_period\",\n",
    "     init_cap:\"init_cap\"}\n",
    "\n"
   ],
   "metadata": {
    "collapsed": false,
    "pycharm": {
     "name": "#%%\n"
    }
   }
  },
  {
   "cell_type": "code",
   "execution_count": null,
   "outputs": [],
   "source": [
    "vocab = set()\n",
    "pos_tags = set()\n",
    "for dg in sentences:\n",
    "    for i, node in dg.nodes.items():\n",
    "        w = str(node['word'])\n",
    "        pos = node['tag']\n",
    "        # print(w, pos)\n",
    "        # for f in dic:\n",
    "        #     if f(w):\n",
    "        #         print(node['tag'])\n",
    "        #         w = dic[f]\n",
    "        # vocab.add(str(w).lower())\n",
    "        vocab.add(str(w))\n",
    "        # if not w.isalpha() and '_' not in w:\n",
    "        #     print(w)\n",
    "        pos_tags.add(pos)\n",
    "# vocab\n",
    "# pos_tags\n",
    "# vocab"
   ],
   "metadata": {
    "collapsed": false,
    "pycharm": {
     "name": "#%%\n"
    }
   }
  },
  {
   "cell_type": "code",
   "execution_count": null,
   "outputs": [],
   "source": [
    "len(vocab)"
   ],
   "metadata": {
    "collapsed": false,
    "pycharm": {
     "name": "#%%\n"
    }
   }
  },
  {
   "cell_type": "code",
   "execution_count": null,
   "outputs": [],
   "source": [
    "d = len(vocab)*len(vocab) + len(pos_tags)**2"
   ],
   "metadata": {
    "collapsed": false,
    "pycharm": {
     "name": "#%%\n"
    }
   }
  },
  {
   "cell_type": "code",
   "execution_count": null,
   "outputs": [],
   "source": [
    "vec = np.zeros(d)\n",
    "vec"
   ],
   "metadata": {
    "collapsed": false,
    "pycharm": {
     "name": "#%%\n"
    }
   }
  },
  {
   "cell_type": "code",
   "execution_count": null,
   "outputs": [],
   "source": [
    "pairs_dict = {}\n",
    "i = 0\n",
    "for w1 in vocab:\n",
    "    for w2 in vocab:\n",
    "        i += 1\n",
    "        pairs_dict[(w1, w2)] = i\n",
    "\n",
    "\n",
    "pairs_dict"
   ],
   "metadata": {
    "collapsed": false,
    "pycharm": {
     "name": "#%%\n"
    }
   }
  },
  {
   "cell_type": "code",
   "execution_count": null,
   "outputs": [],
   "source": [
    "n = int(len(sentences)*0.1)\n",
    "train, test = sentences[:-n], sentences[-n:]"
   ],
   "metadata": {
    "collapsed": false,
    "pycharm": {
     "name": "#%%\n"
    }
   }
  },
  {
   "cell_type": "code",
   "execution_count": null,
   "outputs": [],
   "source": [
    "len(train), len(test)"
   ],
   "metadata": {
    "collapsed": false,
    "pycharm": {
     "name": "#%%\n"
    }
   }
  },
  {
   "cell_type": "code",
   "execution_count": null,
   "outputs": [],
   "source": [
    "print(dir(sentences[0]))"
   ],
   "metadata": {
    "collapsed": false,
    "pycharm": {
     "name": "#%%\n"
    }
   }
  },
  {
   "cell_type": "code",
   "execution_count": null,
   "outputs": [],
   "source": [
    "def feature_function(w1, w2, sent):\n",
    "    pass"
   ],
   "metadata": {
    "collapsed": false,
    "pycharm": {
     "name": "#%%\n"
    }
   }
  },
  {
   "cell_type": "code",
   "execution_count": null,
   "outputs": [],
   "source": [
    "from networkx import MultiDiGraph\n",
    "dg.nx_graph()"
   ],
   "metadata": {
    "collapsed": false,
    "pycharm": {
     "name": "#%%\n"
    }
   }
  },
  {
   "cell_type": "code",
   "execution_count": null,
   "outputs": [],
   "source": [],
   "metadata": {
    "collapsed": false,
    "pycharm": {
     "name": "#%%\n"
    }
   }
  }
 ],
 "metadata": {
  "kernelspec": {
   "display_name": "Python 3",
   "language": "python",
   "name": "python3"
  },
  "language_info": {
   "codemirror_mode": {
    "name": "ipython",
    "version": 2
   },
   "file_extension": ".py",
   "mimetype": "text/x-python",
   "name": "python",
   "nbconvert_exporter": "python",
   "pygments_lexer": "ipython2",
   "version": "2.7.6"
  }
 },
 "nbformat": 4,
 "nbformat_minor": 0
}