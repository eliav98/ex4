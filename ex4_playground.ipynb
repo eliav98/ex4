{
 "cells": [
  {
   "cell_type": "code",
   "execution_count": 1,
   "metadata": {
    "collapsed": true
   },
   "outputs": [],
   "source": [
    "import nltk\n",
    "from nltk.corpus import dependency_treebank\n",
    "import graphviz\n",
    "import os\n",
    "os.environ[\"PATH\"] += os.pathsep + r'C:\\Program Files\\Graphviz\\bin'"
   ]
  },
  {
   "cell_type": "code",
   "execution_count": 2,
   "outputs": [],
   "source": [
    "import numpy as np"
   ],
   "metadata": {
    "collapsed": false,
    "pycharm": {
     "name": "#%%\n"
    }
   }
  },
  {
   "cell_type": "code",
   "execution_count": 3,
   "outputs": [
    {
     "name": "stderr",
     "output_type": "stream",
     "text": [
      "[nltk_data] Downloading package dependency_treebank to\n",
      "[nltk_data]     C:\\Users\\eliav\\AppData\\Roaming\\nltk_data...\n",
      "[nltk_data]   Package dependency_treebank is already up-to-date!\n"
     ]
    },
    {
     "data": {
      "text/plain": "True"
     },
     "execution_count": 3,
     "metadata": {},
     "output_type": "execute_result"
    }
   ],
   "source": [
    "nltk.download('dependency_treebank')"
   ],
   "metadata": {
    "collapsed": false,
    "pycharm": {
     "name": "#%%\n"
    }
   }
  },
  {
   "cell_type": "code",
   "execution_count": 4,
   "outputs": [],
   "source": [
    "from collections import defaultdict, namedtuple\n",
    "from networkx import DiGraph"
   ],
   "metadata": {
    "collapsed": false,
    "pycharm": {
     "name": "#%%\n"
    }
   }
  },
  {
   "cell_type": "code",
   "execution_count": 5,
   "outputs": [],
   "source": [
    "parsed_sents = dependency_treebank.parsed_sents()"
   ],
   "metadata": {
    "collapsed": false,
    "pycharm": {
     "name": "#%%\n"
    }
   }
  },
  {
   "cell_type": "code",
   "execution_count": 6,
   "outputs": [
    {
     "name": "stderr",
     "output_type": "stream",
     "text": [
      "Error: Could not open \"sent0-dep-treebank.gv.pdf\" for writing : Permission denied\r\n"
     ]
    },
    {
     "name": "stdout",
     "output_type": "stream",
     "text": [
      "digraph G{\n",
      "edge [dir=forward]\n",
      "node [shape=plaintext]\n",
      "\n",
      "0 [label=\"0 (None)\"]\n",
      "0 -> 8 [label=\"ROOT\"]\n",
      "1 [label=\"1 (Pierre)\"]\n",
      "2 [label=\"2 (Vinken)\"]\n",
      "2 -> 1 [label=\"\"]\n",
      "2 -> 3 [label=\"\"]\n",
      "2 -> 6 [label=\"\"]\n",
      "2 -> 7 [label=\"\"]\n",
      "3 [label=\"3 (,)\"]\n",
      "4 [label=\"4 (61)\"]\n",
      "5 [label=\"5 (years)\"]\n",
      "5 -> 4 [label=\"\"]\n",
      "6 [label=\"6 (old)\"]\n",
      "6 -> 5 [label=\"\"]\n",
      "7 [label=\"7 (,)\"]\n",
      "8 [label=\"8 (will)\"]\n",
      "8 -> 2 [label=\"\"]\n",
      "8 -> 9 [label=\"\"]\n",
      "8 -> 18 [label=\"\"]\n",
      "9 [label=\"9 (join)\"]\n",
      "9 -> 11 [label=\"\"]\n",
      "9 -> 12 [label=\"\"]\n",
      "9 -> 16 [label=\"\"]\n",
      "10 [label=\"10 (the)\"]\n",
      "11 [label=\"11 (board)\"]\n",
      "11 -> 10 [label=\"\"]\n",
      "12 [label=\"12 (as)\"]\n",
      "12 -> 15 [label=\"\"]\n",
      "13 [label=\"13 (a)\"]\n",
      "14 [label=\"14 (nonexecutive)\"]\n",
      "15 [label=\"15 (director)\"]\n",
      "15 -> 13 [label=\"\"]\n",
      "15 -> 14 [label=\"\"]\n",
      "16 [label=\"16 (Nov.)\"]\n",
      "16 -> 17 [label=\"\"]\n",
      "17 [label=\"17 (29)\"]\n",
      "18 [label=\"18 (.)\"]\n",
      "}\n"
     ]
    },
    {
     "ename": "CalledProcessError",
     "evalue": "Command '[WindowsPath('dot'), '-Kdot', '-Tpdf', '-O', 'sent0-dep-treebank.gv']' returned non-zero exit status 1. [stderr: b'Error: Could not open \"sent0-dep-treebank.gv.pdf\" for writing : Permission denied\\r\\n']",
     "output_type": "error",
     "traceback": [
      "\u001B[1;31m---------------------------------------------------------------------------\u001B[0m",
      "\u001B[1;31mCalledProcessError\u001B[0m                        Traceback (most recent call last)",
      "\u001B[1;32m~\\miniconda3\\lib\\site-packages\\graphviz\\backend\\execute.py\u001B[0m in \u001B[0;36mrun_check\u001B[1;34m(cmd, input_lines, encoding, quiet, **kwargs)\u001B[0m\n\u001B[0;32m     90\u001B[0m     \u001B[1;32mtry\u001B[0m\u001B[1;33m:\u001B[0m\u001B[1;33m\u001B[0m\u001B[1;33m\u001B[0m\u001B[0m\n\u001B[1;32m---> 91\u001B[1;33m         \u001B[0mproc\u001B[0m\u001B[1;33m.\u001B[0m\u001B[0mcheck_returncode\u001B[0m\u001B[1;33m(\u001B[0m\u001B[1;33m)\u001B[0m\u001B[1;33m\u001B[0m\u001B[1;33m\u001B[0m\u001B[0m\n\u001B[0m\u001B[0;32m     92\u001B[0m     \u001B[1;32mexcept\u001B[0m \u001B[0msubprocess\u001B[0m\u001B[1;33m.\u001B[0m\u001B[0mCalledProcessError\u001B[0m \u001B[1;32mas\u001B[0m \u001B[0me\u001B[0m\u001B[1;33m:\u001B[0m\u001B[1;33m\u001B[0m\u001B[1;33m\u001B[0m\u001B[0m\n",
      "\u001B[1;32m~\\miniconda3\\lib\\subprocess.py\u001B[0m in \u001B[0;36mcheck_returncode\u001B[1;34m(self)\u001B[0m\n\u001B[0;32m    455\u001B[0m         \u001B[1;32mif\u001B[0m \u001B[0mself\u001B[0m\u001B[1;33m.\u001B[0m\u001B[0mreturncode\u001B[0m\u001B[1;33m:\u001B[0m\u001B[1;33m\u001B[0m\u001B[1;33m\u001B[0m\u001B[0m\n\u001B[1;32m--> 456\u001B[1;33m             raise CalledProcessError(self.returncode, self.args, self.stdout,\n\u001B[0m\u001B[0;32m    457\u001B[0m                                      self.stderr)\n",
      "\u001B[1;31mCalledProcessError\u001B[0m: Command '[WindowsPath('dot'), '-Kdot', '-Tpdf', '-O', 'sent0-dep-treebank.gv']' returned non-zero exit status 1.",
      "\nDuring handling of the above exception, another exception occurred:\n",
      "\u001B[1;31mCalledProcessError\u001B[0m                        Traceback (most recent call last)",
      "\u001B[1;32m<ipython-input-6-d1aca4744377>\u001B[0m in \u001B[0;36m<module>\u001B[1;34m\u001B[0m\n\u001B[0;32m      5\u001B[0m \u001B[1;31m# dot.render('sent0-dep-treebank.gv', view=True)\u001B[0m\u001B[1;33m\u001B[0m\u001B[1;33m\u001B[0m\u001B[1;33m\u001B[0m\u001B[0m\n\u001B[0;32m      6\u001B[0m \u001B[1;31m# doctest_mark_exe()\u001B[0m\u001B[1;33m\u001B[0m\u001B[1;33m\u001B[0m\u001B[1;33m\u001B[0m\u001B[0m\n\u001B[1;32m----> 7\u001B[1;33m \u001B[0msrc\u001B[0m\u001B[1;33m.\u001B[0m\u001B[0mrender\u001B[0m\u001B[1;33m(\u001B[0m\u001B[1;34m'sent0-dep-treebank.gv'\u001B[0m\u001B[1;33m,\u001B[0m \u001B[0mview\u001B[0m\u001B[1;33m=\u001B[0m\u001B[1;32mTrue\u001B[0m\u001B[1;33m)\u001B[0m\u001B[1;33m.\u001B[0m\u001B[0mreplace\u001B[0m\u001B[1;33m(\u001B[0m\u001B[1;34m'\\\\'\u001B[0m\u001B[1;33m,\u001B[0m \u001B[1;34m'/'\u001B[0m\u001B[1;33m)\u001B[0m\u001B[1;33m\u001B[0m\u001B[1;33m\u001B[0m\u001B[0m\n\u001B[0m",
      "\u001B[1;32m~\\miniconda3\\lib\\site-packages\\graphviz\\_tools.py\u001B[0m in \u001B[0;36mwrapper\u001B[1;34m(*args, **kwargs)\u001B[0m\n\u001B[0;32m    169\u001B[0m                               category=category)\n\u001B[0;32m    170\u001B[0m \u001B[1;33m\u001B[0m\u001B[0m\n\u001B[1;32m--> 171\u001B[1;33m             \u001B[1;32mreturn\u001B[0m \u001B[0mfunc\u001B[0m\u001B[1;33m(\u001B[0m\u001B[1;33m*\u001B[0m\u001B[0margs\u001B[0m\u001B[1;33m,\u001B[0m \u001B[1;33m**\u001B[0m\u001B[0mkwargs\u001B[0m\u001B[1;33m)\u001B[0m\u001B[1;33m\u001B[0m\u001B[1;33m\u001B[0m\u001B[0m\n\u001B[0m\u001B[0;32m    172\u001B[0m \u001B[1;33m\u001B[0m\u001B[0m\n\u001B[0;32m    173\u001B[0m         \u001B[1;32mreturn\u001B[0m \u001B[0mwrapper\u001B[0m\u001B[1;33m\u001B[0m\u001B[1;33m\u001B[0m\u001B[0m\n",
      "\u001B[1;32m~\\miniconda3\\lib\\site-packages\\graphviz\\rendering.py\u001B[0m in \u001B[0;36mrender\u001B[1;34m(self, filename, directory, view, cleanup, format, renderer, formatter, neato_no_op, quiet, quiet_view, outfile, engine, raise_if_result_exists, overwrite_source)\u001B[0m\n\u001B[0;32m    120\u001B[0m         \u001B[0margs\u001B[0m\u001B[1;33m.\u001B[0m\u001B[0mappend\u001B[0m\u001B[1;33m(\u001B[0m\u001B[0mfilepath\u001B[0m\u001B[1;33m)\u001B[0m\u001B[1;33m\u001B[0m\u001B[1;33m\u001B[0m\u001B[0m\n\u001B[0;32m    121\u001B[0m \u001B[1;33m\u001B[0m\u001B[0m\n\u001B[1;32m--> 122\u001B[1;33m         \u001B[0mrendered\u001B[0m \u001B[1;33m=\u001B[0m \u001B[0mself\u001B[0m\u001B[1;33m.\u001B[0m\u001B[0m_render\u001B[0m\u001B[1;33m(\u001B[0m\u001B[1;33m*\u001B[0m\u001B[0margs\u001B[0m\u001B[1;33m,\u001B[0m \u001B[1;33m**\u001B[0m\u001B[0mkwargs\u001B[0m\u001B[1;33m)\u001B[0m\u001B[1;33m\u001B[0m\u001B[1;33m\u001B[0m\u001B[0m\n\u001B[0m\u001B[0;32m    123\u001B[0m \u001B[1;33m\u001B[0m\u001B[0m\n\u001B[0;32m    124\u001B[0m         \u001B[1;32mif\u001B[0m \u001B[0mcleanup\u001B[0m\u001B[1;33m:\u001B[0m\u001B[1;33m\u001B[0m\u001B[1;33m\u001B[0m\u001B[0m\n",
      "\u001B[1;32m~\\miniconda3\\lib\\site-packages\\graphviz\\_tools.py\u001B[0m in \u001B[0;36mwrapper\u001B[1;34m(*args, **kwargs)\u001B[0m\n\u001B[0;32m    169\u001B[0m                               category=category)\n\u001B[0;32m    170\u001B[0m \u001B[1;33m\u001B[0m\u001B[0m\n\u001B[1;32m--> 171\u001B[1;33m             \u001B[1;32mreturn\u001B[0m \u001B[0mfunc\u001B[0m\u001B[1;33m(\u001B[0m\u001B[1;33m*\u001B[0m\u001B[0margs\u001B[0m\u001B[1;33m,\u001B[0m \u001B[1;33m**\u001B[0m\u001B[0mkwargs\u001B[0m\u001B[1;33m)\u001B[0m\u001B[1;33m\u001B[0m\u001B[1;33m\u001B[0m\u001B[0m\n\u001B[0m\u001B[0;32m    172\u001B[0m \u001B[1;33m\u001B[0m\u001B[0m\n\u001B[0;32m    173\u001B[0m         \u001B[1;32mreturn\u001B[0m \u001B[0mwrapper\u001B[0m\u001B[1;33m\u001B[0m\u001B[1;33m\u001B[0m\u001B[0m\n",
      "\u001B[1;32m~\\miniconda3\\lib\\site-packages\\graphviz\\backend\\rendering.py\u001B[0m in \u001B[0;36mrender\u001B[1;34m(engine, format, filepath, renderer, formatter, neato_no_op, quiet, outfile, raise_if_result_exists, overwrite_filepath)\u001B[0m\n\u001B[0;32m    322\u001B[0m     \u001B[0mcmd\u001B[0m \u001B[1;33m+=\u001B[0m \u001B[0margs\u001B[0m\u001B[1;33m\u001B[0m\u001B[1;33m\u001B[0m\u001B[0m\n\u001B[0;32m    323\u001B[0m \u001B[1;33m\u001B[0m\u001B[0m\n\u001B[1;32m--> 324\u001B[1;33m     execute.run_check(cmd,\n\u001B[0m\u001B[0;32m    325\u001B[0m                       \u001B[0mcwd\u001B[0m\u001B[1;33m=\u001B[0m\u001B[0mfilepath\u001B[0m\u001B[1;33m.\u001B[0m\u001B[0mparent\u001B[0m \u001B[1;32mif\u001B[0m \u001B[0mfilepath\u001B[0m\u001B[1;33m.\u001B[0m\u001B[0mparent\u001B[0m\u001B[1;33m.\u001B[0m\u001B[0mparts\u001B[0m \u001B[1;32melse\u001B[0m \u001B[1;32mNone\u001B[0m\u001B[1;33m,\u001B[0m\u001B[1;33m\u001B[0m\u001B[1;33m\u001B[0m\u001B[0m\n\u001B[0;32m    326\u001B[0m                       \u001B[0mquiet\u001B[0m\u001B[1;33m=\u001B[0m\u001B[0mquiet\u001B[0m\u001B[1;33m,\u001B[0m\u001B[1;33m\u001B[0m\u001B[1;33m\u001B[0m\u001B[0m\n",
      "\u001B[1;32m~\\miniconda3\\lib\\site-packages\\graphviz\\backend\\execute.py\u001B[0m in \u001B[0;36mrun_check\u001B[1;34m(cmd, input_lines, encoding, quiet, **kwargs)\u001B[0m\n\u001B[0;32m     91\u001B[0m         \u001B[0mproc\u001B[0m\u001B[1;33m.\u001B[0m\u001B[0mcheck_returncode\u001B[0m\u001B[1;33m(\u001B[0m\u001B[1;33m)\u001B[0m\u001B[1;33m\u001B[0m\u001B[1;33m\u001B[0m\u001B[0m\n\u001B[0;32m     92\u001B[0m     \u001B[1;32mexcept\u001B[0m \u001B[0msubprocess\u001B[0m\u001B[1;33m.\u001B[0m\u001B[0mCalledProcessError\u001B[0m \u001B[1;32mas\u001B[0m \u001B[0me\u001B[0m\u001B[1;33m:\u001B[0m\u001B[1;33m\u001B[0m\u001B[1;33m\u001B[0m\u001B[0m\n\u001B[1;32m---> 93\u001B[1;33m         \u001B[1;32mraise\u001B[0m \u001B[0mCalledProcessError\u001B[0m\u001B[1;33m(\u001B[0m\u001B[1;33m*\u001B[0m\u001B[0me\u001B[0m\u001B[1;33m.\u001B[0m\u001B[0margs\u001B[0m\u001B[1;33m)\u001B[0m\u001B[1;33m\u001B[0m\u001B[1;33m\u001B[0m\u001B[0m\n\u001B[0m\u001B[0;32m     94\u001B[0m \u001B[1;33m\u001B[0m\u001B[0m\n\u001B[0;32m     95\u001B[0m     \u001B[1;32mreturn\u001B[0m \u001B[0mproc\u001B[0m\u001B[1;33m\u001B[0m\u001B[1;33m\u001B[0m\u001B[0m\n",
      "\u001B[1;31mCalledProcessError\u001B[0m: Command '[WindowsPath('dot'), '-Kdot', '-Tpdf', '-O', 'sent0-dep-treebank.gv']' returned non-zero exit status 1. [stderr: b'Error: Could not open \"sent0-dep-treebank.gv.pdf\" for writing : Permission denied\\r\\n']"
     ]
    }
   ],
   "source": [
    "dg = parsed_sents[0]\n",
    "dot = dg.to_dot()\n",
    "print(dot)\n",
    "src = graphviz.Source(dot)\n",
    "# dot.render('sent0-dep-treebank.gv', view=True)\n",
    "# doctest_mark_exe()\n",
    "src.render('sent0-dep-treebank.gv', view=True).replace('\\\\', '/')"
   ],
   "metadata": {
    "collapsed": false,
    "pycharm": {
     "name": "#%%\n"
    }
   }
  },
  {
   "cell_type": "code",
   "execution_count": 34,
   "outputs": [
    {
     "name": "stdout",
     "output_type": "stream",
     "text": [
      "(will, MD), , (Vinken, NNP)\n",
      "(Vinken, NNP), , (Pierre, NNP)\n",
      "(Vinken, NNP), , (,, ,)\n",
      "(Vinken, NNP), , (old, JJ)\n",
      "(old, JJ), , (years, NNS)\n",
      "(years, NNS), , (61, CD)\n",
      "(Vinken, NNP), , (,, ,)\n",
      "(will, MD), , (join, VB)\n",
      "(join, VB), , (board, NN)\n",
      "(board, NN), , (the, DT)\n",
      "(join, VB), , (as, IN)\n",
      "(as, IN), , (director, NN)\n",
      "(director, NN), , (a, DT)\n",
      "(director, NN), , (nonexecutive, JJ)\n",
      "(join, VB), , (Nov., NNP)\n",
      "(Nov., NNP), , (29, CD)\n",
      "(will, MD), , (., .)\n",
      "(is, VBZ), , (Vinken, NNP)\n",
      "(Vinken, NNP), , (Mr., NNP)\n",
      "(is, VBZ), , (chairman, NN)\n",
      "(chairman, NN), , (of, IN)\n",
      "(of, IN), , (group, NN)\n",
      "(group, NN), , (N.V., NNP)\n",
      "(N.V., NNP), , (Elsevier, NNP)\n",
      "(group, NN), , (,, ,)\n",
      "(group, NN), , (the, DT)\n",
      "(group, NN), , (Dutch, NNP)\n",
      "(group, NN), , (publishing, VBG)\n",
      "(is, VBZ), , (., .)\n",
      "(was, VBD), , (Agnew, NNP)\n",
      "(Agnew, NNP), , (Rudolph, NNP)\n",
      "(Agnew, NNP), , (,, ,)\n",
      "(Agnew, NNP), , (old, JJ)\n",
      "(old, JJ), , (years, NNS)\n",
      "(years, NNS), , (55, CD)\n",
      "(old, JJ), , (and, CC)\n",
      "(old, JJ), , (chairman, NN)\n",
      "(chairman, NN), , (former, JJ)\n",
      "(chairman, NN), , (of, IN)\n",
      "(of, IN), , (PLC, NNP)\n",
      "(PLC, NNP), , (Consolidated, NNP)\n",
      "(PLC, NNP), , (Gold, NNP)\n",
      "(PLC, NNP), , (Fields, NNP)\n",
      "(Agnew, NNP), , (,, ,)\n",
      "(was, VBD), , (named, VBN)\n",
      "(named, VBN), , (director, NN)\n",
      "(director, NN), , (a, DT)\n",
      "(director, NN), , (nonexecutive, JJ)\n",
      "(director, NN), , (of, IN)\n",
      "(of, IN), , (conglomerate, NN)\n",
      "(conglomerate, NN), , (this, DT)\n",
      "(conglomerate, NN), , (British, JJ)\n",
      "(conglomerate, NN), , (industrial, JJ)\n",
      "(was, VBD), , (., .)\n",
      "(reported, VBD), , (has, VBZ)\n",
      "(has, VBZ), , (form, NN)\n",
      "(form, NN), , (A, DT)\n",
      "(form, NN), , (of, IN)\n",
      "(of, IN), , (asbestos, NN)\n",
      "(form, NN), , (used, VBN)\n",
      "(used, VBN), , (once, RB)\n",
      "(used, VBN), , (make, VB)\n",
      "(make, VB), , (to, TO)\n",
      "(make, VB), , (filters, NNS)\n",
      "(filters, NNS), , (Kent, NNP)\n",
      "(filters, NNS), , (cigarette, NN)\n",
      "(has, VBZ), , (caused, VBN)\n",
      "(caused, VBN), , (percentage, NN)\n",
      "(percentage, NN), , (a, DT)\n",
      "(percentage, NN), , (high, JJ)\n",
      "(percentage, NN), , (of, IN)\n",
      "(of, IN), , (deaths, NNS)\n",
      "(deaths, NNS), , (cancer, NN)\n",
      "(percentage, NN), , (among, IN)\n",
      "(among, IN), , (group, NN)\n",
      "(group, NN), , (a, DT)\n",
      "(group, NN), , (of, IN)\n",
      "(of, IN), , (workers, NNS)\n",
      "(workers, NNS), , (exposed, VBN)\n",
      "(exposed, VBN), , (to, TO)\n",
      "(to, TO), , (it, PRP)\n",
      "(exposed, VBN), , (ago, IN)\n",
      "(ago, IN), , (years, NNS)\n",
      "(years, NNS), , (than, IN)\n",
      "(than, IN), , (more, RBR)\n",
      "(than, IN), , (30, CD)\n",
      "(reported, VBD), , (,, ,)\n",
      "(reported, VBD), , (researchers, NNS)\n",
      "(reported, VBD), , (., .)\n",
      "(said, VBD), , (is, VBZ)\n",
      "(is, VBZ), , (crocidolite, NN)\n",
      "(crocidolite, NN), , (fiber, NN)\n",
      "(fiber, NN), , (The, DT)\n",
      "(fiber, NN), , (asbestos, NN)\n",
      "(crocidolite, NN), , (,, ,)\n",
      "(crocidolite, NN), , (,, ,)\n",
      "(is, VBZ), , (resilient, JJ)\n",
      "(resilient, JJ), , (unusually, RB)\n",
      "(is, VBZ), , (once, IN)\n",
      "(once, IN), , (enters, VBZ)\n",
      "(enters, VBZ), , (it, PRP)\n",
      "(enters, VBZ), , (lungs, NNS)\n",
      "(lungs, NNS), , (the, DT)\n",
      "(is, VBZ), , (,, ,)\n",
      "(is, VBZ), , (with, IN)\n",
      "(with, IN), , (causing, VBG)\n",
      "(causing, VBG), , (exposures, NNS)\n",
      "(exposures, NNS), , (even, RB)\n",
      "(exposures, NNS), , (brief, JJ)\n",
      "(exposures, NNS), , (to, TO)\n",
      "(to, TO), , (it, PRP)\n",
      "(causing, VBG), , (symptoms, NNS)\n",
      "(symptoms, NNS), , (that, WDT)\n",
      "(that, WDT), , (show, VBP)\n",
      "(show, VBP), , (up, RP)\n",
      "(show, VBP), , (later, JJ)\n",
      "(later, JJ), , (decades, NNS)\n",
      "(said, VBD), , (,, ,)\n",
      "(said, VBD), , (researchers, NNS)\n",
      "(said, VBD), , (., .)\n",
      "(stopped, VBD), , (unit, NN)\n",
      "(unit, NN), , (Inc., NNP)\n",
      "(Inc., NNP), , (Lorillard, NNP)\n",
      "(unit, NN), , (,, ,)\n",
      "(unit, NN), , (the, DT)\n",
      "(unit, NN), , (of, IN)\n",
      "(of, IN), , (Corp., NNP)\n",
      "(Corp., NNP), , (York-based, JJ)\n",
      "(York-based, JJ), , (New, JJ)\n",
      "(Corp., NNP), , (Loews, NNP)\n",
      "(unit, NN), , (that, WDT)\n",
      "(that, WDT), , (makes, VBZ)\n",
      "(makes, VBZ), , (cigarettes, NNS)\n",
      "(cigarettes, NNS), , (Kent, NNP)\n",
      "(unit, NN), , (,, ,)\n",
      "(stopped, VBD), , (using, VBG)\n",
      "(using, VBG), , (crocidolite, NN)\n",
      "(using, VBG), , (in, IN)\n",
      "(in, IN), , (filters, NNS)\n",
      "(filters, NNS), , (its, PRP$)\n",
      "(filters, NNS), , (Micronite, NN)\n",
      "(filters, NNS), , (cigarette, NN)\n",
      "(using, VBG), , (in, IN)\n",
      "(in, IN), , (1956, CD)\n",
      "(stopped, VBD), , (., .)\n",
      "(appear, VBP), , (Although, IN)\n",
      "(Although, IN), , (were, VBD)\n",
      "(were, VBD), , (findings, NNS)\n",
      "(findings, NNS), , (preliminary, JJ)\n",
      "(were, VBD), , (reported, VBN)\n",
      "(reported, VBN), , (ago, IN)\n",
      "(ago, IN), , (year, NN)\n",
      "(year, NN), , (than, IN)\n",
      "(than, IN), , (more, RBR)\n",
      "(than, IN), , (a, DT)\n",
      "(appear, VBP), , (,, ,)\n",
      "(appear, VBP), , (results, NNS)\n",
      "(results, NNS), , (the, DT)\n",
      "(results, NNS), , (latest, JJS)\n",
      "(appear, VBP), , (in, IN)\n",
      "(in, IN), , (forum, NN)\n",
      "(forum, NN), , (Journal, NNP)\n",
      "(Journal, NNP), , ('s, POS)\n",
      "('s, POS), , (today, NN)\n",
      "(Journal, NNP), , (New, NNP)\n",
      "(Journal, NNP), , (England, NNP)\n",
      "(Journal, NNP), , (of, IN)\n",
      "(of, IN), , (Medicine, NNP)\n",
      "(forum, NN), , (,, ,)\n",
      "(forum, NN), , (a, DT)\n",
      "(forum, NN), , (likely, JJ)\n",
      "(likely, JJ), , (bring, VB)\n",
      "(bring, VB), , (to, TO)\n",
      "(bring, VB), , (attention, NN)\n",
      "(attention, NN), , (new, JJ)\n",
      "(bring, VB), , (to, TO)\n",
      "(to, TO), , (problem, NN)\n",
      "(problem, NN), , (the, DT)\n",
      "(appear, VBP), , (., .)\n",
      "(said, VBD), , (spokewoman, NN)\n",
      "(spokewoman, NN), , (A, DT)\n",
      "(spokewoman, NN), , (Lorillard, NNP)\n",
      "(said, VBD), , (,, ,)\n",
      "(said, VBD), , (``, ``)\n",
      "(said, VBD), , (is, VBZ)\n",
      "(is, VBZ), , (This, DT)\n",
      "(is, VBZ), , (story, NN)\n",
      "(story, NN), , (an, DT)\n",
      "(story, NN), , (old, JJ)\n",
      "(said, VBD), , (., .)\n",
      "('re, VBP), , (We, PRP)\n",
      "('re, VBP), , (talking, VBG)\n",
      "(talking, VBG), , (about, IN)\n",
      "(about, IN), , (ago, IN)\n",
      "(ago, IN), , (years, NNS)\n",
      "(ago, IN), , (before, IN)\n",
      "(before, IN), , (heard, VBD)\n",
      "(heard, VBD), , (anyone, NN)\n",
      "(heard, VBD), , (of, IN)\n",
      "(of, IN), , (having, VBG)\n",
      "(having, VBG), , (asbestos, NN)\n",
      "(having, VBG), , (properties, NNS)\n",
      "(properties, NNS), , (any, DT)\n",
      "(properties, NNS), , (questionable, JJ)\n",
      "('re, VBP), , (., .)\n",
      "(is, VBZ), , (There, EX)\n",
      "(is, VBZ), , (asbestos, NN)\n",
      "(asbestos, NN), , (no, DT)\n",
      "(is, VBZ), , (in, IN)\n",
      "(in, IN), , (products, NNS)\n",
      "(products, NNS), , (our, PRP$)\n",
      "(is, VBZ), , (now, RB)\n",
      "(is, VBZ), , (., .)\n",
      "(is, VBZ), , ('', '')\n"
     ]
    }
   ],
   "source": [
    "for dg in parsed_sents[:10]:\n",
    "    for head, rel, dep in dg.triples():\n",
    "        print('({h[0]}, {h[1]}), {r}, ({d[0]}, {d[1]})'\n",
    "              .format(h=head, r=rel, d=dep))"
   ],
   "metadata": {
    "collapsed": false,
    "pycharm": {
     "name": "#%%\n"
    }
   }
  },
  {
   "cell_type": "code",
   "execution_count": 43,
   "outputs": [],
   "source": [
    "def view_tree(dg):\n",
    "    src = graphviz.Source(dg.to_dot)\n",
    "    src.render('sent-dep-treebank.gv', view=True).replace('\\\\', '/')"
   ],
   "metadata": {
    "collapsed": false,
    "pycharm": {
     "name": "#%%\n"
    }
   }
  },
  {
   "cell_type": "code",
   "execution_count": 28,
   "outputs": [
    {
     "data": {
      "text/plain": "Counter({('will', 'Vinken'): 1,\n         ('MD', 'NNP'): 1,\n         ('Vinken', 'Pierre'): 1,\n         ('NNP', 'NNP'): 1,\n         ('Vinken', ','): 2,\n         ('NNP', ','): 2,\n         ('Vinken', 'old'): 1,\n         ('NNP', 'JJ'): 1,\n         ('old', 'years'): 1,\n         ('JJ', 'NNS'): 1,\n         ('years', '61'): 1,\n         ('NNS', 'CD'): 1,\n         ('will', 'join'): 1,\n         ('MD', 'VB'): 1,\n         ('join', 'board'): 1,\n         ('VB', 'NN'): 1,\n         ('board', 'the'): 1,\n         ('NN', 'DT'): 2,\n         ('join', 'as'): 1,\n         ('VB', 'IN'): 1,\n         ('as', 'director'): 1,\n         ('IN', 'NN'): 1,\n         ('director', 'a'): 1,\n         ('director', 'nonexecutive'): 1,\n         ('NN', 'JJ'): 1,\n         ('join', 'Nov.'): 1,\n         ('VB', 'NNP'): 1,\n         ('Nov.', '29'): 1,\n         ('NNP', 'CD'): 1,\n         ('will', '.'): 1,\n         ('MD', '.'): 1})"
     },
     "execution_count": 28,
     "metadata": {},
     "output_type": "execute_result"
    }
   ],
   "source": [
    "from collections import Counter\n",
    "\n",
    "def tree_to_counter(tree, lr=1):\n",
    "    c = Counter()\n",
    "    for u, _, v in tree.triples():\n",
    "        z = zip(u, v)\n",
    "        for i in range(lr):\n",
    "            c.update(z)\n",
    "    return c\n",
    "tree_to_counter(dg)"
   ],
   "metadata": {
    "collapsed": false,
    "pycharm": {
     "name": "#%%\n"
    }
   }
  },
  {
   "cell_type": "code",
   "execution_count": 29,
   "outputs": [],
   "source": [
    "def score(features, weights):\n",
    "    score = 0\n",
    "    for f in features:\n",
    "        score += weights[f]\n",
    "    return score"
   ],
   "metadata": {
    "collapsed": false,
    "pycharm": {
     "name": "#%%\n"
    }
   }
  },
  {
   "cell_type": "code",
   "execution_count": 58,
   "outputs": [],
   "source": [
    "from Chu_Liu_Edmonds_algorithm import min_spanning_arborescence_nx\n",
    "from networkx import minimum_spanning_arborescence\n",
    "\n",
    "def MST_helper(lr=1, max_iterations=2):\n",
    "    c = Counter()\n",
    "    sum_c = Counter()\n",
    "    for r in range(max_iterations):\n",
    "        for i, dg in enumerate(parsed_sents):\n",
    "            Arc = namedtuple(\"Arc\", \"head tail weight\")\n",
    "            arcs = [Arc(u,v,score(zip(u, v), c)) for u, _, v in dg.triples()]\n",
    "            # T_prime = minimum_spanning_arborescence(dg.nx_graph())\n",
    "            T_prime = min_spanning_arborescence_nx(arcs, 0)\n",
    "            print(T_prime)\n",
    "            view_tree(T_prime)\n",
    "            c += tree_to_counter(dg, lr) - tree_to_counter(T_prime, lr)\n",
    "            sum_c += c\n",
    "            break\n",
    "    return sum_c"
   ],
   "metadata": {
    "collapsed": false,
    "pycharm": {
     "name": "#%%\n"
    }
   }
  },
  {
   "cell_type": "code",
   "execution_count": 59,
   "outputs": [
    {
     "name": "stdout",
     "output_type": "stream",
     "text": [
      "{('Vinken', 'NNP'): Arc(head=('will', 'MD'), tail=('Vinken', 'NNP'), weight=0), ('join', 'VB'): Arc(head=('will', 'MD'), tail=('join', 'VB'), weight=0), ('.', '.'): Arc(head=('will', 'MD'), tail=('.', '.'), weight=0), ('Pierre', 'NNP'): Arc(head=('Vinken', 'NNP'), tail=('Pierre', 'NNP'), weight=0), (',', ','): Arc(head=('Vinken', 'NNP'), tail=(',', ','), weight=0), ('old', 'JJ'): Arc(head=('Vinken', 'NNP'), tail=('old', 'JJ'), weight=0), ('years', 'NNS'): Arc(head=('old', 'JJ'), tail=('years', 'NNS'), weight=0), ('61', 'CD'): Arc(head=('years', 'NNS'), tail=('61', 'CD'), weight=0), ('board', 'NN'): Arc(head=('join', 'VB'), tail=('board', 'NN'), weight=0), ('as', 'IN'): Arc(head=('join', 'VB'), tail=('as', 'IN'), weight=0), ('Nov.', 'NNP'): Arc(head=('join', 'VB'), tail=('Nov.', 'NNP'), weight=0), ('the', 'DT'): Arc(head=('board', 'NN'), tail=('the', 'DT'), weight=0), ('director', 'NN'): Arc(head=('as', 'IN'), tail=('director', 'NN'), weight=0), ('a', 'DT'): Arc(head=('director', 'NN'), tail=('a', 'DT'), weight=0), ('nonexecutive', 'JJ'): Arc(head=('director', 'NN'), tail=('nonexecutive', 'JJ'), weight=0), ('29', 'CD'): Arc(head=('Nov.', 'NNP'), tail=('29', 'CD'), weight=0)}\n"
     ]
    },
    {
     "ename": "AttributeError",
     "evalue": "'dict' object has no attribute 'to_dot'",
     "output_type": "error",
     "traceback": [
      "\u001B[1;31m---------------------------------------------------------------------------\u001B[0m",
      "\u001B[1;31mAttributeError\u001B[0m                            Traceback (most recent call last)",
      "\u001B[1;32m<ipython-input-59-8da6807e6954>\u001B[0m in \u001B[0;36m<module>\u001B[1;34m\u001B[0m\n\u001B[1;32m----> 1\u001B[1;33m \u001B[0mmst_counter\u001B[0m \u001B[1;33m=\u001B[0m \u001B[0mMST_helper\u001B[0m\u001B[1;33m(\u001B[0m\u001B[1;33m)\u001B[0m\u001B[1;33m\u001B[0m\u001B[1;33m\u001B[0m\u001B[0m\n\u001B[0m\u001B[0;32m      2\u001B[0m \u001B[0mmst_counter\u001B[0m\u001B[1;33m\u001B[0m\u001B[1;33m\u001B[0m\u001B[0m\n",
      "\u001B[1;32m<ipython-input-58-10d81ac69215>\u001B[0m in \u001B[0;36mMST_helper\u001B[1;34m(lr, max_iterations)\u001B[0m\n\u001B[0;32m     12\u001B[0m             \u001B[0mT_prime\u001B[0m \u001B[1;33m=\u001B[0m \u001B[0mmin_spanning_arborescence_nx\u001B[0m\u001B[1;33m(\u001B[0m\u001B[0marcs\u001B[0m\u001B[1;33m,\u001B[0m \u001B[1;36m0\u001B[0m\u001B[1;33m)\u001B[0m\u001B[1;33m\u001B[0m\u001B[1;33m\u001B[0m\u001B[0m\n\u001B[0;32m     13\u001B[0m             \u001B[0mprint\u001B[0m\u001B[1;33m(\u001B[0m\u001B[0mT_prime\u001B[0m\u001B[1;33m)\u001B[0m\u001B[1;33m\u001B[0m\u001B[1;33m\u001B[0m\u001B[0m\n\u001B[1;32m---> 14\u001B[1;33m             \u001B[0mview_tree\u001B[0m\u001B[1;33m(\u001B[0m\u001B[0mT_prime\u001B[0m\u001B[1;33m)\u001B[0m\u001B[1;33m\u001B[0m\u001B[1;33m\u001B[0m\u001B[0m\n\u001B[0m\u001B[0;32m     15\u001B[0m             \u001B[0mc\u001B[0m \u001B[1;33m+=\u001B[0m \u001B[0mtree_to_counter\u001B[0m\u001B[1;33m(\u001B[0m\u001B[0mdg\u001B[0m\u001B[1;33m,\u001B[0m \u001B[0mlr\u001B[0m\u001B[1;33m)\u001B[0m \u001B[1;33m-\u001B[0m \u001B[0mtree_to_counter\u001B[0m\u001B[1;33m(\u001B[0m\u001B[0mT_prime\u001B[0m\u001B[1;33m,\u001B[0m \u001B[0mlr\u001B[0m\u001B[1;33m)\u001B[0m\u001B[1;33m\u001B[0m\u001B[1;33m\u001B[0m\u001B[0m\n\u001B[0;32m     16\u001B[0m             \u001B[0msum_c\u001B[0m \u001B[1;33m+=\u001B[0m \u001B[0mc\u001B[0m\u001B[1;33m\u001B[0m\u001B[1;33m\u001B[0m\u001B[0m\n",
      "\u001B[1;32m<ipython-input-43-4cfb7c7fb1ff>\u001B[0m in \u001B[0;36mview_tree\u001B[1;34m(dg)\u001B[0m\n\u001B[0;32m      1\u001B[0m \u001B[1;32mdef\u001B[0m \u001B[0mview_tree\u001B[0m\u001B[1;33m(\u001B[0m\u001B[0mdg\u001B[0m\u001B[1;33m)\u001B[0m\u001B[1;33m:\u001B[0m\u001B[1;33m\u001B[0m\u001B[1;33m\u001B[0m\u001B[0m\n\u001B[1;32m----> 2\u001B[1;33m     \u001B[0msrc\u001B[0m \u001B[1;33m=\u001B[0m \u001B[0mgraphviz\u001B[0m\u001B[1;33m.\u001B[0m\u001B[0mSource\u001B[0m\u001B[1;33m(\u001B[0m\u001B[0mdg\u001B[0m\u001B[1;33m.\u001B[0m\u001B[0mto_dot\u001B[0m\u001B[1;33m)\u001B[0m\u001B[1;33m\u001B[0m\u001B[1;33m\u001B[0m\u001B[0m\n\u001B[0m\u001B[0;32m      3\u001B[0m     \u001B[0msrc\u001B[0m\u001B[1;33m.\u001B[0m\u001B[0mrender\u001B[0m\u001B[1;33m(\u001B[0m\u001B[1;34m'sent-dep-treebank.gv'\u001B[0m\u001B[1;33m,\u001B[0m \u001B[0mview\u001B[0m\u001B[1;33m=\u001B[0m\u001B[1;32mTrue\u001B[0m\u001B[1;33m)\u001B[0m\u001B[1;33m.\u001B[0m\u001B[0mreplace\u001B[0m\u001B[1;33m(\u001B[0m\u001B[1;34m'\\\\'\u001B[0m\u001B[1;33m,\u001B[0m \u001B[1;34m'/'\u001B[0m\u001B[1;33m)\u001B[0m\u001B[1;33m\u001B[0m\u001B[1;33m\u001B[0m\u001B[0m\n",
      "\u001B[1;31mAttributeError\u001B[0m: 'dict' object has no attribute 'to_dot'"
     ]
    }
   ],
   "source": [
    "mst_counter = MST_helper()\n",
    "mst_counter"
   ],
   "metadata": {
    "collapsed": false,
    "pycharm": {
     "name": "#%%\n"
    }
   }
  },
  {
   "cell_type": "code",
   "execution_count": null,
   "outputs": [],
   "source": [
    "def MST(mst_counter):\n",
    "    pass"
   ],
   "metadata": {
    "collapsed": false,
    "pycharm": {
     "name": "#%%\n"
    }
   }
  },
  {
   "cell_type": "code",
   "execution_count": 7,
   "outputs": [
    {
     "name": "stdout",
     "output_type": "stream",
     "text": [
      "Pierre\tNNP\t2\n",
      "Vinken\tNNP\t8\n",
      ",\t,\t2\n",
      "61\tCD\t5\n",
      "years\tNNS\t6\n",
      "old\tJJ\t2\n",
      ",\t,\t2\n",
      "will\tMD\t0\n",
      "join\tVB\t8\n",
      "the\tDT\t11\n",
      "board\tNN\t9\n",
      "as\tIN\t9\n",
      "a\tDT\t15\n",
      "nonexecutive\tJJ\t15\n",
      "director\tNN\t12\n",
      "Nov.\tNNP\t9\n",
      "29\tCD\t16\n",
      ".\t.\t8\n",
      "\n"
     ]
    }
   ],
   "source": [
    "print(dg.to_conll(3))"
   ],
   "metadata": {
    "collapsed": false,
    "pycharm": {
     "name": "#%%\n"
    }
   }
  },
  {
   "cell_type": "code",
   "execution_count": 8,
   "outputs": [
    {
     "name": "stdout",
     "output_type": "stream",
     "text": [
      "(will\n",
      "  (Vinken Pierre , (old (years 61)) ,)\n",
      "  (join (board the) (as (director a nonexecutive)) (Nov. 29))\n",
      "  .)\n",
      "None\n"
     ]
    }
   ],
   "source": [
    "print(parsed_sents[0].tree().pprint())"
   ],
   "metadata": {
    "collapsed": false,
    "pycharm": {
     "name": "#%%\n"
    }
   }
  },
  {
   "cell_type": "code",
   "execution_count": 27,
   "outputs": [
    {
     "data": {
      "text/plain": "<generator object DependencyGraph.triples at 0x00000136104733C0>"
     },
     "execution_count": 27,
     "metadata": {},
     "output_type": "execute_result"
    }
   ],
   "source": [
    "dg.triples()"
   ],
   "metadata": {
    "collapsed": false,
    "pycharm": {
     "name": "#%%\n"
    }
   }
  },
  {
   "cell_type": "code",
   "execution_count": 9,
   "outputs": [
    {
     "name": "stdout",
     "output_type": "stream",
     "text": [
      "(will, MD), , (Vinken, NNP)\n",
      "(Vinken, NNP), , (Pierre, NNP)\n",
      "(Vinken, NNP), , (,, ,)\n",
      "(Vinken, NNP), , (old, JJ)\n",
      "(old, JJ), , (years, NNS)\n",
      "(years, NNS), , (61, CD)\n",
      "(Vinken, NNP), , (,, ,)\n",
      "(will, MD), , (join, VB)\n",
      "(join, VB), , (board, NN)\n",
      "(board, NN), , (the, DT)\n",
      "(join, VB), , (as, IN)\n",
      "(as, IN), , (director, NN)\n",
      "(director, NN), , (a, DT)\n",
      "(director, NN), , (nonexecutive, JJ)\n",
      "(join, VB), , (Nov., NNP)\n",
      "(Nov., NNP), , (29, CD)\n",
      "(will, MD), , (., .)\n",
      "(is, VBZ), , (Vinken, NNP)\n",
      "(Vinken, NNP), , (Mr., NNP)\n",
      "(is, VBZ), , (chairman, NN)\n",
      "(chairman, NN), , (of, IN)\n",
      "(of, IN), , (group, NN)\n",
      "(group, NN), , (N.V., NNP)\n",
      "(N.V., NNP), , (Elsevier, NNP)\n",
      "(group, NN), , (,, ,)\n",
      "(group, NN), , (the, DT)\n",
      "(group, NN), , (Dutch, NNP)\n",
      "(group, NN), , (publishing, VBG)\n",
      "(is, VBZ), , (., .)\n",
      "(was, VBD), , (Agnew, NNP)\n",
      "(Agnew, NNP), , (Rudolph, NNP)\n",
      "(Agnew, NNP), , (,, ,)\n",
      "(Agnew, NNP), , (old, JJ)\n",
      "(old, JJ), , (years, NNS)\n",
      "(years, NNS), , (55, CD)\n",
      "(old, JJ), , (and, CC)\n",
      "(old, JJ), , (chairman, NN)\n",
      "(chairman, NN), , (former, JJ)\n",
      "(chairman, NN), , (of, IN)\n",
      "(of, IN), , (PLC, NNP)\n",
      "(PLC, NNP), , (Consolidated, NNP)\n",
      "(PLC, NNP), , (Gold, NNP)\n",
      "(PLC, NNP), , (Fields, NNP)\n",
      "(Agnew, NNP), , (,, ,)\n",
      "(was, VBD), , (named, VBN)\n",
      "(named, VBN), , (director, NN)\n",
      "(director, NN), , (a, DT)\n",
      "(director, NN), , (nonexecutive, JJ)\n",
      "(director, NN), , (of, IN)\n",
      "(of, IN), , (conglomerate, NN)\n",
      "(conglomerate, NN), , (this, DT)\n",
      "(conglomerate, NN), , (British, JJ)\n",
      "(conglomerate, NN), , (industrial, JJ)\n",
      "(was, VBD), , (., .)\n",
      "(reported, VBD), , (has, VBZ)\n",
      "(has, VBZ), , (form, NN)\n",
      "(form, NN), , (A, DT)\n",
      "(form, NN), , (of, IN)\n",
      "(of, IN), , (asbestos, NN)\n",
      "(form, NN), , (used, VBN)\n",
      "(used, VBN), , (once, RB)\n",
      "(used, VBN), , (make, VB)\n",
      "(make, VB), , (to, TO)\n",
      "(make, VB), , (filters, NNS)\n",
      "(filters, NNS), , (Kent, NNP)\n",
      "(filters, NNS), , (cigarette, NN)\n",
      "(has, VBZ), , (caused, VBN)\n",
      "(caused, VBN), , (percentage, NN)\n",
      "(percentage, NN), , (a, DT)\n",
      "(percentage, NN), , (high, JJ)\n",
      "(percentage, NN), , (of, IN)\n",
      "(of, IN), , (deaths, NNS)\n",
      "(deaths, NNS), , (cancer, NN)\n",
      "(percentage, NN), , (among, IN)\n",
      "(among, IN), , (group, NN)\n",
      "(group, NN), , (a, DT)\n",
      "(group, NN), , (of, IN)\n",
      "(of, IN), , (workers, NNS)\n",
      "(workers, NNS), , (exposed, VBN)\n",
      "(exposed, VBN), , (to, TO)\n",
      "(to, TO), , (it, PRP)\n",
      "(exposed, VBN), , (ago, IN)\n",
      "(ago, IN), , (years, NNS)\n",
      "(years, NNS), , (than, IN)\n",
      "(than, IN), , (more, RBR)\n",
      "(than, IN), , (30, CD)\n",
      "(reported, VBD), , (,, ,)\n",
      "(reported, VBD), , (researchers, NNS)\n",
      "(reported, VBD), , (., .)\n",
      "(said, VBD), , (is, VBZ)\n",
      "(is, VBZ), , (crocidolite, NN)\n",
      "(crocidolite, NN), , (fiber, NN)\n",
      "(fiber, NN), , (The, DT)\n",
      "(fiber, NN), , (asbestos, NN)\n",
      "(crocidolite, NN), , (,, ,)\n",
      "(crocidolite, NN), , (,, ,)\n",
      "(is, VBZ), , (resilient, JJ)\n",
      "(resilient, JJ), , (unusually, RB)\n",
      "(is, VBZ), , (once, IN)\n",
      "(once, IN), , (enters, VBZ)\n",
      "(enters, VBZ), , (it, PRP)\n",
      "(enters, VBZ), , (lungs, NNS)\n",
      "(lungs, NNS), , (the, DT)\n",
      "(is, VBZ), , (,, ,)\n",
      "(is, VBZ), , (with, IN)\n",
      "(with, IN), , (causing, VBG)\n",
      "(causing, VBG), , (exposures, NNS)\n",
      "(exposures, NNS), , (even, RB)\n",
      "(exposures, NNS), , (brief, JJ)\n",
      "(exposures, NNS), , (to, TO)\n",
      "(to, TO), , (it, PRP)\n",
      "(causing, VBG), , (symptoms, NNS)\n",
      "(symptoms, NNS), , (that, WDT)\n",
      "(that, WDT), , (show, VBP)\n",
      "(show, VBP), , (up, RP)\n",
      "(show, VBP), , (later, JJ)\n",
      "(later, JJ), , (decades, NNS)\n",
      "(said, VBD), , (,, ,)\n",
      "(said, VBD), , (researchers, NNS)\n",
      "(said, VBD), , (., .)\n",
      "(stopped, VBD), , (unit, NN)\n",
      "(unit, NN), , (Inc., NNP)\n",
      "(Inc., NNP), , (Lorillard, NNP)\n",
      "(unit, NN), , (,, ,)\n",
      "(unit, NN), , (the, DT)\n",
      "(unit, NN), , (of, IN)\n",
      "(of, IN), , (Corp., NNP)\n",
      "(Corp., NNP), , (York-based, JJ)\n",
      "(York-based, JJ), , (New, JJ)\n",
      "(Corp., NNP), , (Loews, NNP)\n",
      "(unit, NN), , (that, WDT)\n",
      "(that, WDT), , (makes, VBZ)\n",
      "(makes, VBZ), , (cigarettes, NNS)\n",
      "(cigarettes, NNS), , (Kent, NNP)\n",
      "(unit, NN), , (,, ,)\n",
      "(stopped, VBD), , (using, VBG)\n",
      "(using, VBG), , (crocidolite, NN)\n",
      "(using, VBG), , (in, IN)\n",
      "(in, IN), , (filters, NNS)\n",
      "(filters, NNS), , (its, PRP$)\n",
      "(filters, NNS), , (Micronite, NN)\n",
      "(filters, NNS), , (cigarette, NN)\n",
      "(using, VBG), , (in, IN)\n",
      "(in, IN), , (1956, CD)\n",
      "(stopped, VBD), , (., .)\n",
      "(appear, VBP), , (Although, IN)\n",
      "(Although, IN), , (were, VBD)\n",
      "(were, VBD), , (findings, NNS)\n",
      "(findings, NNS), , (preliminary, JJ)\n",
      "(were, VBD), , (reported, VBN)\n",
      "(reported, VBN), , (ago, IN)\n",
      "(ago, IN), , (year, NN)\n",
      "(year, NN), , (than, IN)\n",
      "(than, IN), , (more, RBR)\n",
      "(than, IN), , (a, DT)\n",
      "(appear, VBP), , (,, ,)\n",
      "(appear, VBP), , (results, NNS)\n",
      "(results, NNS), , (the, DT)\n",
      "(results, NNS), , (latest, JJS)\n",
      "(appear, VBP), , (in, IN)\n",
      "(in, IN), , (forum, NN)\n",
      "(forum, NN), , (Journal, NNP)\n",
      "(Journal, NNP), , ('s, POS)\n",
      "('s, POS), , (today, NN)\n",
      "(Journal, NNP), , (New, NNP)\n",
      "(Journal, NNP), , (England, NNP)\n",
      "(Journal, NNP), , (of, IN)\n",
      "(of, IN), , (Medicine, NNP)\n",
      "(forum, NN), , (,, ,)\n",
      "(forum, NN), , (a, DT)\n",
      "(forum, NN), , (likely, JJ)\n",
      "(likely, JJ), , (bring, VB)\n",
      "(bring, VB), , (to, TO)\n",
      "(bring, VB), , (attention, NN)\n",
      "(attention, NN), , (new, JJ)\n",
      "(bring, VB), , (to, TO)\n",
      "(to, TO), , (problem, NN)\n",
      "(problem, NN), , (the, DT)\n",
      "(appear, VBP), , (., .)\n",
      "(said, VBD), , (spokewoman, NN)\n",
      "(spokewoman, NN), , (A, DT)\n",
      "(spokewoman, NN), , (Lorillard, NNP)\n",
      "(said, VBD), , (,, ,)\n",
      "(said, VBD), , (``, ``)\n",
      "(said, VBD), , (is, VBZ)\n",
      "(is, VBZ), , (This, DT)\n",
      "(is, VBZ), , (story, NN)\n",
      "(story, NN), , (an, DT)\n",
      "(story, NN), , (old, JJ)\n",
      "(said, VBD), , (., .)\n",
      "('re, VBP), , (We, PRP)\n",
      "('re, VBP), , (talking, VBG)\n",
      "(talking, VBG), , (about, IN)\n",
      "(about, IN), , (ago, IN)\n",
      "(ago, IN), , (years, NNS)\n",
      "(ago, IN), , (before, IN)\n",
      "(before, IN), , (heard, VBD)\n",
      "(heard, VBD), , (anyone, NN)\n",
      "(heard, VBD), , (of, IN)\n",
      "(of, IN), , (having, VBG)\n",
      "(having, VBG), , (asbestos, NN)\n",
      "(having, VBG), , (properties, NNS)\n",
      "(properties, NNS), , (any, DT)\n",
      "(properties, NNS), , (questionable, JJ)\n",
      "('re, VBP), , (., .)\n",
      "(is, VBZ), , (There, EX)\n",
      "(is, VBZ), , (asbestos, NN)\n",
      "(asbestos, NN), , (no, DT)\n",
      "(is, VBZ), , (in, IN)\n",
      "(in, IN), , (products, NNS)\n",
      "(products, NNS), , (our, PRP$)\n",
      "(is, VBZ), , (now, RB)\n",
      "(is, VBZ), , (., .)\n",
      "(is, VBZ), , ('', '')\n"
     ]
    }
   ],
   "source": [
    "for dg in parsed_sents[:10]:\n",
    "    for head, rel, dep in dg.triples():\n",
    "        print('({h[0]}, {h[1]}), {r}, ({d[0]}, {d[1]})'\n",
    "              .format(h=head, r=rel, d=dep))"
   ],
   "metadata": {
    "collapsed": false,
    "pycharm": {
     "name": "#%%\n"
    }
   }
  },
  {
   "cell_type": "code",
   "execution_count": 29,
   "outputs": [
    {
     "data": {
      "text/plain": "['__class__',\n '__delattr__',\n '__dict__',\n '__dir__',\n '__doc__',\n '__eq__',\n '__format__',\n '__ge__',\n '__getattribute__',\n '__gt__',\n '__hash__',\n '__init__',\n '__init_subclass__',\n '__le__',\n '__lt__',\n '__module__',\n '__ne__',\n '__new__',\n '__reduce__',\n '__reduce_ex__',\n '__repr__',\n '__setattr__',\n '__sizeof__',\n '__str__',\n '__subclasshook__',\n '__weakref__',\n '_hd',\n '_parse',\n '_rel',\n '_repr_svg_',\n '_tree',\n '_word',\n 'add_arc',\n 'add_node',\n 'connect_graph',\n 'contains_address',\n 'contains_cycle',\n 'get_by_address',\n 'get_cycle_path',\n 'left_children',\n 'load',\n 'nodes',\n 'nx_graph',\n 'redirect_arcs',\n 'remove_by_address',\n 'right_children',\n 'root',\n 'to_conll',\n 'to_dot',\n 'top_relation_label',\n 'tree',\n 'triples']"
     },
     "execution_count": 29,
     "metadata": {},
     "output_type": "execute_result"
    }
   ],
   "source": [
    "dir(dg)"
   ],
   "metadata": {
    "collapsed": false,
    "pycharm": {
     "name": "#%%\n"
    }
   }
  },
  {
   "cell_type": "code",
   "execution_count": 67,
   "outputs": [],
   "source": [
    "two_digit_num = lambda w: w.isnumeric() and len(w) == 2\n",
    "\n",
    "four_digit_num = lambda w: w.isnumeric() and len(w) == 4\n",
    "\n",
    "def decorated_contains(char):\n",
    "  def contains_digit_and_char(w):\n",
    "    ret = char in w\n",
    "    for c in w:\n",
    "      if c.isnumeric():\n",
    "        return ret\n",
    "    return False\n",
    "  return contains_digit_and_char\n",
    "\n",
    "contains_digit_and_dash = decorated_contains('-')\n",
    "contains_digit_and_comma = decorated_contains(',')\n",
    "contains_digit_and_period = decorated_contains('.')\n",
    "contains_digit_and_slash = decorated_contains('/')\n",
    "\n",
    "all_caps = lambda w: 'all_caps' if w.isupper() else False\n",
    "othernum = lambda w: 'othernum' if w.isnumeric() else False\n",
    "not_anum = lambda w: 'not_anum' if not w.isalnum() else False\n",
    "cap_period = lambda w:\"cap_period\" if  len(w) == 2 and w.isupper() and w[1] == '.' else False\n",
    "init_cap = lambda w: 'init_cap' if w[0].isupper() and all(a.isalpha() and a.islower() for a in w[1:]) else False\n",
    "lowercase = lambda w: 'lowercase' if w.isalpha() and w.islower() else False\n",
    "other = lambda w: True"
   ],
   "metadata": {
    "collapsed": false,
    "pycharm": {
     "name": "#%%\n"
    }
   }
  },
  {
   "cell_type": "code",
   "execution_count": 81,
   "outputs": [],
   "source": [
    "dic = {two_digit_num: 'two_digit_num',\n",
    "     four_digit_num:'four_digit_num',\n",
    "     contains_digit_and_dash:'contains_digit_and_dash',\n",
    "     contains_digit_and_comma:'contains_digit_and_comma',\n",
    "     contains_digit_and_period:'contains_digit_and_period',\n",
    "     contains_digit_and_slash:'contains_digit_and_slash',\n",
    "     all_caps:'all_caps',\n",
    "     othernum:'othernum',\n",
    "     not_anum:\"not_anum\",\n",
    "     cap_period:\"cap_period\",\n",
    "     init_cap:\"init_cap\"}\n",
    "\n"
   ],
   "metadata": {
    "collapsed": false,
    "pycharm": {
     "name": "#%%\n"
    }
   }
  },
  {
   "cell_type": "code",
   "execution_count": 102,
   "outputs": [],
   "source": [
    "vocab = set()\n",
    "pos_tags = set()\n",
    "for dg in parsed_sents:\n",
    "    for i, node in dg.nodes.items():\n",
    "        w = str(node['word'])\n",
    "        pos = node['tag']\n",
    "        # print(w, pos)\n",
    "        # for f in dic:\n",
    "        #     if f(w):\n",
    "        #         print(node['tag'])\n",
    "        #         w = dic[f]\n",
    "        # vocab.add(str(w).lower())\n",
    "        vocab.add(str(w))\n",
    "        # if not w.isalpha() and '_' not in w:\n",
    "        #     print(w)\n",
    "        pos_tags.add(pos)\n",
    "# vocab\n",
    "# pos_tags\n",
    "# vocab"
   ],
   "metadata": {
    "collapsed": false,
    "pycharm": {
     "name": "#%%\n"
    }
   }
  },
  {
   "cell_type": "code",
   "execution_count": 103,
   "outputs": [
    {
     "data": {
      "text/plain": "11968"
     },
     "execution_count": 103,
     "metadata": {},
     "output_type": "execute_result"
    }
   ],
   "source": [
    "len(vocab)"
   ],
   "metadata": {
    "collapsed": false,
    "pycharm": {
     "name": "#%%\n"
    }
   }
  },
  {
   "cell_type": "code",
   "execution_count": 104,
   "outputs": [
    {
     "data": {
      "text/plain": "23396215"
     },
     "execution_count": 104,
     "metadata": {},
     "output_type": "execute_result"
    }
   ],
   "source": [
    "d = len(vocab)*len(vocab) + len(pos_tags)**2"
   ],
   "metadata": {
    "collapsed": false,
    "pycharm": {
     "name": "#%%\n"
    }
   }
  },
  {
   "cell_type": "code",
   "execution_count": 107,
   "outputs": [
    {
     "data": {
      "text/plain": "array([0., 0., 0., ..., 0., 0., 0.])"
     },
     "execution_count": 107,
     "metadata": {},
     "output_type": "execute_result"
    }
   ],
   "source": [
    "vec = np.zeros(d)\n",
    "vec"
   ],
   "metadata": {
    "collapsed": false,
    "pycharm": {
     "name": "#%%\n"
    }
   }
  },
  {
   "cell_type": "code",
   "execution_count": 109,
   "outputs": [
    {
     "data": {
      "text/plain": "{('Jews', 'Jews'): 1,\n ('Jews', 'novel'): 2,\n ('Jews', 'preset'): 3,\n ('Jews', 'drastically'): 4,\n ('Jews', 'make'): 5,\n ('Jews', 'afraid'): 6,\n ('Jews', 'from'): 7,\n ('Jews', 'fly'): 8,\n ('Jews', 'estimation'): 9,\n ('Jews', 'Industry'): 10,\n ('Jews', 'romance'): 11,\n ('Jews', '90-cent-an-hour'): 12,\n ('Jews', 'external'): 13,\n ('Jews', 'computer-system-design'): 14,\n ('Jews', 'Burnham'): 15,\n ('Jews', 'planes'): 16,\n ('Jews', 'prosecuted'): 17,\n ('Jews', 'uses'): 18,\n ('Jews', 'ensnarled'): 19,\n ('Jews', 'When'): 20,\n ('Jews', 'Anne'): 21,\n ('Jews', 'Institutions'): 22,\n ('Jews', 'justice'): 23,\n ('Jews', 'willingness'): 24,\n ('Jews', 'Gerhard'): 25,\n ('Jews', '778'): 26,\n ('Jews', 'reap'): 27,\n ('Jews', 'recalls'): 28,\n ('Jews', 'speaks'): 29,\n ('Jews', 'salable'): 30,\n ('Jews', 'stood'): 31,\n ('Jews', 'BMP-1'): 32,\n ('Jews', 'Roland'): 33,\n ('Jews', 'plans'): 34,\n ('Jews', 'balance'): 35,\n ('Jews', 'hard-charging'): 36,\n ('Jews', 'FT'): 37,\n ('Jews', '52-week'): 38,\n ('Jews', 'male'): 39,\n ('Jews', 'Roman'): 40,\n ('Jews', 'image'): 41,\n ('Jews', 'expendable'): 42,\n ('Jews', 'effect'): 43,\n ('Jews', 'contribute'): 44,\n ('Jews', 'am'): 45,\n ('Jews', 'Arnold'): 46,\n ('Jews', 'Kalipharma'): 47,\n ('Jews', 'Campeau'): 48,\n ('Jews', 'appropriate'): 49,\n ('Jews', 'edition'): 50,\n ('Jews', 'Southern'): 51,\n ('Jews', 'died'): 52,\n ('Jews', 'Michaels'): 53,\n ('Jews', 'Angeles'): 54,\n ('Jews', 'Lambert'): 55,\n ('Jews', 'Information'): 56,\n ('Jews', '11-month-old'): 57,\n ('Jews', 'morale'): 58,\n ('Jews', 'explain'): 59,\n ('Jews', '240'): 60,\n ('Jews', 'established'): 61,\n ('Jews', 'hired'): 62,\n ('Jews', 'accumulated'): 63,\n ('Jews', 'Arthur'): 64,\n ('Jews', 'jockeys'): 65,\n ('Jews', 'obtain'): 66,\n ('Jews', 'understanding'): 67,\n ('Jews', 'morass'): 68,\n ('Jews', 'things'): 69,\n ('Jews', 'Lord'): 70,\n ('Jews', 'markup'): 71,\n ('Jews', 'Examiner'): 72,\n ('Jews', 'likely'): 73,\n ('Jews', 'index'): 74,\n ('Jews', 'Civilization'): 75,\n ('Jews', 'dollars'): 76,\n ('Jews', 'fourth-quarter'): 77,\n ('Jews', 'met'): 78,\n ('Jews', 'divergence'): 79,\n ('Jews', 'focusing'): 80,\n ('Jews', 'Solihull'): 81,\n ('Jews', 'wrestling'): 82,\n ('Jews', 'narrow'): 83,\n ('Jews', 'matter'): 84,\n ('Jews', 'definitely'): 85,\n ('Jews', 'La'): 86,\n ('Jews', 'Del.'): 87,\n ('Jews', 'self-esteem'): 88,\n ('Jews', 'territory'): 89,\n ('Jews', 'genuine'): 90,\n ('Jews', 'aimed'): 91,\n ('Jews', 'inquiries'): 92,\n ('Jews', 'ill'): 93,\n ('Jews', 'unabated'): 94,\n ('Jews', '8.30'): 95,\n ('Jews', '72.7'): 96,\n ('Jews', 'completeness'): 97,\n ('Jews', 'sky'): 98,\n ('Jews', 'incapable'): 99,\n ('Jews', 'chosen'): 100,\n ('Jews', 'Atlanta'): 101,\n ('Jews', 'Perhaps'): 102,\n ('Jews', 'asserting'): 103,\n ('Jews', 'After'): 104,\n ('Jews', 'Petersen'): 105,\n ('Jews', 'appetite'): 106,\n ('Jews', 'backed'): 107,\n ('Jews', '271,124'): 108,\n ('Jews', 'Jimmy'): 109,\n ('Jews', 'CORP'): 110,\n ('Jews', 'mere'): 111,\n ('Jews', 'transplantation'): 112,\n ('Jews', 'actions'): 113,\n ('Jews', 'Charlie'): 114,\n ('Jews', 'Clemens'): 115,\n ('Jews', 'lawyer'): 116,\n ('Jews', 'skilled'): 117,\n ('Jews', 'income'): 118,\n ('Jews', 'encouraging'): 119,\n ('Jews', 'Constitutional'): 120,\n ('Jews', 'Deregulation'): 121,\n ('Jews', '69'): 122,\n ('Jews', 'Nesconset'): 123,\n ('Jews', 'disagreeable'): 124,\n ('Jews', 'pull'): 125,\n ('Jews', '8.75'): 126,\n ('Jews', 'Numerous'): 127,\n ('Jews', 'moneymakers'): 128,\n ('Jews', 'clause'): 129,\n ('Jews', 'dismiss'): 130,\n ('Jews', 'focused'): 131,\n ('Jews', 'twin'): 132,\n ('Jews', 'beneficiary'): 133,\n ('Jews', 'Shipments'): 134,\n ('Jews', 'Filling'): 135,\n ('Jews', 'tradition'): 136,\n ('Jews', 'deluxe'): 137,\n ('Jews', 'got'): 138,\n ('Jews', 'excise'): 139,\n ('Jews', 'chopped'): 140,\n ('Jews', 'unsecured'): 141,\n ('Jews', 'acquisition-minded'): 142,\n ('Jews', '7.95'): 143,\n ('Jews', 'foot'): 144,\n ('Jews', 'challenging'): 145,\n ('Jews', 'Scherer'): 146,\n ('Jews', 'Cos.'): 147,\n ('Jews', 'segments'): 148,\n ('Jews', 'differential'): 149,\n ('Jews', 'referendum'): 150,\n ('Jews', 'Organizations'): 151,\n ('Jews', 'high-balance'): 152,\n ('Jews', 'Choose'): 153,\n ('Jews', 'Walbrecher'): 154,\n ('Jews', '184'): 155,\n ('Jews', 'averted'): 156,\n ('Jews', 'minimum'): 157,\n ('Jews', 'loved'): 158,\n ('Jews', 'holding'): 159,\n ('Jews', 'Saturday'): 160,\n ('Jews', 'jury'): 161,\n ('Jews', 'mature'): 162,\n ('Jews', 'Unemployment'): 163,\n ('Jews', 'ovation'): 164,\n ('Jews', 'dollar'): 165,\n ('Jews', 'themselves'): 166,\n ('Jews', 'crackdown'): 167,\n ('Jews', 'depression'): 168,\n ('Jews', 'Tiphook'): 169,\n ('Jews', 'Sternberg'): 170,\n ('Jews', 'lifes'): 171,\n ('Jews', 'detailed'): 172,\n ('Jews', 'Northampton'): 173,\n ('Jews', 'disposed'): 174,\n ('Jews', 'Jenkins'): 175,\n ('Jews', 'attitude'): 176,\n ('Jews', 'father-in-law'): 177,\n ('Jews', '1.92'): 178,\n ('Jews', 'companies'): 179,\n ('Jews', 'Mortgage'): 180,\n ('Jews', 'Foreign'): 181,\n ('Jews', 'Majority'): 182,\n ('Jews', 'rebels'): 183,\n ('Jews', 'clarified'): 184,\n ('Jews', 'Sit'): 185,\n ('Jews', 'subsidize'): 186,\n ('Jews', 'staunchly'): 187,\n ('Jews', 'scrambled'): 188,\n ('Jews', 'bell-ringing'): 189,\n ('Jews', 'downside'): 190,\n ('Jews', 'inner-city'): 191,\n ('Jews', 'CEO'): 192,\n ('Jews', 'breakdown'): 193,\n ('Jews', 'specialist'): 194,\n ('Jews', 'recommended'): 195,\n ('Jews', 'proof'): 196,\n ('Jews', 'first-time'): 197,\n ('Jews', 'events'): 198,\n ('Jews', '84.9'): 199,\n ('Jews', '31-year-old'): 200,\n ('Jews', 'racket'): 201,\n ('Jews', 'meant'): 202,\n ('Jews', 'declaration'): 203,\n ('Jews', 'code'): 204,\n ('Jews', 'beg'): 205,\n ('Jews', 'threatened'): 206,\n ('Jews', 'seventh'): 207,\n ('Jews', 'assert'): 208,\n ('Jews', 'THAT'): 209,\n ('Jews', 'match'): 210,\n ('Jews', 'foam'): 211,\n ('Jews', 'Salvador'): 212,\n ('Jews', 'plastic'): 213,\n ('Jews', 'labor-intensive'): 214,\n ('Jews', 'surplus'): 215,\n ('Jews', 'Terrace'): 216,\n ('Jews', 'NBI'): 217,\n ('Jews', 'prominent'): 218,\n ('Jews', 'June'): 219,\n ('Jews', 'Sandra'): 220,\n ('Jews', 'Freud'): 221,\n ('Jews', '150.00'): 222,\n ('Jews', 'application'): 223,\n ('Jews', 'advocates'): 224,\n ('Jews', 'appliance'): 225,\n ('Jews', 'newly'): 226,\n ('Jews', 'regarded'): 227,\n ('Jews', 'A'): 228,\n ('Jews', 'Sierra'): 229,\n ('Jews', 'base'): 230,\n ('Jews', 'rewarding'): 231,\n ('Jews', 'physics'): 232,\n ('Jews', 'upsetting'): 233,\n ('Jews', 'stay'): 234,\n ('Jews', 'wheat'): 235,\n ('Jews', 'Think'): 236,\n ('Jews', 'Asada'): 237,\n ('Jews', '576'): 238,\n ('Jews', 'mention'): 239,\n ('Jews', 'shrank'): 240,\n ('Jews', 'flat'): 241,\n ('Jews', 'disregard'): 242,\n ('Jews', 'speedway'): 243,\n ('Jews', 'Filmed'): 244,\n ('Jews', 'sectors'): 245,\n ('Jews', 'credibility'): 246,\n ('Jews', 'bar'): 247,\n ('Jews', 'Colleges'): 248,\n ('Jews', 'headline'): 249,\n ('Jews', 'nets'): 250,\n ('Jews', 'warming'): 251,\n ('Jews', 'rise'): 252,\n ('Jews', '24'): 253,\n ('Jews', '77.70'): 254,\n ('Jews', 'departure'): 255,\n ('Jews', 'and'): 256,\n ('Jews', 'part'): 257,\n ('Jews', 'failed'): 258,\n ('Jews', 'die'): 259,\n ('Jews', 'university'): 260,\n ('Jews', 'car'): 261,\n ('Jews', 'son'): 262,\n ('Jews', 'You'): 263,\n ('Jews', 'Mehrens'): 264,\n ('Jews', 'demobilize'): 265,\n ('Jews', 'removing'): 266,\n ('Jews', 'heavy-truck'): 267,\n ('Jews', 'currencies'): 268,\n ('Jews', 'retaining'): 269,\n ('Jews', '43.875'): 270,\n ('Jews', 'Maxwell'): 271,\n ('Jews', 'muscling'): 272,\n ('Jews', 'declines'): 273,\n ('Jews', '600'): 274,\n ('Jews', 'citations'): 275,\n ('Jews', 'client'): 276,\n ('Jews', 'METALS'): 277,\n ('Jews', '7,500'): 278,\n ('Jews', 'knew'): 279,\n ('Jews', '31'): 280,\n ('Jews', 'Confronted'): 281,\n ('Jews', 'pair'): 282,\n ('Jews', 'H.N.'): 283,\n ('Jews', '11,762'): 284,\n ('Jews', 'Denver'): 285,\n ('Jews', '1,050,000'): 286,\n ('Jews', '132'): 287,\n ('Jews', 'stuck'): 288,\n ('Jews', 'thing'): 289,\n ('Jews', 'INTERBANK'): 290,\n ('Jews', '5.92'): 291,\n ('Jews', 'Civil'): 292,\n ('Jews', 'electric-utility'): 293,\n ('Jews', 'sentiment'): 294,\n ('Jews', 'Sure'): 295,\n ('Jews', 'required'): 296,\n ('Jews', 'Cancer'): 297,\n ('Jews', 'making'): 298,\n ('Jews', 'directors'): 299,\n ('Jews', 'balls'): 300,\n ('Jews', 'Pro-forma'): 301,\n ('Jews', 'helping'): 302,\n ('Jews', 'restructured'): 303,\n ('Jews', 'post'): 304,\n ('Jews', 'demise'): 305,\n ('Jews', 'log'): 306,\n ('Jews', 'provision'): 307,\n ('Jews', 'hill'): 308,\n ('Jews', 'Little'): 309,\n ('Jews', 'there'): 310,\n ('Jews', 'spot'): 311,\n ('Jews', 'bolstered'): 312,\n ('Jews', 'On'): 313,\n ('Jews', 'installment'): 314,\n ('Jews', 'industrial'): 315,\n ('Jews', 'four-year'): 316,\n ('Jews', 'six-packs'): 317,\n ('Jews', 'respondents'): 318,\n ('Jews', 'Thursday'): 319,\n ('Jews', 'Jerry'): 320,\n ('Jews', 'German'): 321,\n ('Jews', 'Malcolm'): 322,\n ('Jews', 'protocols'): 323,\n ('Jews', 'Napa'): 324,\n ('Jews', 'Home'): 325,\n ('Jews', '11.10'): 326,\n ('Jews', 'panel'): 327,\n ('Jews', 'fond'): 328,\n ('Jews', 'buses'): 329,\n ('Jews', 'Speculation'): 330,\n ('Jews', 'Attorney'): 331,\n ('Jews', 'disseminating'): 332,\n ('Jews', 'Enterprise'): 333,\n ('Jews', 'mortgage-backed'): 334,\n ('Jews', 'redeem'): 335,\n ('Jews', 'grandstander'): 336,\n ('Jews', 'constantly'): 337,\n ('Jews', 'sacks'): 338,\n ('Jews', 'happens'): 339,\n ('Jews', 'encircling'): 340,\n ('Jews', '5.7'): 341,\n ('Jews', 'Atsushi'): 342,\n ('Jews', 'standard'): 343,\n ('Jews', 'classic'): 344,\n ('Jews', 'homelessness'): 345,\n ('Jews', 'how-to'): 346,\n ('Jews', '326'): 347,\n ('Jews', '12.5'): 348,\n ('Jews', 'Mona'): 349,\n ('Jews', 'rubber'): 350,\n ('Jews', 'escort'): 351,\n ('Jews', 'happy'): 352,\n ('Jews', 'corkscrews'): 353,\n ('Jews', 'alcoholism'): 354,\n ('Jews', 'electrical-safety'): 355,\n ('Jews', 'Bunny'): 356,\n ('Jews', 'popularly'): 357,\n ('Jews', 'protein'): 358,\n ('Jews', 'machines'): 359,\n ('Jews', 'jointly'): 360,\n ('Jews', 'truce'): 361,\n ('Jews', 'extraordinary'): 362,\n ('Jews', 'ultimately'): 363,\n ('Jews', '9.82'): 364,\n ('Jews', 'Mickey'): 365,\n ('Jews', '5,000'): 366,\n ('Jews', 'hotels'): 367,\n ('Jews', 'downgraded'): 368,\n ('Jews', 'cheating'): 369,\n ('Jews', 'participate'): 370,\n ('Jews', 'receiving'): 371,\n ('Jews', 'Baltimore'): 372,\n ('Jews', 'cosmetic'): 373,\n ('Jews', 'mirror'): 374,\n ('Jews', 'sharp'): 375,\n ('Jews', 'high-flying'): 376,\n ('Jews', 'dolls'): 377,\n ('Jews', 'modify'): 378,\n ('Jews', 'Circulations'): 379,\n ('Jews', 'Carolina'): 380,\n ('Jews', 'pound'): 381,\n ('Jews', 'truth'): 382,\n ('Jews', 'employs'): 383,\n ('Jews', 'faith'): 384,\n ('Jews', 'Few'): 385,\n ('Jews', 'examined'): 386,\n ('Jews', 'cease-fire'): 387,\n ('Jews', 'purchase'): 388,\n ('Jews', '340,000'): 389,\n ('Jews', 'Oy'): 390,\n ('Jews', '83,206'): 391,\n ('Jews', 'why'): 392,\n ('Jews', 'Hoylake'): 393,\n ('Jews', 'Supreme'): 394,\n ('Jews', 'properties'): 395,\n ('Jews', 'purrs'): 396,\n ('Jews', 'punitive'): 397,\n ('Jews', 'sophisticated'): 398,\n ('Jews', '203'): 399,\n ('Jews', 'papers'): 400,\n ('Jews', 'Consolidated'): 401,\n ('Jews', 'Hatch'): 402,\n ('Jews', 'question'): 403,\n ('Jews', 'OF'): 404,\n ('Jews', 'rally'): 405,\n ('Jews', 'MORTGAGE'): 406,\n ('Jews', 'ancestry'): 407,\n ('Jews', 'failing'): 408,\n ('Jews', 'Chinese-American'): 409,\n ('Jews', 'contest'): 410,\n ('Jews', 'Taiwan'): 411,\n ('Jews', 'stock-picking'): 412,\n ('Jews', '1787'): 413,\n ('Jews', '600,000'): 414,\n ('Jews', 'crop'): 415,\n ('Jews', 'metal'): 416,\n ('Jews', 'cascading'): 417,\n ('Jews', '5.1'): 418,\n ('Jews', 'on'): 419,\n ('Jews', 'Council'): 420,\n ('Jews', 'short-term'): 421,\n ('Jews', 'unemployment'): 422,\n ('Jews', 'amend'): 423,\n ('Jews', 'Everybody'): 424,\n ('Jews', 'thirtysomething'): 425,\n ('Jews', 'bundling'): 426,\n ('Jews', '33'): 427,\n ('Jews', 'disposables'): 428,\n ('Jews', 'enable'): 429,\n ('Jews', 'leveraged'): 430,\n ('Jews', 'new'): 431,\n ('Jews', 'aboard'): 432,\n ('Jews', 'photos'): 433,\n ('Jews', 'Weisfield'): 434,\n ('Jews', 'Jones'): 435,\n ('Jews', 'jobs'): 436,\n ('Jews', '2.35'): 437,\n ('Jews', 'injuries'): 438,\n ('Jews', 'covering'): 439,\n ('Jews', '99.1'): 440,\n ('Jews', 'Frenzy'): 441,\n ('Jews', 'services'): 442,\n ('Jews', 'ASSOCIATION'): 443,\n ('Jews', '6,799'): 444,\n ('Jews', 'Albuquerque'): 445,\n ('Jews', 'Bridge'): 446,\n ('Jews', 'regulation'): 447,\n ('Jews', 'concluded'): 448,\n ('Jews', 'suffer'): 449,\n ('Jews', 'privilege'): 450,\n ('Jews', 'Hayne'): 451,\n ('Jews', 'harsh'): 452,\n ('Jews', 'avid'): 453,\n ('Jews', 'truthful'): 454,\n ('Jews', '4.25'): 455,\n ('Jews', 'appropriations'): 456,\n ('Jews', 'overproduction'): 457,\n ('Jews', 'journal'): 458,\n ('Jews', 'Jan.'): 459,\n ('Jews', '415.6'): 460,\n ('Jews', 'index-related'): 461,\n ('Jews', 'specify'): 462,\n ('Jews', 'Avenue'): 463,\n ('Jews', '80.50'): 464,\n ('Jews', 'resisting'): 465,\n ('Jews', 'occupying'): 466,\n ('Jews', 'refile'): 467,\n ('Jews', 'reflects'): 468,\n ('Jews', 'strengthened'): 469,\n ('Jews', '63.79'): 470,\n ('Jews', 'hostage'): 471,\n ('Jews', 'Hold'): 472,\n ('Jews', 'acceleration'): 473,\n ('Jews', 'four-day'): 474,\n ('Jews', 'Pictures'): 475,\n ('Jews', 'compare'): 476,\n ('Jews', 'Royal'): 477,\n ('Jews', '65'): 478,\n ('Jews', 'bald-faced'): 479,\n ('Jews', 'penetration'): 480,\n ('Jews', 'Del'): 481,\n ('Jews', 'printers'): 482,\n ('Jews', 'convinced'): 483,\n ('Jews', 'steelmaker'): 484,\n ('Jews', 'reduce'): 485,\n ('Jews', 'evenly'): 486,\n ('Jews', 'resumption'): 487,\n ('Jews', '2.4'): 488,\n ('Jews', 'fashioned'): 489,\n ('Jews', 'wine-making'): 490,\n ('Jews', 'PRIME'): 491,\n ('Jews', 'respond'): 492,\n ('Jews', 'received'): 493,\n ('Jews', 'vitally'): 494,\n ('Jews', 'jitters'): 495,\n ('Jews', 'vowed'): 496,\n ('Jews', 'subsidiary'): 497,\n ('Jews', 'Common'): 498,\n ('Jews', 'extremely'): 499,\n ('Jews', 'Improvement'): 500,\n ('Jews', 'neat'): 501,\n ('Jews', 'first-half'): 502,\n ('Jews', 'respite'): 503,\n ('Jews', 'Darkhorse'): 504,\n ('Jews', 'duty'): 505,\n ('Jews', 'kit'): 506,\n ('Jews', 'Terrence'): 507,\n ('Jews', 'spotted'): 508,\n ('Jews', 'tracks'): 509,\n ('Jews', 'lighter'): 510,\n ('Jews', '8.53'): 511,\n ('Jews', 'Hudnut'): 512,\n ('Jews', 'E.W.'): 513,\n ('Jews', 'barrels'): 514,\n ('Jews', 'antitrust'): 515,\n ('Jews', 'bombs'): 516,\n ('Jews', 'breezy'): 517,\n ('Jews', 'resistance'): 518,\n ('Jews', 'Buick'): 519,\n ('Jews', 'electorate'): 520,\n ('Jews', 'outlook'): 521,\n ('Jews', 'Philadelphia-based'): 522,\n ('Jews', '7.15'): 523,\n ('Jews', 'along'): 524,\n ('Jews', 'Cara'): 525,\n ('Jews', 'anti-abortion'): 526,\n ('Jews', 'columns'): 527,\n ('Jews', 'Anything'): 528,\n ('Jews', 'reflecting'): 529,\n ('Jews', 'Satrum'): 530,\n ('Jews', '387.8'): 531,\n ('Jews', 'copper'): 532,\n ('Jews', 'Jonathan'): 533,\n ('Jews', 'earnings'): 534,\n ('Jews', 'Sr.'): 535,\n ('Jews', 'executives'): 536,\n ('Jews', 'tailored'): 537,\n ('Jews', 'liberal'): 538,\n ('Jews', 'readership'): 539,\n ('Jews', 'referring'): 540,\n ('Jews', 'hearing'): 541,\n ('Jews', 'queers'): 542,\n ('Jews', 'Per-share'): 543,\n ('Jews', 'Warner'): 544,\n ('Jews', 'God'): 545,\n ('Jews', 'vagrant'): 546,\n ('Jews', 'Rockefeller'): 547,\n ('Jews', 'Nissho-Iwai'): 548,\n ('Jews', 'Youths'): 549,\n ('Jews', 'invention'): 550,\n ('Jews', 'fines'): 551,\n ('Jews', 'kinds'): 552,\n ('Jews', '14.5'): 553,\n ('Jews', 'mothers'): 554,\n ('Jews', 'swiftly'): 555,\n ('Jews', 'accommodations'): 556,\n ('Jews', 'Coleman'): 557,\n ('Jews', '60'): 558,\n ('Jews', '169.9'): 559,\n ('Jews', 'almost'): 560,\n ('Jews', 'revenue'): 561,\n ('Jews', '8.45'): 562,\n ('Jews', 'acetate'): 563,\n ('Jews', 'Du'): 564,\n ('Jews', 'persuasion'): 565,\n ('Jews', 'syndrome'): 566,\n ('Jews', 'Christopher'): 567,\n ('Jews', 'fifth'): 568,\n ('Jews', 'North'): 569,\n ('Jews', 'threats'): 570,\n ('Jews', 'subjecting'): 571,\n ('Jews', 'harms'): 572,\n ('Jews', 'holiday'): 573,\n ('Jews', 'spent'): 574,\n ('Jews', 'yes'): 575,\n ('Jews', 'navigation'): 576,\n ('Jews', 'Under'): 577,\n ('Jews', 'narrowed'): 578,\n ('Jews', 'administrations'): 579,\n ('Jews', 'patients'): 580,\n ('Jews', 'peal'): 581,\n ('Jews', 'kidnapper'): 582,\n ('Jews', 'articles'): 583,\n ('Jews', 'housing-assistance'): 584,\n ('Jews', 'impart'): 585,\n ('Jews', 'Dunn'): 586,\n ('Jews', 'mega-stadium'): 587,\n ('Jews', 'Grgich'): 588,\n ('Jews', 'Rusty'): 589,\n ('Jews', 'quoting'): 590,\n ('Jews', 'besuboru'): 591,\n ('Jews', 'clean-up'): 592,\n ('Jews', 'stoppage'): 593,\n ('Jews', 'labor-management'): 594,\n ('Jews', \"'50s\"): 595,\n ('Jews', 'what'): 596,\n ('Jews', 'Whiting'): 597,\n ('Jews', 'felonies'): 598,\n ('Jews', 'replacement'): 599,\n ('Jews', 'stone'): 600,\n ('Jews', 'exit'): 601,\n ('Jews', '11.57'): 602,\n ('Jews', 'fast'): 603,\n ('Jews', 'confident'): 604,\n ('Jews', 'BILLS'): 605,\n ('Jews', 'Pauline'): 606,\n ('Jews', 'MacLellan'): 607,\n ('Jews', 'Dale'): 608,\n ('Jews', 'Program'): 609,\n ('Jews', 'biannual'): 610,\n ('Jews', 'Ariz.'): 611,\n ('Jews', 'severable'): 612,\n ('Jews', 'Backer'): 613,\n ('Jews', 'prisoners'): 614,\n ('Jews', 'computerize'): 615,\n ('Jews', 'profess'): 616,\n ('Jews', 'tasty'): 617,\n ('Jews', ','): 618,\n ('Jews', 'maintenance'): 619,\n ('Jews', '47.125'): 620,\n ('Jews', 'midtown'): 621,\n ('Jews', 'puzzled'): 622,\n ('Jews', 'pages'): 623,\n ('Jews', 'Proponents'): 624,\n ('Jews', 'automotive'): 625,\n ('Jews', 'pillow'): 626,\n ('Jews', 'Kingsbridge'): 627,\n ('Jews', 'behaving'): 628,\n ('Jews', 'common'): 629,\n ('Jews', 'broader'): 630,\n ('Jews', 'childish'): 631,\n ('Jews', 'eight-person'): 632,\n ('Jews', 'Carrier'): 633,\n ('Jews', 'revive'): 634,\n ('Jews', 'G'): 635,\n ('Jews', 'nomination'): 636,\n ('Jews', 'scrounge'): 637,\n ('Jews', 'Varying'): 638,\n ('Jews', 'Tenn.'): 639,\n ('Jews', 'increase'): 640,\n ('Jews', 'Weatherly'): 641,\n ('Jews', '153.3'): 642,\n ('Jews', 'bombarding'): 643,\n ('Jews', 'veteran'): 644,\n ('Jews', 'financings'): 645,\n ('Jews', 'assumed'): 646,\n ('Jews', 'except'): 647,\n ('Jews', 'downgrade'): 648,\n ('Jews', 'fuming'): 649,\n ('Jews', 'clothes'): 650,\n ('Jews', 'lives'): 651,\n ('Jews', 'Sheep'): 652,\n ('Jews', 'Options'): 653,\n ('Jews', 'merely'): 654,\n ('Jews', 'yields'): 655,\n ('Jews', 'associates'): 656,\n ('Jews', 'races'): 657,\n ('Jews', 'lady'): 658,\n ('Jews', 'Individual'): 659,\n ('Jews', 'lucky'): 660,\n ('Jews', 'eclipse'): 661,\n ('Jews', 'impetuous'): 662,\n ('Jews', 'Fundamentalists'): 663,\n ('Jews', 'red-flag'): 664,\n ('Jews', 'dating'): 665,\n ('Jews', 'Asian'): 666,\n ('Jews', 'EURODOLLARS'): 667,\n ('Jews', 'host'): 668,\n ('Jews', 'sticker-shock'): 669,\n ('Jews', 'Buckhead'): 670,\n ('Jews', '692'): 671,\n ('Jews', 'April'): 672,\n ('Jews', 'box'): 673,\n ('Jews', 'double-A'): 674,\n ('Jews', 'Village'): 675,\n ('Jews', 'pleaded'): 676,\n ('Jews', 'wives'): 677,\n ('Jews', 'operation'): 678,\n ('Jews', 'Financial'): 679,\n ('Jews', '1:30'): 680,\n ('Jews', 'playwright'): 681,\n ('Jews', '29.9'): 682,\n ('Jews', 'being'): 683,\n ('Jews', 'naming'): 684,\n ('Jews', 'disadvantage'): 685,\n ('Jews', 'benefited'): 686,\n ('Jews', 'summons'): 687,\n ('Jews', 'diminished'): 688,\n ('Jews', 'Brady'): 689,\n ('Jews', '1.637'): 690,\n ('Jews', 'cheaper'): 691,\n ('Jews', '70'): 692,\n ('Jews', 'person'): 693,\n ('Jews', 'construed'): 694,\n ('Jews', 'Brunello'): 695,\n ('Jews', 'staff-reduction'): 696,\n ('Jews', 'Boeing'): 697,\n ('Jews', 'terrine'): 698,\n ('Jews', 'maze'): 699,\n ('Jews', 'city-owned'): 700,\n ('Jews', 'socialist'): 701,\n ('Jews', 'proposals'): 702,\n ('Jews', 'better'): 703,\n ('Jews', 'airports'): 704,\n ('Jews', '55-a-share'): 705,\n ('Jews', 'fair'): 706,\n ('Jews', 'above-market'): 707,\n ('Jews', 'curb'): 708,\n ('Jews', 'fund'): 709,\n ('Jews', 'McAuley'): 710,\n ('Jews', 'Gelles'): 711,\n ('Jews', 'declining'): 712,\n ('Jews', 'genie'): 713,\n ('Jews', 'double-C'): 714,\n ('Jews', 'Bronx'): 715,\n ('Jews', 'reasoning'): 716,\n ('Jews', 'subject'): 717,\n ('Jews', 'fires'): 718,\n ('Jews', 'Shores'): 719,\n ('Jews', 'beauty'): 720,\n ('Jews', 'museum'): 721,\n ('Jews', 'Mutchin'): 722,\n ('Jews', 'generated'): 723,\n ('Jews', 'manufacturer'): 724,\n ('Jews', 'learn'): 725,\n ('Jews', 'Fred'): 726,\n ('Jews', 'tramp'): 727,\n ('Jews', 'nothing'): 728,\n ('Jews', 'proposing'): 729,\n ('Jews', 'luck'): 730,\n ('Jews', 'offers'): 731,\n ('Jews', 'A.C.'): 732,\n ('Jews', '107'): 733,\n ('Jews', 'illegally'): 734,\n ('Jews', 'array'): 735,\n ('Jews', 'notice'): 736,\n ('Jews', 'Monchecourt'): 737,\n ('Jews', 'year-long'): 738,\n ('Jews', 'oriented'): 739,\n ('Jews', 'caught'): 740,\n ('Jews', 'unwilling'): 741,\n ('Jews', 'pioneer'): 742,\n ('Jews', 'experience'): 743,\n ('Jews', '9.5'): 744,\n ('Jews', 'achieved'): 745,\n ('Jews', 'Jonas'): 746,\n ('Jews', 'slightly'): 747,\n ('Jews', 'fails'): 748,\n ('Jews', 'enabling'): 749,\n ('Jews', 'Young'): 750,\n ('Jews', 'changing'): 751,\n ('Jews', 'partners'): 752,\n ('Jews', 'nine-member'): 753,\n ('Jews', 'aircraft'): 754,\n ('Jews', 'Interviews'): 755,\n ('Jews', 'warned'): 756,\n ('Jews', 'Minneapolis-based'): 757,\n ('Jews', 'history'): 758,\n ('Jews', '372.9'): 759,\n ('Jews', 'Purchase'): 760,\n ('Jews', 'impact'): 761,\n ('Jews', 'GOODY'): 762,\n ('Jews', 'concentrate'): 763,\n ('Jews', 'N.C'): 764,\n ('Jews', '8.467'): 765,\n ('Jews', 'Mining'): 766,\n ('Jews', 'demands'): 767,\n ('Jews', 'necks'): 768,\n ('Jews', 'ethanol'): 769,\n ('Jews', 'engineering'): 770,\n ('Jews', 'apologize'): 771,\n ('Jews', 'lifted'): 772,\n ('Jews', 'Mrs.'): 773,\n ('Jews', 'questioned'): 774,\n ('Jews', 'mean'): 775,\n ('Jews', 'Seattle'): 776,\n ('Jews', 'pact'): 777,\n ('Jews', 'Freddie'): 778,\n ('Jews', 'seasoned'): 779,\n ('Jews', 'trust'): 780,\n ('Jews', '18'): 781,\n ('Jews', '50'): 782,\n ('Jews', 'reform'): 783,\n ('Jews', 'Sol'): 784,\n ('Jews', 'deregulation'): 785,\n ('Jews', '10.2'): 786,\n ('Jews', '23.5'): 787,\n ('Jews', 'foldability'): 788,\n ('Jews', 'logjam'): 789,\n ('Jews', 'wrong'): 790,\n ('Jews', 'continue'): 791,\n ('Jews', 'Cellar'): 792,\n ('Jews', 'seeking'): 793,\n ('Jews', 'tutorials'): 794,\n ('Jews', 'market-oriented'): 795,\n ('Jews', 'dilemma'): 796,\n ('Jews', 'fueling'): 797,\n ('Jews', 'fare'): 798,\n ('Jews', 'recessionary'): 799,\n ('Jews', 'link'): 800,\n ('Jews', 'propagandizes'): 801,\n ('Jews', 'minted'): 802,\n ('Jews', 'Citizen'): 803,\n ('Jews', 'rights'): 804,\n ('Jews', '44'): 805,\n ('Jews', 'triple-A-rated'): 806,\n ('Jews', 'Fed'): 807,\n ('Jews', 'Corp.'): 808,\n ('Jews', 'scrupulously'): 809,\n ('Jews', 'boys'): 810,\n ('Jews', 'loser'): 811,\n ('Jews', 'chefs'): 812,\n ('Jews', 'J.L.'): 813,\n ('Jews', 'Coniston'): 814,\n ('Jews', 'Jaffray'): 815,\n ('Jews', 'Periods'): 816,\n ('Jews', '1.55'): 817,\n ('Jews', 'annualized'): 818,\n ('Jews', 'tows'): 819,\n ('Jews', 'The'): 820,\n ('Jews', '21'): 821,\n ('Jews', 'devices'): 822,\n ('Jews', 'goblins'): 823,\n ('Jews', 'SWITCHING'): 824,\n ('Jews', 'Strindberg'): 825,\n ('Jews', 'blames'): 826,\n ('Jews', 'delayed'): 827,\n ('Jews', 'banking'): 828,\n ('Jews', 'petition'): 829,\n ('Jews', 'centers'): 830,\n ('Jews', 'others'): 831,\n ('Jews', 'ensure'): 832,\n ('Jews', 'Canepa'): 833,\n ('Jews', 'bend'): 834,\n ('Jews', 'carrier'): 835,\n ('Jews', 'tender'): 836,\n ('Jews', 'Fellowship'): 837,\n ('Jews', 'skip'): 838,\n ('Jews', 'U.S.A'): 839,\n ('Jews', 'belts'): 840,\n ('Jews', 'functioning'): 841,\n ('Jews', 'Tray'): 842,\n ('Jews', 'wine'): 843,\n ('Jews', 'Groucho'): 844,\n ('Jews', 'given'): 845,\n ('Jews', 'Wright'): 846,\n ('Jews', 'scores'): 847,\n ('Jews', 'Corporations'): 848,\n ('Jews', '127.03'): 849,\n ('Jews', 'connection'): 850,\n ('Jews', '3,600'): 851,\n ('Jews', 'data'): 852,\n ('Jews', 'Sanderoff'): 853,\n ('Jews', 'constituent'): 854,\n ('Jews', 'buildings'): 855,\n ('Jews', 'muzzling'): 856,\n ('Jews', 'capture'): 857,\n ('Jews', 'suburban'): 858,\n ('Jews', 'Walters'): 859,\n ('Jews', 'Macmillan\\\\/McGraw-Hill'): 860,\n ('Jews', 'Chivas'): 861,\n ('Jews', 'pension-fund'): 862,\n ('Jews', 'export-oriented'): 863,\n ('Jews', 'theory'): 864,\n ('Jews', 'chaotic'): 865,\n ('Jews', 'WHAS'): 866,\n ('Jews', 'rumor'): 867,\n ('Jews', 'covers'): 868,\n ('Jews', 'empire'): 869,\n ('Jews', 'Synergistics'): 870,\n ('Jews', 'criminal'): 871,\n ('Jews', 'zip'): 872,\n ('Jews', 'pattern'): 873,\n ('Jews', 'plea'): 874,\n ('Jews', 'walls'): 875,\n ('Jews', 'Minister'): 876,\n ('Jews', 'Bonds'): 877,\n ('Jews', 'Namibia'): 878,\n ('Jews', 'entrepreneur'): 879,\n ('Jews', 'medium-sized'): 880,\n ('Jews', 'Pakistan'): 881,\n ('Jews', '3,250,000'): 882,\n ('Jews', 'held'): 883,\n ('Jews', 'receive'): 884,\n ('Jews', 'emerged'): 885,\n ('Jews', 'realized'): 886,\n ('Jews', 'back'): 887,\n ('Jews', 'Robertson'): 888,\n ('Jews', '1614'): 889,\n ('Jews', 'marching'): 890,\n ('Jews', 'usual'): 891,\n ('Jews', 'altering'): 892,\n ('Jews', 'tied'): 893,\n ('Jews', 'partial'): 894,\n ('Jews', 'Management'): 895,\n ('Jews', 'photographs'): 896,\n ('Jews', 'physicist'): 897,\n ('Jews', 'remarkable'): 898,\n ('Jews', 'weaken'): 899,\n ('Jews', 'seconds'): 900,\n ('Jews', 'inching'): 901,\n ('Jews', 'Also'): 902,\n ('Jews', 'encourages'): 903,\n ('Jews', 'Meanwhile'): 904,\n ('Jews', 'year-to-year'): 905,\n ('Jews', 'advertised'): 906,\n ('Jews', 'Fire'): 907,\n ('Jews', 'addition'): 908,\n ('Jews', 'point'): 909,\n ('Jews', 'enact'): 910,\n ('Jews', 'editions'): 911,\n ('Jews', 'fled'): 912,\n ('Jews', 'mouth-up'): 913,\n ('Jews', 'sorry'): 914,\n ('Jews', 'Sun'): 915,\n ('Jews', 'documents'): 916,\n ('Jews', 'subtraction'): 917,\n ('Jews', 'open'): 918,\n ('Jews', 'Financially'): 919,\n ('Jews', 'votes'): 920,\n ('Jews', 'began'): 921,\n ('Jews', '64-year-old'): 922,\n ('Jews', 'claiming'): 923,\n ('Jews', 'certainly'): 924,\n ('Jews', 'obvious'): 925,\n ('Jews', 'conceding'): 926,\n ('Jews', 'removal'): 927,\n ('Jews', 'Orders'): 928,\n ('Jews', 'Lilly'): 929,\n ('Jews', '90'): 930,\n ('Jews', 'ritual'): 931,\n ('Jews', 'everybody'): 932,\n ('Jews', 'Glendale'): 933,\n ('Jews', 'harmed'): 934,\n ('Jews', 'slump'): 935,\n ('Jews', 'continuingly'): 936,\n ('Jews', 'becoming'): 937,\n ('Jews', 'tete-a-tete'): 938,\n ('Jews', 'Possible'): 939,\n ('Jews', '5.8'): 940,\n ('Jews', '1993'): 941,\n ('Jews', 'page'): 942,\n ('Jews', 'creams'): 943,\n ('Jews', 'Chabrol'): 944,\n ('Jews', 'Haruki'): 945,\n ('Jews', 'Conduct'): 946,\n ('Jews', 'Datapoint'): 947,\n ('Jews', 'additional'): 948,\n ('Jews', 'advantages'): 949,\n ('Jews', 'turf'): 950,\n ('Jews', 'Banking'): 951,\n ('Jews', 'carries'): 952,\n ('Jews', 'Nagymaros'): 953,\n ('Jews', 'dressed'): 954,\n ('Jews', 'acknowledging'): 955,\n ('Jews', 'lofty'): 956,\n ('Jews', 'director'): 957,\n ('Jews', 'Supportive'): 958,\n ('Jews', 'ways'): 959,\n ('Jews', 'gut-wrenching'): 960,\n ('Jews', 'life-of-contract'): 961,\n ('Jews', 'bringing'): 962,\n ('Jews', 'versus'): 963,\n ('Jews', 'congressmen'): 964,\n ('Jews', 'captivating'): 965,\n ('Jews', 'college-bowl'): 966,\n ('Jews', 'Leo'): 967,\n ('Jews', 'else'): 968,\n ('Jews', 'cities'): 969,\n ('Jews', 'speculation'): 970,\n ('Jews', 'Facilities'): 971,\n ('Jews', 'stem'): 972,\n ('Jews', 'Norwick'): 973,\n ('Jews', 'Aerojet'): 974,\n ('Jews', '230-215'): 975,\n ('Jews', 'annually'): 976,\n ('Jews', 'tip'): 977,\n ('Jews', 'Salomon'): 978,\n ('Jews', 'Court'): 979,\n ('Jews', 'dairy'): 980,\n ('Jews', 'phrase'): 981,\n ('Jews', 'extended'): 982,\n ('Jews', 'clients'): 983,\n ('Jews', 'modern-day'): 984,\n ('Jews', 'Einhorn'): 985,\n ('Jews', 'Biedermann'): 986,\n ('Jews', 'computer-generated'): 987,\n ('Jews', 'labor'): 988,\n ('Jews', 'cues'): 989,\n ('Jews', 'Literacy'): 990,\n ('Jews', 'Hamilton'): 991,\n ('Jews', 'succeeded'): 992,\n ('Jews', 'direction'): 993,\n ('Jews', 'regulating'): 994,\n ('Jews', 'Red-blooded'): 995,\n ('Jews', 'money-center'): 996,\n ('Jews', 'Siegal'): 997,\n ('Jews', '14.28'): 998,\n ('Jews', 'civil'): 999,\n ('Jews', 'mousseline'): 1000,\n ...}"
     },
     "execution_count": 109,
     "metadata": {},
     "output_type": "execute_result"
    }
   ],
   "source": [
    "pairs_dict = {}\n",
    "i = 0\n",
    "for w1 in vocab:\n",
    "    for w2 in vocab:\n",
    "        i += 1\n",
    "        pairs_dict[(w1, w2)] = i\n",
    "\n",
    "\n",
    "pairs_dict"
   ],
   "metadata": {
    "collapsed": false,
    "pycharm": {
     "name": "#%%\n"
    }
   }
  },
  {
   "cell_type": "code",
   "execution_count": 10,
   "outputs": [],
   "source": [
    "n = int(len(parsed_sents)*0.1)\n",
    "train, test = parsed_sents[:-n], parsed_sents[-n:]"
   ],
   "metadata": {
    "collapsed": false,
    "pycharm": {
     "name": "#%%\n"
    }
   }
  },
  {
   "cell_type": "code",
   "execution_count": 11,
   "outputs": [
    {
     "data": {
      "text/plain": "(3523, 391)"
     },
     "execution_count": 11,
     "metadata": {},
     "output_type": "execute_result"
    }
   ],
   "source": [
    "len(train), len(test)"
   ],
   "metadata": {
    "collapsed": false,
    "pycharm": {
     "name": "#%%\n"
    }
   }
  },
  {
   "cell_type": "code",
   "execution_count": 21,
   "outputs": [
    {
     "name": "stdout",
     "output_type": "stream",
     "text": [
      "['__class__', '__delattr__', '__dict__', '__dir__', '__doc__', '__eq__', '__format__', '__ge__', '__getattribute__', '__gt__', '__hash__', '__init__', '__init_subclass__', '__le__', '__lt__', '__module__', '__ne__', '__new__', '__reduce__', '__reduce_ex__', '__repr__', '__setattr__', '__sizeof__', '__str__', '__subclasshook__', '__weakref__', '_hd', '_parse', '_rel', '_repr_svg_', '_tree', '_word', 'add_arc', 'add_node', 'connect_graph', 'contains_address', 'contains_cycle', 'get_by_address', 'get_cycle_path', 'left_children', 'load', 'nodes', 'nx_graph', 'redirect_arcs', 'remove_by_address', 'right_children', 'root', 'to_conll', 'to_dot', 'top_relation_label', 'tree', 'triples']\n"
     ]
    }
   ],
   "source": [
    "print(dir(parsed_sents[0]))"
   ],
   "metadata": {
    "collapsed": false,
    "pycharm": {
     "name": "#%%\n"
    }
   }
  },
  {
   "cell_type": "code",
   "execution_count": null,
   "outputs": [],
   "source": [
    "def feature_function(w1, w2, sent):\n",
    "    pass"
   ],
   "metadata": {
    "collapsed": false,
    "pycharm": {
     "name": "#%%\n"
    }
   }
  },
  {
   "cell_type": "code",
   "execution_count": 47,
   "outputs": [
    {
     "data": {
      "text/plain": "<networkx.classes.multidigraph.MultiDiGraph at 0x24787931490>"
     },
     "execution_count": 47,
     "metadata": {},
     "output_type": "execute_result"
    }
   ],
   "source": [
    "from networkx import MultiDiGraph\n",
    "dg.nx_graph()"
   ],
   "metadata": {
    "collapsed": false,
    "pycharm": {
     "name": "#%%\n"
    }
   }
  },
  {
   "cell_type": "code",
   "execution_count": null,
   "outputs": [],
   "source": [],
   "metadata": {
    "collapsed": false,
    "pycharm": {
     "name": "#%%\n"
    }
   }
  }
 ],
 "metadata": {
  "kernelspec": {
   "display_name": "Python 3",
   "language": "python",
   "name": "python3"
  },
  "language_info": {
   "codemirror_mode": {
    "name": "ipython",
    "version": 2
   },
   "file_extension": ".py",
   "mimetype": "text/x-python",
   "name": "python",
   "nbconvert_exporter": "python",
   "pygments_lexer": "ipython2",
   "version": "2.7.6"
  }
 },
 "nbformat": 4,
 "nbformat_minor": 0
}