{
 "cells": [
  {
   "cell_type": "markdown",
   "source": [
    "# Ex4\n",
    "Eliav Dayanof 208674556\n",
    "Chaya Lasry, 209911379"
   ],
   "metadata": {
    "collapsed": false,
    "pycharm": {
     "name": "#%% md\n"
    }
   }
  },
  {
   "cell_type": "code",
   "execution_count": null,
   "metadata": {
    "collapsed": true
   },
   "outputs": [],
   "source": [
    "import nltk\n",
    "from collections import Counter, defaultdict, namedtuple\n",
    "from networkx import DiGraph\n",
    "from nltk.corpus import dependency_treebank\n",
    "import graphviz\n",
    "import os\n",
    "import random\n",
    "import numpy as np\n",
    "from networkx.drawing.nx_agraph import write_dot, read_dot\n",
    "from networkx import minimum_spanning_arborescence\n",
    "from nltk.parse import DependencyGraph\n",
    "from networkx.drawing.nx_agraph import to_agraph\n",
    "import time\n",
    "from sklearn.externals._packaging.version import Tuple\n",
    "import networkx as nx\n",
    "\n",
    "nltk.download('dependency_treebank')\n",
    "random.seed(10)"
   ]
  },
  {
   "cell_type": "code",
   "execution_count": null,
   "outputs": [],
   "source": [
    "sentences = dependency_treebank.parsed_sents()\n",
    "k = len(sentences) // 10\n",
    "train, test = sentences[:-k], sentences[-k:]\n",
    "print(len(train))\n",
    "from Chu_Liu_Edmonds_algorithm import min_spanning_arborescence_nx\n",
    "\n",
    "\n",
    "def triples_to_counter(triples, lr=1):\n",
    "    c = Counter()\n",
    "    for x in triples:\n",
    "        z = zip(x[0], x[-1])\n",
    "        for i in range(lr):\n",
    "            c.update(z)\n",
    "    return c\n",
    "\n",
    "\n",
    "def edges_to_counter(edges, dg, lr=1):\n",
    "    c = Counter()\n",
    "    for i, j in edges:\n",
    "        c.update(inds_to_feats(i, j, dg))\n",
    "    return c\n",
    "\n",
    "\n",
    "def score(features, weights):\n",
    "    return sum(weights[f] for f in features)\n",
    "\n",
    "\n",
    "def inds_to_feats(i, j, dg):\n",
    "    return [(dg.nodes[i]['word'], dg.nodes[j]['word']), (dg.nodes[i]['tag'], dg.nodes[j]['tag'])]\n",
    "\n",
    "\n",
    "def get_weight(i, j, dg, w):\n",
    "    return score(inds_to_feats(i, j, dg), w)\n",
    "\n",
    "\n",
    "def get_mst(dg: DependencyGraph, w):\n",
    "    G = DiGraph()\n",
    "    # nodes = dg.nodes.values()\n",
    "    import itertools\n",
    "    for i, j in itertools.product(range(len(dg.nodes)), range(len(dg.nodes))):\n",
    "        if i != j and j != 0:\n",
    "            G.add_edge(i, j, weight=-get_weight(i, j, dg, w))\n",
    "    # for i, n1 in enumerate(nodes):\n",
    "    #     for j, n2 in enumerate(nodes):\n",
    "    return minimum_spanning_arborescence(G) if len(dg.nodes) else dg\n",
    "\n",
    "\n",
    "def perceptron(lr=1, max_iter=2):\n",
    "    w, total_w = Counter(), Counter()\n",
    "    st = time.time()\n",
    "    for r in range(max_iter):\n",
    "        random.shuffle(train)\n",
    "        for i, dg in enumerate(train):\n",
    "            T_prime = get_mst(dg, w)\n",
    "            print(f\"Iteration {i}:\\n\"\n",
    "                  f\"Current runtime: {time.time() - st}\\n\")\n",
    "            w.update(triples_to_counter(dg.triples(), lr))\n",
    "            w.subtract(edges_to_counter(T_prime.edges(), dg, lr))\n",
    "            total_w.update(w)\n",
    "    print(f\"runtime: {time.time() - st} seconds\\n\")\n",
    "    return total_w\n",
    "\n",
    "\n",
    "def train_perceptron(lr=1, max_iter=2):\n",
    "    weights = perceptron(lr, max_iter)\n",
    "    for key in weights:\n",
    "        weights[key] /= max_iter * len(train)\n",
    "    return weights\n",
    "\n"
   ],
   "metadata": {
    "collapsed": false,
    "pycharm": {
     "name": "#%%\n"
    }
   }
  },
  {
   "cell_type": "code",
   "execution_count": null,
   "outputs": [],
   "source": [
    "mst_counter = train_perceptron()\n",
    "mst_counter"
   ],
   "metadata": {
    "collapsed": false,
    "pycharm": {
     "name": "#%%\n"
    }
   }
  },
  {
   "cell_type": "code",
   "execution_count": null,
   "outputs": [],
   "source": [
    "def loss(t1_gold: DependencyGraph, t2_pred: DiGraph) -> int:\n",
    "    gold_nodes = t1_gold.nodes\n",
    "    l2 = sum(gold_nodes[e[1]]['head'] == e[0] for e in t2_pred.edges) / (len(gold_nodes) - 1)\n",
    "    return l2\n",
    "\n",
    "\n",
    "def acc():\n",
    "    return np.mean([loss(dg, get_mst(dg, mst_counter)) for dg in test])\n",
    "\n",
    "\n",
    "print(acc()) # 0.3633332601944238"
   ],
   "metadata": {
    "collapsed": false,
    "pycharm": {
     "name": "#%%\n"
    }
   }
  }
 ],
 "metadata": {
  "kernelspec": {
   "display_name": "Python 3",
   "language": "python",
   "name": "python3"
  },
  "language_info": {
   "codemirror_mode": {
    "name": "ipython",
    "version": 2
   },
   "file_extension": ".py",
   "mimetype": "text/x-python",
   "name": "python",
   "nbconvert_exporter": "python",
   "pygments_lexer": "ipython2",
   "version": "2.7.6"
  }
 },
 "nbformat": 4,
 "nbformat_minor": 0
}